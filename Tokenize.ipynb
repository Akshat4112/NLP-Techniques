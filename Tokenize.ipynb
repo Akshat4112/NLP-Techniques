{
 "cells": [
  {
   "cell_type": "markdown",
   "metadata": {},
   "source": [
    "## Tokenization "
   ]
  },
  {
   "cell_type": "markdown",
   "metadata": {},
   "source": [
    "First we will import required libraries, we will use nltk for tokenization\n",
    "\n",
    "There are following types of tokenizer:\n",
    "1. Sentence Tokenizer\n",
    "2. Word Tokenizer\n",
    "3. Tweet Tokenizer\n",
    "4. Space Tokenizer\n",
    "5. Tab Tokenizer\n",
    "6. Line Tokenizer\n",
    "7. Stanford Tokenizer\n",
    "8. MWE Tokenizer\n",
    "9. WordPunct Tokenizer"
   ]
  },
  {
   "cell_type": "markdown",
   "metadata": {},
   "source": [
    "Importing relevant tokenizersfrom nltk"
   ]
  },
  {
   "cell_type": "code",
   "execution_count": 7,
   "metadata": {},
   "outputs": [],
   "source": [
    "from nltk.tokenize import sent_tokenize\n",
    "from nltk.tokenize import word_tokenize\n",
    "from nltk.tokenize import TabTokenizer\n",
    "from nltk.tokenize import LineTokenizer\n",
    "from nltk.tokenize import MWETokenizer\n",
    "from nltk.tokenize import SpaceTokenizer\n",
    "from nltk.tokenize import WhitespaceTokenizer"
   ]
  },
  {
   "cell_type": "markdown",
   "metadata": {},
   "source": [
    "Input text which we are going to tokenize"
   ]
  },
  {
   "cell_type": "code",
   "execution_count": 9,
   "metadata": {},
   "outputs": [],
   "source": [
    "text = \"Natural language processing (NLP) is a field of computer science, artificial intelligence\""
   ]
  },
  {
   "cell_type": "code",
   "execution_count": null,
   "metadata": {},
   "outputs": [],
   "source": []
  }
 ],
 "metadata": {
  "kernelspec": {
   "display_name": "Python 3",
   "language": "python",
   "name": "python3"
  },
  "language_info": {
   "codemirror_mode": {
    "name": "ipython",
    "version": 3
   },
   "file_extension": ".py",
   "mimetype": "text/x-python",
   "name": "python",
   "nbconvert_exporter": "python",
   "pygments_lexer": "ipython3",
   "version": "3.6.0"
  }
 },
 "nbformat": 4,
 "nbformat_minor": 2
}
