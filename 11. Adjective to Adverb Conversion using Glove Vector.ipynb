{
 "cells": [
  {
   "cell_type": "code",
   "execution_count": 1,
   "metadata": {},
   "outputs": [
    {
     "name": "stderr",
     "output_type": "stream",
     "text": [
      "C:\\Users\\dell\\AppData\\Local\\Programs\\Python\\Python36\\lib\\runpy.py:125: RuntimeWarning: 'gensim.scripts.glove2word2vec' found in sys.modules after import of package 'gensim.scripts', but prior to execution of 'gensim.scripts.glove2word2vec'; this may result in unpredictable behaviour\n",
      "  warn(RuntimeWarning(msg))\n",
      "2020-02-25 14:37:28,906 - glove2word2vec - INFO - running C:\\Users\\dell\\AppData\\Local\\Programs\\Python\\Python36\\lib\\site-packages\\gensim\\scripts\\glove2word2vec.py -i glove.6B.100d.txt -o glove-word2vec.6B.100d.txt\n",
      "Traceback (most recent call last):\n",
      "  File \"C:\\Users\\dell\\AppData\\Local\\Programs\\Python\\Python36\\lib\\runpy.py\", line 193, in _run_module_as_main\n",
      "    \"__main__\", mod_spec)\n",
      "  File \"C:\\Users\\dell\\AppData\\Local\\Programs\\Python\\Python36\\lib\\runpy.py\", line 85, in _run_code\n",
      "    exec(code, run_globals)\n",
      "  File \"C:\\Users\\dell\\AppData\\Local\\Programs\\Python\\Python36\\lib\\site-packages\\gensim\\scripts\\glove2word2vec.py\", line 122, in <module>\n",
      "    num_lines, num_dims = glove2word2vec(args.input, args.output)\n",
      "  File \"C:\\Users\\dell\\AppData\\Local\\Programs\\Python\\Python36\\lib\\site-packages\\gensim\\scripts\\glove2word2vec.py\", line 104, in glove2word2vec\n",
      "    num_lines, num_dims = get_glove_info(glove_input_file)\n",
      "  File \"C:\\Users\\dell\\AppData\\Local\\Programs\\Python\\Python36\\lib\\site-packages\\gensim\\scripts\\glove2word2vec.py\", line 81, in get_glove_info\n",
      "    with utils.open(glove_file_name, 'rb') as f:\n",
      "  File \"C:\\Users\\dell\\AppData\\Local\\Programs\\Python\\Python36\\lib\\site-packages\\smart_open\\smart_open_lib.py\", line 307, in open\n",
      "    errors=errors,\n",
      "  File \"C:\\Users\\dell\\AppData\\Local\\Programs\\Python\\Python36\\lib\\site-packages\\smart_open\\smart_open_lib.py\", line 512, in _shortcut_open\n",
      "    return _builtin_open(parsed_uri.uri_path, mode, buffering=buffering, **open_kwargs)\n",
      "FileNotFoundError: [Errno 2] No such file or directory: 'glove.6B.100d.txt'\n"
     ]
    }
   ],
   "source": [
    "!python -m gensim.scripts.glove2word2vec -i glove.6B.100d.txt -o glove-word2vec.6B.100d.txt"
   ]
  },
  {
   "cell_type": "code",
   "execution_count": 12,
   "metadata": {},
   "outputs": [
    {
     "name": "stdout",
     "output_type": "stream",
     "text": [
      "[('queen', 0.7698541283607483), ('monarch', 0.6843380928039551), ('throne', 0.6755735874176025), ('daughter', 0.6594556570053101), ('princess', 0.6520534753799438), ('prince', 0.6517034769058228), ('elizabeth', 0.6464517712593079), ('mother', 0.6311717629432678), ('emperor', 0.6106470823287964), ('wife', 0.6098655462265015)]\n"
     ]
    }
   ],
   "source": [
    "from gensim.models.keyedvectors import KeyedVectors\n",
    "glove_filename = 'datasets/glove6b/glove-word2vec.6B.100d.txt'\n",
    "model = KeyedVectors.load_word2vec_format(glove_filename, binary=False)\n",
    "print(model.most_similar(positive=['woman', 'king'], negative=['man']))"
   ]
  },
  {
   "cell_type": "code",
   "execution_count": 13,
   "metadata": {},
   "outputs": [],
   "source": [
    "from difflib import SequenceMatcher\n",
    "\n",
    "def close_adv(input, num=5, model_topn=50):\n",
    "  positive = [input, 'happily']\n",
    "  negative = [       'happy']\n",
    "  all_similar = model.most_similar(positive, negative, topn=model_topn)\n",
    "\n",
    "  def score(candidate):\n",
    "    ratio = SequenceMatcher(None, candidate, input).ratio()\n",
    "    looks_like_adv = 1.0 if candidate.endswith('ly') else 0.0\n",
    "    return ratio + looks_like_adv\n",
    "\n",
    "  close = sorted([(word, score(word)) for word, _ in all_similar], key=lambda x: -x[1])\n",
    "  return close[:num]"
   ]
  },
  {
   "cell_type": "code",
   "execution_count": 14,
   "metadata": {},
   "outputs": [
    {
     "name": "stdout",
     "output_type": "stream",
     "text": [
      "[('strongly', 1.8571428571428572), ('slowly', 1.3333333333333333), ('increasingly', 1.3333333333333333), ('sharply', 1.3076923076923077), ('largely', 1.3076923076923077)]\n",
      "[('notably', 1.8571428571428572), ('principally', 1.3333333333333333), ('primarily', 1.25), ('prominently', 1.2222222222222223), ('chiefly', 1.1428571428571428)]\n",
      "[('rapidly', 1.1818181818181819), ('briefly', 1.1818181818181819), ('steadily', 1.1666666666666667), ('dangerously', 1.1333333333333333), ('continuously', 1.125)]\n",
      "[('quickly', 1.8333333333333335), ('quietly', 1.5), ('briskly', 1.3333333333333333), ('furiously', 1.2857142857142856), ('furtively', 1.2857142857142856)]\n",
      "[('horribly', 1.625), ('heroically', 1.4444444444444444), ('silently', 1.375), ('uncontrollably', 1.3636363636363638), ('stoically', 1.3529411764705883)]\n",
      "[('quietly', 1.8333333333333335), ('silently', 1.4615384615384617), ('patiently', 1.4285714285714286), ('discreetly', 1.4), ('fitfully', 1.3076923076923077)]\n"
     ]
    }
   ],
   "source": [
    "print(close_adv('strong'))\n",
    "print(close_adv('notable'))\n",
    "print(close_adv('high'))\n",
    "print(close_adv('quick'))\n",
    "print(close_adv('terrible'))\n",
    "print(close_adv('quiet'))"
   ]
  },
  {
   "cell_type": "code",
   "execution_count": null,
   "metadata": {},
   "outputs": [],
   "source": []
  }
 ],
 "metadata": {
  "kernelspec": {
   "display_name": "Python 3",
   "language": "python",
   "name": "python3"
  },
  "language_info": {
   "codemirror_mode": {
    "name": "ipython",
    "version": 3
   },
   "file_extension": ".py",
   "mimetype": "text/x-python",
   "name": "python",
   "nbconvert_exporter": "python",
   "pygments_lexer": "ipython3",
   "version": "3.6.5"
  }
 },
 "nbformat": 4,
 "nbformat_minor": 2
}
