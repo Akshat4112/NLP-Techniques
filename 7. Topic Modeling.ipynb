{
 "cells": [
  {
   "cell_type": "code",
   "execution_count": 6,
   "metadata": {},
   "outputs": [],
   "source": [
    "import re\n",
    "import numpy as np\n",
    "import pandas as pd\n",
    "from pprint import pprint\n",
    "\n",
    "# Gensim\n",
    "import gensim\n",
    "import gensim.corpora as corpora\n",
    "from gensim.utils import simple_preprocess\n",
    "from gensim.models import CoherenceModel\n",
    "\n",
    "# spacy for lemmatization\n",
    "import spacy\n",
    "\n",
    "# Plotting tools\n",
    "import pyLDAvis\n",
    "import pyLDAvis.gensim  # don't skip this\n",
    "import matplotlib.pyplot as plt\n",
    "%matplotlib inline\n",
    "\n",
    "# Enable logging for gensim - optional\n",
    "import logging\n",
    "logging.basicConfig(format='%(asctime)s : %(levelname)s : %(message)s', level=logging.ERROR)\n",
    "\n",
    "import warnings\n",
    "warnings.filterwarnings(\"ignore\",category=DeprecationWarning)"
   ]
  },
  {
   "cell_type": "code",
   "execution_count": 7,
   "metadata": {},
   "outputs": [],
   "source": [
    "# NLTK Stop words\n",
    "from nltk.corpus import stopwords\n",
    "stop_words = stopwords.words('english')\n",
    "stop_words.extend(['from', 'subject', 're', 'edu', 'use'])"
   ]
  },
  {
   "cell_type": "code",
   "execution_count": 8,
   "metadata": {},
   "outputs": [
    {
     "name": "stdout",
     "output_type": "stream",
     "text": [
      "['rec.autos' 'comp.sys.mac.hardware' 'comp.graphics' 'sci.space'\n",
      " 'talk.politics.guns' 'sci.med' 'comp.sys.ibm.pc.hardware'\n",
      " 'comp.os.ms-windows.misc' 'rec.motorcycles' 'talk.religion.misc'\n",
      " 'misc.forsale' 'alt.atheism' 'sci.electronics' 'comp.windows.x'\n",
      " 'rec.sport.hockey' 'rec.sport.baseball' 'soc.religion.christian'\n",
      " 'talk.politics.mideast' 'talk.politics.misc' 'sci.crypt']\n"
     ]
    },
    {
     "data": {
      "text/html": [
       "<div>\n",
       "<style scoped>\n",
       "    .dataframe tbody tr th:only-of-type {\n",
       "        vertical-align: middle;\n",
       "    }\n",
       "\n",
       "    .dataframe tbody tr th {\n",
       "        vertical-align: top;\n",
       "    }\n",
       "\n",
       "    .dataframe thead th {\n",
       "        text-align: right;\n",
       "    }\n",
       "</style>\n",
       "<table border=\"1\" class=\"dataframe\">\n",
       "  <thead>\n",
       "    <tr style=\"text-align: right;\">\n",
       "      <th></th>\n",
       "      <th>content</th>\n",
       "      <th>target</th>\n",
       "      <th>target_names</th>\n",
       "    </tr>\n",
       "  </thead>\n",
       "  <tbody>\n",
       "    <tr>\n",
       "      <td>0</td>\n",
       "      <td>From: lerxst@wam.umd.edu (where's my thing)\\nS...</td>\n",
       "      <td>7</td>\n",
       "      <td>rec.autos</td>\n",
       "    </tr>\n",
       "    <tr>\n",
       "      <td>1</td>\n",
       "      <td>From: guykuo@carson.u.washington.edu (Guy Kuo)...</td>\n",
       "      <td>4</td>\n",
       "      <td>comp.sys.mac.hardware</td>\n",
       "    </tr>\n",
       "    <tr>\n",
       "      <td>2</td>\n",
       "      <td>From: twillis@ec.ecn.purdue.edu (Thomas E Will...</td>\n",
       "      <td>4</td>\n",
       "      <td>comp.sys.mac.hardware</td>\n",
       "    </tr>\n",
       "    <tr>\n",
       "      <td>3</td>\n",
       "      <td>From: jgreen@amber (Joe Green)\\nSubject: Re: W...</td>\n",
       "      <td>1</td>\n",
       "      <td>comp.graphics</td>\n",
       "    </tr>\n",
       "    <tr>\n",
       "      <td>4</td>\n",
       "      <td>From: jcm@head-cfa.harvard.edu (Jonathan McDow...</td>\n",
       "      <td>14</td>\n",
       "      <td>sci.space</td>\n",
       "    </tr>\n",
       "  </tbody>\n",
       "</table>\n",
       "</div>"
      ],
      "text/plain": [
       "                                             content  target  \\\n",
       "0  From: lerxst@wam.umd.edu (where's my thing)\\nS...       7   \n",
       "1  From: guykuo@carson.u.washington.edu (Guy Kuo)...       4   \n",
       "2  From: twillis@ec.ecn.purdue.edu (Thomas E Will...       4   \n",
       "3  From: jgreen@amber (Joe Green)\\nSubject: Re: W...       1   \n",
       "4  From: jcm@head-cfa.harvard.edu (Jonathan McDow...      14   \n",
       "\n",
       "            target_names  \n",
       "0              rec.autos  \n",
       "1  comp.sys.mac.hardware  \n",
       "2  comp.sys.mac.hardware  \n",
       "3          comp.graphics  \n",
       "4              sci.space  "
      ]
     },
     "execution_count": 8,
     "metadata": {},
     "output_type": "execute_result"
    }
   ],
   "source": [
    "# Import Dataset\n",
    "df = pd.read_json('https://raw.githubusercontent.com/selva86/datasets/master/newsgroups.json')\n",
    "print(df.target_names.unique())\n",
    "df.head()"
   ]
  },
  {
   "cell_type": "code",
   "execution_count": 9,
   "metadata": {},
   "outputs": [
    {
     "name": "stdout",
     "output_type": "stream",
     "text": [
      "['From: (wheres my thing) Subject: WHAT car is this!? Nntp-Posting-Host: '\n",
      " 'rac3.wam.umd.edu Organization: University of Maryland, College Park Lines: '\n",
      " '15 I was wondering if anyone out there could enlighten me on this car I saw '\n",
      " 'the other day. It was a 2-door sports car, looked to be from the late 60s/ '\n",
      " 'early 70s. It was called a Bricklin. The doors were really small. In '\n",
      " 'addition, the front bumper was separate from the rest of the body. This is '\n",
      " 'all I know. If anyone can tellme a model name, engine specs, years of '\n",
      " 'production, where this car is made, history, or whatever info you have on '\n",
      " 'this funky looking car, please e-mail. Thanks, - IL ---- brought to you by '\n",
      " 'your neighborhood Lerxst ---- ']\n"
     ]
    }
   ],
   "source": [
    "# Convert to list\n",
    "data = df.content.values.tolist()\n",
    "\n",
    "# Remove Emails\n",
    "data = [re.sub('\\S*@\\S*\\s?', '', sent) for sent in data]\n",
    "\n",
    "# Remove new line characters\n",
    "data = [re.sub('\\s+', ' ', sent) for sent in data]\n",
    "\n",
    "# Remove distracting single quotes\n",
    "data = [re.sub(\"\\'\", \"\", sent) for sent in data]\n",
    "\n",
    "pprint(data[:1])"
   ]
  },
  {
   "cell_type": "code",
   "execution_count": 10,
   "metadata": {},
   "outputs": [
    {
     "name": "stdout",
     "output_type": "stream",
     "text": [
      "[['from', 'wheres', 'my', 'thing', 'subject', 'what', 'car', 'is', 'this', 'nntp', 'posting', 'host', 'rac', 'wam', 'umd', 'edu', 'organization', 'university', 'of', 'maryland', 'college', 'park', 'lines', 'was', 'wondering', 'if', 'anyone', 'out', 'there', 'could', 'enlighten', 'me', 'on', 'this', 'car', 'saw', 'the', 'other', 'day', 'it', 'was', 'door', 'sports', 'car', 'looked', 'to', 'be', 'from', 'the', 'late', 'early', 'it', 'was', 'called', 'bricklin', 'the', 'doors', 'were', 'really', 'small', 'in', 'addition', 'the', 'front', 'bumper', 'was', 'separate', 'from', 'the', 'rest', 'of', 'the', 'body', 'this', 'is', 'all', 'know', 'if', 'anyone', 'can', 'tellme', 'model', 'name', 'engine', 'specs', 'years', 'of', 'production', 'where', 'this', 'car', 'is', 'made', 'history', 'or', 'whatever', 'info', 'you', 'have', 'on', 'this', 'funky', 'looking', 'car', 'please', 'mail', 'thanks', 'il', 'brought', 'to', 'you', 'by', 'your', 'neighborhood', 'lerxst']]\n"
     ]
    }
   ],
   "source": [
    "def sent_to_words(sentences):\n",
    "    for sentence in sentences:\n",
    "        yield(gensim.utils.simple_preprocess(str(sentence), deacc=True))  # deacc=True removes punctuations\n",
    "\n",
    "data_words = list(sent_to_words(data))\n",
    "\n",
    "print(data_words[:1])"
   ]
  },
  {
   "cell_type": "code",
   "execution_count": 11,
   "metadata": {},
   "outputs": [
    {
     "name": "stdout",
     "output_type": "stream",
     "text": [
      "['from', 'wheres', 'my', 'thing', 'subject', 'what', 'car', 'is', 'this', 'nntp_posting_host', 'rac_wam_umd_edu', 'organization', 'university', 'of', 'maryland_college_park', 'lines', 'was', 'wondering', 'if', 'anyone', 'out', 'there', 'could', 'enlighten', 'me', 'on', 'this', 'car', 'saw', 'the', 'other', 'day', 'it', 'was', 'door', 'sports', 'car', 'looked', 'to', 'be', 'from', 'the', 'late', 'early', 'it', 'was', 'called', 'bricklin', 'the', 'doors', 'were', 'really', 'small', 'in', 'addition', 'the', 'front_bumper', 'was', 'separate', 'from', 'the', 'rest', 'of', 'the', 'body', 'this', 'is', 'all', 'know', 'if', 'anyone', 'can', 'tellme', 'model', 'name', 'engine', 'specs', 'years', 'of', 'production', 'where', 'this', 'car', 'is', 'made', 'history', 'or', 'whatever', 'info', 'you', 'have', 'on', 'this', 'funky', 'looking', 'car', 'please', 'mail', 'thanks', 'il', 'brought', 'to', 'you', 'by', 'your', 'neighborhood', 'lerxst']\n"
     ]
    }
   ],
   "source": [
    "# Build the bigram and trigram models\n",
    "bigram = gensim.models.Phrases(data_words, min_count=5, threshold=100) # higher threshold fewer phrases.\n",
    "trigram = gensim.models.Phrases(bigram[data_words], threshold=100)  \n",
    "\n",
    "# Faster way to get a sentence clubbed as a trigram/bigram\n",
    "bigram_mod = gensim.models.phrases.Phraser(bigram)\n",
    "trigram_mod = gensim.models.phrases.Phraser(trigram)\n",
    "\n",
    "# See trigram example\n",
    "print(trigram_mod[bigram_mod[data_words[0]]])"
   ]
  },
  {
   "cell_type": "code",
   "execution_count": 12,
   "metadata": {},
   "outputs": [],
   "source": [
    "# Define functions for stopwords, bigrams, trigrams and lemmatization\n",
    "def remove_stopwords(texts):\n",
    "    return [[word for word in simple_preprocess(str(doc)) if word not in stop_words] for doc in texts]\n",
    "\n",
    "def make_bigrams(texts):\n",
    "    return [bigram_mod[doc] for doc in texts]\n",
    "\n",
    "def make_trigrams(texts):\n",
    "    return [trigram_mod[bigram_mod[doc]] for doc in texts]\n",
    "\n",
    "def lemmatization(texts, allowed_postags=['NOUN', 'ADJ', 'VERB', 'ADV']):\n",
    "    \"\"\"https://spacy.io/api/annotation\"\"\"\n",
    "    texts_out = []\n",
    "    for sent in texts:\n",
    "        doc = nlp(\" \".join(sent)) \n",
    "        texts_out.append([token.lemma_ for token in doc if token.pos_ in allowed_postags])\n",
    "    return texts_out"
   ]
  },
  {
   "cell_type": "code",
   "execution_count": 13,
   "metadata": {},
   "outputs": [
    {
     "name": "stdout",
     "output_type": "stream",
     "text": [
      "[['where', 's', 'thing', 'car', 'nntp_posting', 'host', 'line', 'wonder', 'enlighten', 'car', 'see', 'day', 'door', 'sport', 'car', 'look', 'late', 'early', 'call', 'door', 'really', 'small', 'addition', 'front_bumper', 'separate', 'rest', 'body', 'know', 'year', 'production', 'car', 'make', 'history', 'info', 'funky', 'look', 'car', 'mail', 'thank', 'bring', 'neighborhood', 'lerxst']]\n"
     ]
    }
   ],
   "source": [
    "# Remove Stop Words\n",
    "data_words_nostops = remove_stopwords(data_words)\n",
    "\n",
    "# Form Bigrams\n",
    "data_words_bigrams = make_bigrams(data_words_nostops)\n",
    "\n",
    "# Initialize spacy 'en' model, keeping only tagger component (for efficiency)\n",
    "# python3 -m spacy download en\n",
    "nlp = spacy.load('en', disable=['parser', 'ner'])\n",
    "\n",
    "# Do lemmatization keeping only noun, adj, vb, adv\n",
    "data_lemmatized = lemmatization(data_words_bigrams, allowed_postags=['NOUN', 'ADJ', 'VERB', 'ADV'])\n",
    "\n",
    "print(data_lemmatized[:1])"
   ]
  },
  {
   "cell_type": "code",
   "execution_count": 14,
   "metadata": {},
   "outputs": [
    {
     "name": "stdout",
     "output_type": "stream",
     "text": [
      "[[(0, 1), (1, 1), (2, 1), (3, 1), (4, 5), (5, 1), (6, 2), (7, 1), (8, 1), (9, 1), (10, 1), (11, 1), (12, 1), (13, 1), (14, 1), (15, 1), (16, 1), (17, 1), (18, 2), (19, 1), (20, 1), (21, 1), (22, 1), (23, 1), (24, 1), (25, 1), (26, 1), (27, 1), (28, 1), (29, 1), (30, 1), (31, 1), (32, 1), (33, 1), (34, 1), (35, 1)]]\n"
     ]
    }
   ],
   "source": [
    "# Create Dictionary\n",
    "id2word = corpora.Dictionary(data_lemmatized)\n",
    "\n",
    "# Create Corpus\n",
    "texts = data_lemmatized\n",
    "\n",
    "# Term Document Frequency\n",
    "corpus = [id2word.doc2bow(text) for text in texts]\n",
    "\n",
    "# View\n",
    "print(corpus[:1])"
   ]
  },
  {
   "cell_type": "code",
   "execution_count": 15,
   "metadata": {},
   "outputs": [
    {
     "data": {
      "text/plain": [
       "'addition'"
      ]
     },
     "execution_count": 15,
     "metadata": {},
     "output_type": "execute_result"
    }
   ],
   "source": [
    "id2word[0]"
   ]
  },
  {
   "cell_type": "code",
   "execution_count": 16,
   "metadata": {},
   "outputs": [
    {
     "data": {
      "text/plain": [
       "[[('addition', 1),\n",
       "  ('body', 1),\n",
       "  ('bring', 1),\n",
       "  ('call', 1),\n",
       "  ('car', 5),\n",
       "  ('day', 1),\n",
       "  ('door', 2),\n",
       "  ('early', 1),\n",
       "  ('enlighten', 1),\n",
       "  ('front_bumper', 1),\n",
       "  ('funky', 1),\n",
       "  ('history', 1),\n",
       "  ('host', 1),\n",
       "  ('info', 1),\n",
       "  ('know', 1),\n",
       "  ('late', 1),\n",
       "  ('lerxst', 1),\n",
       "  ('line', 1),\n",
       "  ('look', 2),\n",
       "  ('mail', 1),\n",
       "  ('make', 1),\n",
       "  ('neighborhood', 1),\n",
       "  ('nntp_posting', 1),\n",
       "  ('production', 1),\n",
       "  ('really', 1),\n",
       "  ('rest', 1),\n",
       "  ('s', 1),\n",
       "  ('see', 1),\n",
       "  ('separate', 1),\n",
       "  ('small', 1),\n",
       "  ('sport', 1),\n",
       "  ('thank', 1),\n",
       "  ('thing', 1),\n",
       "  ('where', 1),\n",
       "  ('wonder', 1),\n",
       "  ('year', 1)]]"
      ]
     },
     "execution_count": 16,
     "metadata": {},
     "output_type": "execute_result"
    }
   ],
   "source": [
    "# Human readable format of corpus (term-frequency)\n",
    "[[(id2word[id], freq) for id, freq in cp] for cp in corpus[:1]]"
   ]
  },
  {
   "cell_type": "code",
   "execution_count": 17,
   "metadata": {},
   "outputs": [],
   "source": [
    "# Build LDA model\n",
    "lda_model = gensim.models.ldamodel.LdaModel(corpus=corpus,\n",
    "                                           id2word=id2word,\n",
    "                                           num_topics=20, \n",
    "                                           random_state=100,\n",
    "                                           update_every=1,\n",
    "                                           chunksize=100,\n",
    "                                           passes=10,\n",
    "                                           alpha='auto',\n",
    "                                           per_word_topics=True)"
   ]
  },
  {
   "cell_type": "code",
   "execution_count": 18,
   "metadata": {},
   "outputs": [
    {
     "name": "stdout",
     "output_type": "stream",
     "text": [
      "[(0,\n",
      "  '0.097*\"law\" + 0.039*\"israeli\" + 0.031*\"jewish\" + 0.025*\"moral\" + '\n",
      "  '0.023*\"route\" + 0.021*\"controller\" + 0.020*\"peace\" + 0.020*\"bomb\" + '\n",
      "  '0.016*\"objective\" + 0.016*\"context\"'),\n",
      " (1,\n",
      "  '0.038*\"go\" + 0.031*\"get\" + 0.024*\"year\" + 0.021*\"time\" + 0.021*\"say\" + '\n",
      "  '0.019*\"come\" + 0.018*\"s\" + 0.017*\"take\" + 0.015*\"first\" + 0.013*\"good\"'),\n",
      " (2,\n",
      "  '0.093*\"character\" + 0.081*\"normal\" + 0.057*\"printer\" + 0.048*\"plane\" + '\n",
      "  '0.041*\"wave\" + 0.040*\"font\" + 0.039*\"surface\" + 0.029*\"corner\" + '\n",
      "  '0.020*\"distant\" + 0.018*\"reserve\"'),\n",
      " (3,\n",
      "  '0.080*\"device\" + 0.077*\"fan\" + 0.073*\"slow\" + 0.056*\"license\" + '\n",
      "  '0.039*\"hole\" + 0.025*\"expansion\" + 0.025*\"unlikely\" + 0.025*\"predict\" + '\n",
      "  '0.024*\"interface\" + 0.023*\"icon\"'),\n",
      " (4,\n",
      "  '0.103*\"car\" + 0.054*\"low\" + 0.048*\"rate\" + 0.027*\"amount\" + 0.026*\"ground\" '\n",
      "  '+ 0.023*\"advice\" + 0.022*\"engine\" + 0.021*\"speed\" + 0.017*\"foot\" + '\n",
      "  '0.017*\"light\"'),\n",
      " (5,\n",
      "  '0.031*\"new\" + 0.019*\"high\" + 0.017*\"power\" + 0.015*\"also\" + 0.015*\"buy\" + '\n",
      "  '0.014*\"large\" + 0.014*\"price\" + 0.013*\"report\" + 0.013*\"type\" + '\n",
      "  '0.013*\"order\"'),\n",
      " (6,\n",
      "  '0.049*\"system\" + 0.043*\"use\" + 0.029*\"key\" + 0.018*\"bit\" + 0.014*\"run\" + '\n",
      "  '0.014*\"chip\" + 0.014*\"need\" + 0.014*\"computer\" + 0.013*\"set\" + '\n",
      "  '0.013*\"datum\"'),\n",
      " (7,\n",
      "  '0.128*\"space\" + 0.057*\"wing\" + 0.055*\"launch\" + 0.046*\"orbit\" + '\n",
      "  '0.041*\"mission\" + 0.034*\"satellite\" + 0.031*\"flight\" + 0.030*\"earth\" + '\n",
      "  '0.025*\"schedule\" + 0.024*\"fuel\"'),\n",
      " (8,\n",
      "  '0.113*\"drive\" + 0.076*\"card\" + 0.059*\"driver\" + 0.040*\"color\" + '\n",
      "  '0.036*\"memory\" + 0.034*\"disk\" + 0.025*\"monitor\" + 0.024*\"problem\" + '\n",
      "  '0.024*\"bus\" + 0.022*\"pc\"'),\n",
      " (9,\n",
      "  '0.227*\"team\" + 0.105*\"player\" + 0.094*\"play\" + 0.071*\"season\" + '\n",
      "  '0.054*\"picture\" + 0.032*\"star\" + 0.022*\"mirror\" + 0.019*\"channel\" + '\n",
      "  '0.019*\"devil\" + 0.016*\"penguin\"'),\n",
      " (10,\n",
      "  '0.029*\"say\" + 0.023*\"people\" + 0.021*\"believe\" + 0.019*\"evidence\" + '\n",
      "  '0.019*\"reason\" + 0.013*\"claim\" + 0.013*\"fact\" + 0.012*\"sense\" + '\n",
      "  '0.011*\"mean\" + 0.011*\"many\"'),\n",
      " (11,\n",
      "  '0.148*\"gun\" + 0.049*\"weapon\" + 0.047*\"firearm\" + 0.047*\"police\" + '\n",
      "  '0.031*\"should\" + 0.028*\"safety\" + 0.027*\"cop\" + 0.023*\"crime\" + '\n",
      "  '0.020*\"shoot\" + 0.020*\"carry\"'),\n",
      " (12,\n",
      "  '0.097*\"black\" + 0.078*\"white\" + 0.066*\"revelation\" + 0.043*\"scripture\" + '\n",
      "  '0.031*\"frame\" + 0.025*\"spring\" + 0.025*\"locate\" + 0.024*\"aspect\" + '\n",
      "  '0.023*\"passage\" + 0.023*\"scale\"'),\n",
      " (13,\n",
      "  '0.032*\"people\" + 0.031*\"government\" + 0.024*\"state\" + 0.021*\"kill\" + '\n",
      "  '0.015*\"right\" + 0.013*\"force\" + 0.013*\"country\" + 0.013*\"attack\" + '\n",
      "  '0.013*\"death\" + 0.013*\"public\"'),\n",
      " (14,\n",
      "  '0.074*\"book\" + 0.040*\"study\" + 0.034*\"body\" + 0.028*\"serious\" + '\n",
      "  '0.028*\"publish\" + 0.027*\"author\" + 0.027*\"family\" + 0.025*\"special\" + '\n",
      "  '0.024*\"meet\" + 0.023*\"clearly\"'),\n",
      " (15,\n",
      "  '0.047*\"write\" + 0.045*\"line\" + 0.031*\"article\" + 0.026*\"know\" + 0.022*\"be\" '\n",
      "  '+ 0.021*\"think\" + 0.019*\"make\" + 0.015*\"organization\" + 0.014*\"want\" + '\n",
      "  '0.014*\"try\"'),\n",
      " (16,\n",
      "  '0.142*\"bike\" + 0.072*\"baseball\" + 0.038*\"dod\" + 0.034*\"tie\" + 0.029*\"pop\" + '\n",
      "  '0.025*\"giant\" + 0.024*\"hire\" + 0.014*\"slide\" + 0.012*\"suspension\" + '\n",
      "  '0.010*\"fatal\"'),\n",
      " (17,\n",
      "  '0.089*\"science\" + 0.054*\"field\" + 0.043*\"logic\" + 0.038*\"scientific\" + '\n",
      "  '0.036*\"object\" + 0.031*\"research\" + 0.026*\"development\" + 0.026*\"analysis\" '\n",
      "  '+ 0.022*\"ice\" + 0.021*\"planet\"'),\n",
      " (18,\n",
      "  '0.044*\"program\" + 0.041*\"file\" + 0.041*\"mail\" + 0.035*\"thank\" + '\n",
      "  '0.030*\"send\" + 0.029*\"window\" + 0.024*\"software\" + 0.023*\"address\" + '\n",
      "  '0.022*\"source\" + 0.022*\"image\"'),\n",
      " (19,\n",
      "  '0.083*\"trade\" + 0.058*\"pen\" + 0.056*\"upgrade\" + 0.050*\"procedure\" + '\n",
      "  '0.046*\"faq\" + 0.037*\"saturn\" + 0.032*\"clock\" + 0.030*\"floppy\" + '\n",
      "  '0.023*\"brave\" + 0.018*\"flyer\"')]\n"
     ]
    }
   ],
   "source": [
    "# Print the Keyword in the 10 topics\n",
    "pprint(lda_model.print_topics())\n",
    "doc_lda = lda_model[corpus]"
   ]
  },
  {
   "cell_type": "code",
   "execution_count": 19,
   "metadata": {},
   "outputs": [
    {
     "name": "stdout",
     "output_type": "stream",
     "text": [
      "\n",
      "Perplexity:  -13.592376443101626\n",
      "\n",
      "Coherence Score:  0.47647096032613356\n"
     ]
    }
   ],
   "source": [
    "# Compute Perplexity\n",
    "print('\\nPerplexity: ', lda_model.log_perplexity(corpus))  # a measure of how good the model is. lower the better.\n",
    "\n",
    "# Compute Coherence Score\n",
    "coherence_model_lda = CoherenceModel(model=lda_model, texts=data_lemmatized, dictionary=id2word, coherence='c_v')\n",
    "coherence_lda = coherence_model_lda.get_coherence()\n",
    "print('\\nCoherence Score: ', coherence_lda)"
   ]
  },
  {
   "cell_type": "code",
   "execution_count": 20,
   "metadata": {},
   "outputs": [
    {
     "name": "stderr",
     "output_type": "stream",
     "text": [
      "c:\\users\\dell\\appdata\\local\\programs\\python\\python36\\lib\\site-packages\\pyLDAvis\\_prepare.py:257: FutureWarning: Sorting because non-concatenation axis is not aligned. A future version\n",
      "of pandas will change to not sort by default.\n",
      "\n",
      "To accept the future behavior, pass 'sort=False'.\n",
      "\n",
      "To retain the current behavior and silence the warning, pass 'sort=True'.\n",
      "\n",
      "  return pd.concat([default_term_info] + list(topic_dfs))\n"
     ]
    },
    {
     "data": {
      "text/html": [
       "\n",
       "<link rel=\"stylesheet\" type=\"text/css\" href=\"https://cdn.rawgit.com/bmabey/pyLDAvis/files/ldavis.v1.0.0.css\">\n",
       "\n",
       "\n",
       "<div id=\"ldavis_el103321427605120608286212775\"></div>\n",
       "<script type=\"text/javascript\">\n",
       "\n",
       "var ldavis_el103321427605120608286212775_data = {\"mdsDat\": {\"x\": [0.3303387468943429, 0.30616012806682064, 0.2976987319217539, 0.19732090247193534, 0.21021779646648023, 0.16277502306026928, 0.1512963991975746, -0.0221741002284294, -0.05421818525769086, -0.05744941736440352, -0.06560179402831792, -0.12392640505236333, -0.13376172808861542, -0.13356954579944746, -0.15022987165055504, -0.16287601383523134, -0.17605888287774107, -0.18542105976659568, -0.18922276198084553, -0.20129796214894155], \"y\": [-0.10793651372662444, -0.15357458742828106, -0.14090892717097167, 0.18473511237885695, 0.20189307765054026, -0.14106281556393158, 0.16607192159209666, 0.20581978969217823, 0.03197201057527075, 0.10720474972827056, -0.016224377442561506, -0.03232945710761473, -0.038226734440167574, -0.049491246886121255, -0.026560885590687405, -0.03128355825099468, -0.03852041553745416, -0.03953118292290636, -0.04035011100087437, -0.04169584854802372], \"topics\": [1, 2, 3, 4, 5, 6, 7, 8, 9, 10, 11, 12, 13, 14, 15, 16, 17, 18, 19, 20], \"cluster\": [1, 1, 1, 1, 1, 1, 1, 1, 1, 1, 1, 1, 1, 1, 1, 1, 1, 1, 1, 1], \"Freq\": [25.89628028869629, 18.145797729492188, 13.385396003723145, 9.391538619995117, 9.011600494384766, 6.608805179595947, 5.589155673980713, 1.85237455368042, 1.8193421363830566, 1.771921992301941, 1.5737712383270264, 0.9754531383514404, 0.8053463697433472, 0.6916771531105042, 0.5700249075889587, 0.5694909691810608, 0.4219699501991272, 0.351843923330307, 0.3026585578918457, 0.265553742647171]}, \"tinfo\": {\"Category\": [\"Default\", \"Default\", \"Default\", \"Default\", \"Default\", \"Default\", \"Default\", \"Default\", \"Default\", \"Default\", \"Default\", \"Default\", \"Default\", \"Default\", \"Default\", \"Default\", \"Default\", \"Default\", \"Default\", \"Default\", \"Default\", \"Default\", \"Default\", \"Default\", \"Default\", \"Default\", \"Default\", \"Default\", \"Default\", \"Default\", \"Topic1\", \"Topic1\", \"Topic1\", \"Topic1\", \"Topic1\", \"Topic1\", \"Topic1\", \"Topic1\", \"Topic1\", \"Topic1\", \"Topic1\", \"Topic1\", \"Topic1\", \"Topic1\", \"Topic1\", \"Topic1\", \"Topic1\", \"Topic1\", \"Topic1\", \"Topic1\", \"Topic1\", \"Topic1\", \"Topic1\", \"Topic1\", \"Topic1\", \"Topic1\", \"Topic1\", \"Topic1\", \"Topic1\", \"Topic1\", \"Topic1\", \"Topic1\", \"Topic1\", \"Topic1\", \"Topic1\", \"Topic1\", \"Topic1\", \"Topic1\", \"Topic1\", \"Topic1\", \"Topic1\", \"Topic1\", \"Topic1\", \"Topic1\", \"Topic1\", \"Topic1\", \"Topic1\", \"Topic1\", \"Topic1\", \"Topic1\", \"Topic1\", \"Topic1\", \"Topic1\", \"Topic1\", \"Topic1\", \"Topic1\", \"Topic1\", \"Topic1\", \"Topic1\", \"Topic1\", \"Topic1\", \"Topic1\", \"Topic2\", \"Topic2\", \"Topic2\", \"Topic2\", \"Topic2\", \"Topic2\", \"Topic2\", \"Topic2\", \"Topic2\", \"Topic2\", \"Topic2\", \"Topic2\", \"Topic2\", \"Topic2\", \"Topic2\", \"Topic2\", \"Topic2\", \"Topic2\", \"Topic2\", \"Topic2\", \"Topic2\", \"Topic2\", \"Topic2\", \"Topic2\", \"Topic2\", \"Topic2\", \"Topic2\", \"Topic2\", \"Topic2\", \"Topic2\", \"Topic2\", \"Topic2\", \"Topic2\", \"Topic2\", \"Topic2\", \"Topic2\", \"Topic2\", \"Topic2\", \"Topic2\", \"Topic2\", \"Topic2\", \"Topic2\", \"Topic2\", \"Topic2\", \"Topic2\", \"Topic2\", \"Topic2\", \"Topic2\", \"Topic2\", \"Topic2\", \"Topic2\", \"Topic2\", \"Topic2\", \"Topic2\", \"Topic2\", \"Topic2\", \"Topic2\", \"Topic2\", \"Topic2\", \"Topic2\", \"Topic2\", \"Topic3\", \"Topic3\", \"Topic3\", \"Topic3\", \"Topic3\", \"Topic3\", \"Topic3\", \"Topic3\", \"Topic3\", \"Topic3\", \"Topic3\", \"Topic3\", \"Topic3\", \"Topic3\", \"Topic3\", \"Topic3\", \"Topic3\", \"Topic3\", \"Topic3\", \"Topic3\", \"Topic3\", \"Topic3\", \"Topic3\", \"Topic3\", \"Topic3\", \"Topic3\", \"Topic3\", \"Topic3\", \"Topic3\", \"Topic3\", \"Topic3\", \"Topic3\", \"Topic3\", \"Topic3\", \"Topic3\", \"Topic3\", \"Topic3\", \"Topic3\", \"Topic3\", \"Topic3\", \"Topic3\", \"Topic3\", \"Topic3\", \"Topic3\", \"Topic3\", \"Topic3\", \"Topic3\", \"Topic3\", \"Topic3\", \"Topic3\", \"Topic3\", \"Topic4\", \"Topic4\", \"Topic4\", \"Topic4\", \"Topic4\", \"Topic4\", \"Topic4\", \"Topic4\", \"Topic4\", \"Topic4\", \"Topic4\", \"Topic4\", \"Topic4\", \"Topic4\", \"Topic4\", \"Topic4\", \"Topic4\", \"Topic4\", \"Topic4\", \"Topic4\", \"Topic4\", \"Topic4\", \"Topic4\", \"Topic4\", \"Topic4\", \"Topic4\", \"Topic4\", \"Topic4\", \"Topic4\", \"Topic4\", \"Topic4\", \"Topic4\", \"Topic4\", \"Topic4\", \"Topic4\", \"Topic4\", \"Topic4\", \"Topic4\", \"Topic4\", \"Topic4\", \"Topic4\", \"Topic4\", \"Topic4\", \"Topic4\", \"Topic4\", \"Topic4\", \"Topic4\", \"Topic4\", \"Topic4\", \"Topic4\", \"Topic4\", \"Topic5\", \"Topic5\", \"Topic5\", \"Topic5\", \"Topic5\", \"Topic5\", \"Topic5\", \"Topic5\", \"Topic5\", \"Topic5\", \"Topic5\", \"Topic5\", \"Topic5\", \"Topic5\", \"Topic5\", \"Topic5\", \"Topic5\", \"Topic5\", \"Topic5\", \"Topic5\", \"Topic5\", \"Topic5\", \"Topic5\", \"Topic5\", \"Topic5\", \"Topic5\", \"Topic5\", \"Topic5\", \"Topic5\", \"Topic5\", \"Topic5\", \"Topic5\", \"Topic5\", \"Topic5\", \"Topic5\", \"Topic5\", \"Topic5\", \"Topic5\", \"Topic5\", \"Topic5\", \"Topic5\", \"Topic5\", \"Topic5\", \"Topic5\", \"Topic5\", \"Topic5\", \"Topic5\", \"Topic5\", \"Topic5\", \"Topic5\", \"Topic5\", \"Topic6\", \"Topic6\", \"Topic6\", \"Topic6\", \"Topic6\", \"Topic6\", \"Topic6\", \"Topic6\", \"Topic6\", \"Topic6\", \"Topic6\", \"Topic6\", \"Topic6\", \"Topic6\", \"Topic6\", \"Topic6\", \"Topic6\", \"Topic6\", \"Topic6\", \"Topic6\", \"Topic6\", \"Topic6\", \"Topic6\", \"Topic6\", \"Topic6\", \"Topic6\", \"Topic6\", \"Topic6\", \"Topic6\", \"Topic6\", \"Topic6\", \"Topic6\", \"Topic6\", \"Topic6\", \"Topic6\", \"Topic6\", \"Topic6\", \"Topic6\", \"Topic6\", \"Topic6\", \"Topic6\", \"Topic6\", \"Topic6\", \"Topic6\", \"Topic7\", \"Topic7\", \"Topic7\", \"Topic7\", \"Topic7\", \"Topic7\", \"Topic7\", \"Topic7\", \"Topic7\", \"Topic7\", \"Topic7\", \"Topic7\", \"Topic7\", \"Topic7\", \"Topic7\", \"Topic7\", \"Topic7\", \"Topic7\", \"Topic7\", \"Topic7\", \"Topic7\", \"Topic7\", \"Topic7\", \"Topic7\", \"Topic7\", \"Topic7\", \"Topic7\", \"Topic7\", \"Topic7\", \"Topic7\", \"Topic7\", \"Topic7\", \"Topic7\", \"Topic7\", \"Topic7\", \"Topic7\", \"Topic7\", \"Topic7\", \"Topic7\", \"Topic7\", \"Topic7\", \"Topic7\", \"Topic7\", \"Topic7\", \"Topic7\", \"Topic7\", \"Topic7\", \"Topic7\", \"Topic7\", \"Topic8\", \"Topic8\", \"Topic8\", \"Topic8\", \"Topic8\", \"Topic8\", \"Topic8\", \"Topic8\", \"Topic8\", \"Topic8\", \"Topic8\", \"Topic8\", \"Topic8\", \"Topic8\", \"Topic8\", \"Topic8\", \"Topic8\", \"Topic8\", \"Topic8\", \"Topic8\", \"Topic8\", \"Topic8\", \"Topic8\", \"Topic8\", \"Topic8\", \"Topic8\", \"Topic8\", \"Topic8\", \"Topic8\", \"Topic8\", \"Topic8\", \"Topic8\", \"Topic8\", \"Topic8\", \"Topic8\", \"Topic8\", \"Topic8\", \"Topic8\", \"Topic8\", \"Topic8\", \"Topic8\", \"Topic8\", \"Topic9\", \"Topic9\", \"Topic9\", \"Topic9\", \"Topic9\", \"Topic9\", \"Topic9\", \"Topic9\", \"Topic9\", \"Topic9\", \"Topic9\", \"Topic9\", \"Topic9\", \"Topic9\", \"Topic9\", \"Topic9\", \"Topic9\", \"Topic9\", \"Topic9\", \"Topic9\", \"Topic9\", \"Topic9\", \"Topic9\", \"Topic9\", \"Topic9\", \"Topic9\", \"Topic9\", \"Topic9\", \"Topic9\", \"Topic9\", \"Topic9\", \"Topic9\", \"Topic9\", \"Topic10\", \"Topic10\", \"Topic10\", \"Topic10\", \"Topic10\", \"Topic10\", \"Topic10\", \"Topic10\", \"Topic10\", \"Topic10\", \"Topic10\", \"Topic10\", \"Topic10\", \"Topic10\", \"Topic10\", \"Topic10\", \"Topic10\", \"Topic10\", \"Topic10\", \"Topic10\", \"Topic10\", \"Topic10\", \"Topic10\", \"Topic10\", \"Topic10\", \"Topic10\", \"Topic10\", \"Topic10\", \"Topic10\", \"Topic10\", \"Topic10\", \"Topic10\", \"Topic10\", \"Topic10\", \"Topic10\", \"Topic10\", \"Topic10\", \"Topic10\", \"Topic10\", \"Topic10\", \"Topic10\", \"Topic11\", \"Topic11\", \"Topic11\", \"Topic11\", \"Topic11\", \"Topic11\", \"Topic11\", \"Topic11\", \"Topic11\", \"Topic11\", \"Topic11\", \"Topic11\", \"Topic11\", \"Topic11\", \"Topic11\", \"Topic11\", \"Topic11\", \"Topic11\", \"Topic11\", \"Topic11\", \"Topic11\", \"Topic11\", \"Topic11\", \"Topic11\", \"Topic11\", \"Topic11\", \"Topic11\", \"Topic11\", \"Topic11\", \"Topic11\", \"Topic11\", \"Topic11\", \"Topic11\", \"Topic11\", \"Topic11\", \"Topic12\", \"Topic12\", \"Topic12\", \"Topic12\", \"Topic12\", \"Topic12\", \"Topic12\", \"Topic12\", \"Topic12\", \"Topic12\", \"Topic12\", \"Topic12\", \"Topic12\", \"Topic12\", \"Topic12\", \"Topic12\", \"Topic12\", \"Topic12\", \"Topic12\", \"Topic12\", \"Topic12\", \"Topic12\", \"Topic12\", \"Topic12\", \"Topic12\", \"Topic12\", \"Topic12\", \"Topic12\", \"Topic12\", \"Topic12\", \"Topic12\", \"Topic12\", \"Topic12\", \"Topic12\", \"Topic12\", \"Topic13\", \"Topic13\", \"Topic13\", \"Topic13\", \"Topic13\", \"Topic13\", \"Topic13\", \"Topic13\", \"Topic13\", \"Topic13\", \"Topic13\", \"Topic13\", \"Topic13\", \"Topic13\", \"Topic13\", \"Topic13\", \"Topic13\", \"Topic13\", \"Topic13\", \"Topic13\", \"Topic13\", \"Topic13\", \"Topic13\", \"Topic13\", \"Topic13\", \"Topic13\", \"Topic13\", \"Topic13\", \"Topic13\", \"Topic13\", \"Topic13\", \"Topic13\", \"Topic13\", \"Topic13\", \"Topic13\", \"Topic13\", \"Topic13\", \"Topic13\", \"Topic14\", \"Topic14\", \"Topic14\", \"Topic14\", \"Topic14\", \"Topic14\", \"Topic14\", \"Topic14\", \"Topic14\", \"Topic14\", \"Topic14\", \"Topic14\", \"Topic14\", \"Topic14\", \"Topic14\", \"Topic14\", \"Topic14\", \"Topic14\", \"Topic14\", \"Topic14\", \"Topic14\", \"Topic14\", \"Topic14\", \"Topic14\", \"Topic14\", \"Topic14\", \"Topic14\", \"Topic14\", \"Topic14\", \"Topic14\", \"Topic14\", \"Topic14\", \"Topic14\", \"Topic14\", \"Topic15\", \"Topic15\", \"Topic15\", \"Topic15\", \"Topic15\", \"Topic15\", \"Topic15\", \"Topic15\", \"Topic15\", \"Topic15\", \"Topic15\", \"Topic15\", \"Topic15\", \"Topic15\", \"Topic15\", \"Topic15\", \"Topic15\", \"Topic15\", \"Topic15\", \"Topic15\", \"Topic15\", \"Topic15\", \"Topic15\", \"Topic15\", \"Topic15\", \"Topic15\", \"Topic15\", \"Topic15\", \"Topic15\", \"Topic15\", \"Topic15\", \"Topic15\", \"Topic15\", \"Topic15\", \"Topic15\", \"Topic16\", \"Topic16\", \"Topic16\", \"Topic16\", \"Topic16\", \"Topic16\", \"Topic16\", \"Topic16\", \"Topic16\", \"Topic16\", \"Topic16\", \"Topic16\", \"Topic16\", \"Topic16\", \"Topic16\", \"Topic16\", \"Topic16\", \"Topic16\", \"Topic16\", \"Topic16\", \"Topic16\", \"Topic16\", \"Topic16\", \"Topic16\", \"Topic16\", \"Topic16\", \"Topic16\", \"Topic16\", \"Topic16\", \"Topic16\", \"Topic16\", \"Topic16\", \"Topic17\", \"Topic17\", \"Topic17\", \"Topic17\", \"Topic17\", \"Topic17\", \"Topic17\", \"Topic17\", \"Topic17\", \"Topic17\", \"Topic17\", \"Topic17\", \"Topic17\", \"Topic17\", \"Topic17\", \"Topic17\", \"Topic17\", \"Topic17\", \"Topic17\", \"Topic17\", \"Topic17\", \"Topic17\", \"Topic17\", \"Topic17\", \"Topic17\", \"Topic17\", \"Topic17\", \"Topic17\", \"Topic17\", \"Topic17\", \"Topic17\", \"Topic18\", \"Topic18\", \"Topic18\", \"Topic18\", \"Topic18\", \"Topic18\", \"Topic18\", \"Topic18\", \"Topic18\", \"Topic18\", \"Topic18\", \"Topic18\", \"Topic18\", \"Topic18\", \"Topic18\", \"Topic18\", \"Topic18\", \"Topic18\", \"Topic18\", \"Topic18\", \"Topic18\", \"Topic18\", \"Topic18\", \"Topic18\", \"Topic18\", \"Topic18\", \"Topic18\", \"Topic18\", \"Topic18\", \"Topic18\", \"Topic18\", \"Topic18\", \"Topic19\", \"Topic19\", \"Topic19\", \"Topic19\", \"Topic19\", \"Topic19\", \"Topic19\", \"Topic19\", \"Topic19\", \"Topic19\", \"Topic19\", \"Topic19\", \"Topic19\", \"Topic19\", \"Topic19\", \"Topic19\", \"Topic19\", \"Topic19\", \"Topic19\", \"Topic19\", \"Topic19\", \"Topic19\", \"Topic19\", \"Topic19\", \"Topic19\", \"Topic19\", \"Topic19\", \"Topic19\", \"Topic19\", \"Topic19\", \"Topic19\", \"Topic19\", \"Topic20\", \"Topic20\", \"Topic20\", \"Topic20\", \"Topic20\", \"Topic20\", \"Topic20\", \"Topic20\", \"Topic20\", \"Topic20\", \"Topic20\", \"Topic20\", \"Topic20\", \"Topic20\", \"Topic20\", \"Topic20\", \"Topic20\", \"Topic20\", \"Topic20\", \"Topic20\", \"Topic20\", \"Topic20\", \"Topic20\", \"Topic20\", \"Topic20\", \"Topic20\", \"Topic20\", \"Topic20\", \"Topic20\", \"Topic20\", \"Topic20\", \"Topic20\", \"Topic20\", \"Topic20\", \"Topic20\", \"Topic20\"], \"Freq\": [13760.0, 13694.0, 7815.0, 8982.0, 4957.0, 6163.0, 7831.0, 8825.0, 2668.0, 3850.0, 1759.0, 7502.0, 2056.0, 8434.0, 3403.0, 2747.0, 2598.0, 2575.0, 4902.0, 3440.0, 1721.0, 2975.0, 7777.0, 1369.0, 1339.0, 1580.0, 3145.0, 2292.0, 1507.0, 4834.0, 13759.765625, 8981.462890625, 4231.6728515625, 3097.90087890625, 1580.0108642578125, 1568.8111572265625, 1533.1141357421875, 1122.45458984375, 1070.6082763671875, 1017.4048461914062, 990.7955932617188, 945.5875244140625, 939.5664672851562, 926.3181762695312, 857.9764404296875, 831.3894653320312, 828.785888671875, 821.75439453125, 795.4386596679688, 787.3256225585938, 699.6953735351562, 629.8577270507812, 609.2163696289062, 592.996337890625, 590.9892578125, 554.3269653320312, 492.04736328125, 480.2463684082031, 445.38580322265625, 445.09149169921875, 4105.74755859375, 12936.19140625, 766.5963745117188, 3727.93798828125, 3959.52392578125, 2219.551025390625, 7442.19677734375, 1289.6683349609375, 4152.74267578125, 3568.76025390625, 6530.5341796875, 6063.880859375, 1377.74169921875, 3915.356689453125, 3205.806640625, 1756.4942626953125, 3185.197998046875, 2612.693603515625, 2317.548583984375, 2236.632568359375, 2874.739990234375, 5424.24462890625, 3231.285888671875, 1675.253173828125, 3977.8935546875, 2201.3359375, 2581.653564453125, 3431.154052734375, 2809.062744140625, 2618.917724609375, 2237.43359375, 2498.826416015625, 7814.552734375, 2543.93505859375, 2341.89599609375, 2051.765869140625, 1489.8953857421875, 1339.36962890625, 1306.634033203125, 908.15625, 896.7610473632812, 715.6070556640625, 713.2346801757812, 683.6136474609375, 672.8699340820312, 654.3269653320312, 639.781494140625, 637.5155639648438, 571.6539916992188, 543.8994750976562, 531.7052612304688, 520.0694580078125, 510.61236572265625, 506.4234619140625, 488.5332336425781, 457.1850280761719, 436.4558410644531, 418.3653869628906, 400.0037536621094, 395.6869201660156, 394.6416931152344, 373.6165466308594, 2178.762939453125, 4783.48779296875, 2431.57421875, 1528.333740234375, 1204.2291259765625, 1025.809326171875, 6282.33056640625, 1325.9906005859375, 3135.359375, 3662.2158203125, 3893.853515625, 1530.102294921875, 1017.8056030273438, 1279.51708984375, 1630.6357421875, 1883.6229248046875, 1651.626953125, 3372.54345703125, 4290.05078125, 1777.4007568359375, 1275.1478271484375, 4279.4287109375, 2310.088134765625, 1779.4896240234375, 2587.6875, 2157.627197265625, 1617.1292724609375, 1727.59375, 1456.4229736328125, 1597.204345703125, 1426.752197265625, 3143.95458984375, 2925.719970703125, 2002.854736328125, 1726.34716796875, 1386.643310546875, 1352.3946533203125, 1017.8486328125, 981.0921020507812, 950.9385986328125, 950.3429565429688, 946.64111328125, 933.5095825195312, 914.2749633789062, 907.4049072265625, 878.1670532226562, 874.6865234375, 846.8931274414062, 725.8086547851562, 666.5016479492188, 664.1228637695312, 656.1339111328125, 619.1409301757812, 614.064697265625, 560.35986328125, 485.6659240722656, 481.4772644042969, 473.9591979980469, 448.5198669433594, 445.168701171875, 417.3194885253906, 850.8081665039062, 1576.9541015625, 953.2421875, 2831.820068359375, 1914.8023681640625, 990.2916870117188, 1454.4090576171875, 1544.822509765625, 1269.7159423828125, 1266.10791015625, 4362.91552734375, 3429.34912109375, 1694.4364013671875, 1656.712890625, 1205.943115234375, 1008.9539184570312, 1084.775390625, 1011.8695678710938, 963.2725219726562, 976.8194580078125, 964.196533203125, 1493.8927001953125, 1443.2215576171875, 1420.286376953125, 1340.601318359375, 1276.303955078125, 945.3416748046875, 909.6034545898438, 866.58984375, 862.4214477539062, 858.7911376953125, 851.69482421875, 768.6135864257812, 656.6603393554688, 626.3517456054688, 607.9735107421875, 559.9061279296875, 522.654296875, 520.2636108398438, 508.28076171875, 500.8534851074219, 491.0979919433594, 489.6944274902344, 485.184326171875, 482.55120849609375, 477.6432189941406, 469.7157897949219, 465.8230285644531, 440.1568298339844, 427.5312805175781, 399.1463317871094, 1781.9515380859375, 927.0365600585938, 1400.2567138671875, 3218.07373046875, 877.5936279296875, 1529.1776123046875, 1248.587158203125, 1998.95654296875, 1193.126708984375, 949.3650512695312, 1377.6470947265625, 755.9569702148438, 836.4757080078125, 682.2640991210938, 1028.010498046875, 1566.935791015625, 889.8695678710938, 968.359375, 1066.949951171875, 815.398681640625, 769.1248168945312, 2974.530517578125, 1390.39013671875, 1322.15625, 1082.49267578125, 1076.1363525390625, 1004.1049194335938, 847.70947265625, 806.9414672851562, 771.6008911132812, 744.7883911132812, 690.9468994140625, 687.8536987304688, 683.0897216796875, 651.2733154296875, 583.523681640625, 502.0596008300781, 497.92840576171875, 483.3633728027344, 466.1029357910156, 433.7538146972656, 433.5752868652344, 426.5989074707031, 426.0469665527344, 415.7419128417969, 411.1997375488281, 410.9499206542969, 392.1720275878906, 386.3822326660156, 385.0796203613281, 379.652587890625, 4932.57373046875, 1265.1295166015625, 742.0521240234375, 1779.128173828125, 4336.025390625, 557.7463989257812, 1364.4884033203125, 747.8191528320312, 814.5303955078125, 1345.9918212890625, 1176.146484375, 1153.2371826171875, 947.6095581054688, 1403.5042724609375, 854.1703491210938, 1385.4044189453125, 1130.837158203125, 840.61376953125, 854.5418701171875, 809.6621704101562, 858.9774169921875, 2291.006591796875, 1523.98095703125, 978.1040649414062, 974.7421875, 766.84521484375, 733.864501953125, 686.138916015625, 637.2303466796875, 630.7274780273438, 600.5390625, 591.8203125, 585.6119995117188, 578.18505859375, 567.5656127929688, 549.5809326171875, 544.0087280273438, 499.9111022949219, 433.2699279785156, 429.7620849609375, 406.3171691894531, 398.3500061035156, 395.0942077636719, 389.1809997558594, 389.0899353027344, 388.46734619140625, 385.472412109375, 374.7171325683594, 374.23504638671875, 352.0444641113281, 347.58062744140625, 995.6655883789062, 466.81768798828125, 1766.892333984375, 643.984375, 959.7200927734375, 2362.0478515625, 435.33795166015625, 936.6009521484375, 868.1583862304688, 1141.34228515625, 677.349853515625, 495.25335693359375, 454.8966979980469, 458.8121643066406, 2746.062744140625, 2596.928466796875, 2574.010009765625, 1448.91015625, 1354.57373046875, 1264.3651123046875, 1203.3863525390625, 1062.2373046875, 1054.50048828125, 969.0680541992188, 950.10400390625, 826.0525512695312, 798.474365234375, 607.6478881835938, 474.6980895996094, 443.8957214355469, 429.91339111328125, 342.84967041015625, 319.3368225097656, 308.3544616699219, 306.60760498046875, 279.69970703125, 225.7880096435547, 214.46395874023438, 200.59254455566406, 172.6243133544922, 154.2759246826172, 153.8538055419922, 150.67124938964844, 142.79754638671875, 1802.764892578125, 1483.1998291015625, 914.5961303710938, 666.7218627929688, 552.85791015625, 1904.2520751953125, 1314.6522216796875, 1383.25390625, 2180.343505859375, 1258.500244140625, 1350.9305419921875, 851.470703125, 962.4072265625, 1319.1468505859375, 576.0533447265625, 738.8478393554688, 606.9550170898438, 647.9370727539062, 635.0706787109375, 1579.6207275390625, 823.2459716796875, 754.8989868164062, 704.0944213867188, 520.8267211914062, 490.89581298828125, 412.24822998046875, 370.49615478515625, 290.0726623535156, 259.3664245605469, 254.318115234375, 251.3793182373047, 233.370361328125, 196.04104614257812, 378.4383239746094, 148.14476013183594, 143.1151580810547, 142.59915161132812, 137.7837677001953, 136.80259704589844, 130.81668090820312, 127.6600112915039, 109.72028350830078, 109.5537109375, 108.69441986083984, 103.07391357421875, 94.0606918334961, 88.88362884521484, 81.51582336425781, 79.50579071044922, 1228.437255859375, 2342.818603515625, 453.47198486328125, 199.34063720703125, 343.7615051269531, 442.86981201171875, 375.1174011230469, 415.94696044921875, 286.03094482421875, 500.0736999511719, 323.8184509277344, 218.0542449951172, 1506.41845703125, 810.8833618164062, 575.8023071289062, 562.6001586914062, 554.5892944335938, 547.4391479492188, 510.0929870605469, 482.0969543457031, 468.17803955078125, 461.0020446777344, 415.6527404785156, 400.4801330566406, 379.8402099609375, 333.24298095703125, 297.2796936035156, 293.52630615234375, 273.1598205566406, 270.132568359375, 258.4660949707031, 252.78262329101562, 211.55111694335938, 205.23045349121094, 200.41311645507812, 198.29501342773438, 196.87115478515625, 182.11549377441406, 176.16636657714844, 175.78741455078125, 175.02877807617188, 166.34078979492188, 691.9221801757812, 405.5892639160156, 221.87960815429688, 2055.7705078125, 1075.20849609375, 958.906005859375, 535.5818481445312, 458.6644287109375, 435.05523681640625, 331.8709716796875, 313.70379638671875, 312.7470397949219, 219.82522583007812, 210.34059143066406, 206.87660217285156, 201.72183227539062, 191.2456512451172, 183.37896728515625, 176.1138916015625, 166.36204528808594, 157.5281524658203, 144.67431640625, 137.59414672851562, 126.93486022949219, 126.4253158569336, 124.36417388916016, 121.0845718383789, 118.29830932617188, 113.14364624023438, 108.08558654785156, 105.69320678710938, 100.08605194091797, 97.55308532714844, 511.1089782714844, 293.33477783203125, 408.72015380859375, 274.03826904296875, 199.79165649414062, 328.8368835449219, 220.4694366455078, 324.2547912597656, 159.5777130126953, 186.23388671875, 142.1138153076172, 1720.10400390625, 687.0881958007812, 552.751708984375, 436.65008544921875, 409.8368225097656, 362.1148986816406, 356.3092041015625, 350.4247741699219, 287.4613037109375, 270.4187927246094, 260.2674255371094, 256.6926574707031, 244.90310668945312, 244.3251953125, 233.1669158935547, 230.16525268554688, 229.49859619140625, 223.8545379638672, 216.22544860839844, 185.03451538085938, 170.48565673828125, 164.81764221191406, 162.82667541503906, 161.94654846191406, 154.9220733642578, 154.2173309326172, 149.14964294433594, 146.82044982910156, 145.89596557617188, 130.62953186035156, 287.58837890625, 234.24476623535156, 273.7839050292969, 196.137451171875, 173.4564971923828, 977.2788696289062, 586.8074340820312, 474.5970153808594, 419.2503356933594, 397.3525390625, 287.93280029296875, 280.7465515136719, 241.1508026123047, 231.4296417236328, 188.00294494628906, 173.2998809814453, 155.51609802246094, 149.9440460205078, 148.243896484375, 144.37318420410156, 141.29080200195312, 138.0318145751953, 117.11465454101562, 116.9584732055664, 113.4096450805664, 112.88958740234375, 98.8230972290039, 96.98341369628906, 90.19927215576172, 79.26644897460938, 77.07893371582031, 74.03386688232422, 68.74737548828125, 61.055320739746094, 49.61336135864258, 205.4856414794922, 177.55667114257812, 339.453857421875, 201.23255920410156, 84.2027359008789, 1338.2841796875, 446.166748046875, 427.2087097167969, 421.9830017089844, 279.99896240234375, 246.8846893310547, 167.9087371826172, 143.89134216308594, 130.20021057128906, 114.47525024414062, 112.62017059326172, 107.30558776855469, 100.5605697631836, 100.53911590576172, 94.8336181640625, 86.75231170654297, 83.38524627685547, 82.78022766113281, 81.72266387939453, 79.18717193603516, 77.26898956298828, 71.545166015625, 56.3016357421875, 45.11054229736328, 43.007568359375, 41.458351135253906, 37.14686965942383, 33.841583251953125, 33.47053527832031, 30.20946502685547, 249.79476928710938, 205.65223693847656, 181.73721313476562, 73.6607666015625, 179.85899353027344, 108.03437042236328, 80.328125, 68.79569244384766, 1758.0087890625, 812.0751342773438, 552.7725830078125, 418.7437438964844, 249.31419372558594, 168.74920654296875, 151.23196411132812, 149.92483520507812, 123.08233642578125, 52.432254791259766, 51.406734466552734, 51.05754470825195, 49.67012405395508, 33.45075988769531, 32.58869552612305, 31.442825317382812, 25.311447143554688, 23.71295166015625, 17.439319610595703, 9.800043106079102, 6.224538326263428, 728.1970825195312, 54.81667709350586, 11.937063217163086, 14.86840534210205, 0.05156102031469345, 0.051542095839977264, 0.05153950676321983, 0.05153694748878479, 0.05153617262840271, 63.84318923950195, 17.737974166870117, 7.32725715637207, 0.09741363674402237, 361.902587890625, 352.3690490722656, 293.3590087890625, 259.7524719238281, 218.78550720214844, 197.7272186279297, 152.81410217285156, 122.31976318359375, 110.6811294555664, 107.58699035644531, 105.39110565185547, 84.21272277832031, 81.06651306152344, 80.27417755126953, 68.05239868164062, 67.75666809082031, 51.829959869384766, 50.32436752319336, 40.50525665283203, 36.99246597290039, 35.35258102416992, 35.2123908996582, 31.997434616088867, 27.264816284179688, 26.286521911621094, 25.38620948791504, 25.3159236907959, 13.603846549987793, 158.03346252441406, 820.3775634765625, 189.34661865234375, 78.60912322998047, 38.115291595458984, 41.79343795776367, 27.29777717590332, 489.58599853515625, 468.71636962890625, 358.7500305175781, 248.3191375732422, 161.57034301757812, 161.39202880859375, 157.0907745361328, 155.53623962402344, 145.551513671875, 126.03388977050781, 125.877685546875, 112.84336853027344, 90.6312255859375, 75.73648834228516, 75.5212631225586, 62.981903076171875, 53.146446228027344, 53.09088134765625, 52.459835052490234, 42.89273452758789, 40.09538269042969, 28.708131790161133, 27.987659454345703, 27.844120025634766, 27.674198150634766, 25.855220794677734, 25.332664489746094, 24.956317901611328, 24.20906639099121, 23.316211700439453, 511.122802734375, 136.93382263183594, 460.88958740234375, 371.35223388671875, 314.5248107910156, 204.21824645996094, 145.70635986328125, 116.42619323730469, 116.14598083496094, 111.09270477294922, 108.07256317138672, 102.24605560302734, 81.6742172241211, 67.44921875, 67.38130950927734, 61.04145431518555, 54.72343826293945, 50.56490707397461, 49.43435287475586, 46.78785705566406, 35.33951187133789, 33.539512634277344, 32.96966552734375, 30.584522247314453, 26.064437866210938, 25.709266662597656, 22.5723819732666, 19.722110748291016, 14.1365327835083, 11.213143348693848, 8.579590797424316, 5.771963119506836, 113.4520492553711, 367.7337646484375, 319.7164001464844, 226.53558349609375, 188.97251892089844, 160.71766662597656, 158.12098693847656, 153.8447265625, 114.70195007324219, 77.15977478027344, 72.24211883544922, 66.08195495605469, 58.34629821777344, 57.085758209228516, 51.78598403930664, 39.464263916015625, 37.348243713378906, 29.862537384033203, 22.66779327392578, 0.04300110414624214, 0.04299694672226906, 0.04299301281571388, 0.04299245774745941, 0.04299560561776161, 0.042990852147340775, 0.04299042373895645, 0.04299010708928108, 0.04299003258347511, 0.04299011453986168, 0.04298984631896019, 0.042988862842321396, 0.04298989474773407, 0.042990557849407196, 280.300537109375, 195.25912475585938, 191.53680419921875, 169.4449462890625, 155.39117431640625, 124.39305114746094, 108.00345611572266, 102.87857818603516, 78.38511657714844, 60.61777114868164, 52.04334259033203, 51.01789855957031, 47.42162322998047, 41.505882263183594, 35.53567123413086, 29.42138671875, 26.055160522460938, 23.52635383605957, 11.66467571258545, 37.72654724121094, 0.03877526894211769, 0.03877294436097145, 0.03877091035246849, 0.03877103328704834, 0.038769494742155075, 0.03876899927854538, 0.03876901790499687, 0.03876853734254837, 0.03876962885260582, 0.03876751288771629, 0.03876813128590584, 0.0387689471244812, 423.25701904296875, 213.88612365722656, 113.32211303710938, 100.89996337890625, 87.1099853515625, 73.79881286621094, 71.19501495361328, 42.12798309326172, 37.130741119384766, 30.78551483154297, 22.948713302612305, 22.621891021728516, 15.976940155029297, 14.23352336883545, 13.036046981811523, 8.466913223266602, 0.041616056114435196, 0.04160909727215767, 0.0416061207652092, 0.04160567745566368, 0.041606537997722626, 0.041605714708566666, 0.04160527512431145, 0.04160579666495323, 0.04160496965050697, 0.04160530865192413, 0.04160469397902489, 0.04160469397902489, 0.0416046567261219, 0.041604477912187576, 0.04160448908805847, 0.0416053868830204, 0.04160543903708458, 0.04160512983798981, 0.04160578176379204, 0.041605181992053986], \"Term\": [\"write\", \"line\", \"go\", \"article\", \"system\", \"use\", \"people\", \"say\", \"drive\", \"problem\", \"team\", \"get\", \"car\", \"know\", \"thank\", \"program\", \"file\", \"mail\", \"year\", \"new\", \"law\", \"key\", \"be\", \"play\", \"gun\", \"card\", \"believe\", \"government\", \"book\", \"come\", \"write\", \"article\", \"organization\", \"seem\", \"opinion\", \"idea\", \"actually\", \"quite\", \"perhaps\", \"patient\", \"nntp_posting\", \"difference\", \"correct\", \"experience\", \"better\", \"like\", \"suggest\", \"certainly\", \"care\", \"wonder\", \"thought\", \"sorry\", \"exactly\", \"interesting\", \"sort\", \"share\", \"basically\", \"miss\", \"flame\", \"suspect\", \"try\", \"line\", \"compare\", \"host\", \"would\", \"sure\", \"know\", \"other\", \"want\", \"find\", \"be\", \"think\", \"wrong\", \"thing\", \"much\", \"reply\", \"problem\", \"really\", \"read\", \"post\", \"can\", \"make\", \"way\", \"probably\", \"good\", \"have\", \"point\", \"see\", \"well\", \"need\", \"question\", \"also\", \"go\", \"back\", \"last\", \"game\", \"win\", \"turn\", \"lose\", \"couple\", \"friend\", \"pick\", \"division\", \"hit\", \"goal\", \"job\", \"score\", \"guy\", \"hour\", \"obviously\", \"eat\", \"wait\", \"minute\", \"ride\", \"throw\", \"drop\", \"finally\", \"could\", \"average\", \"sit\", \"straight\", \"originator\", \"start\", \"year\", \"day\", \"next\", \"week\", \"home\", \"get\", \"second\", \"first\", \"s\", \"come\", \"leave\", \"move\", \"ever\", \"happen\", \"end\", \"great\", \"take\", \"time\", \"keep\", \"big\", \"say\", \"look\", \"still\", \"good\", \"see\", \"tell\", \"well\", \"help\", \"make\", \"run\", \"believe\", \"evidence\", \"claim\", \"sense\", \"faith\", \"life\", \"god\", \"religion\", \"speak\", \"die\", \"accept\", \"prove\", \"argument\", \"discussion\", \"belief\", \"truth\", \"atheist\", \"human\", \"christian\", \"statement\", \"conclusion\", \"drug\", \"religious\", \"indeed\", \"knowledge\", \"therefore\", \"nature\", \"respect\", \"christianity\", \"argue\", \"news\", \"exist\", \"explain\", \"reason\", \"fact\", \"rule\", \"issue\", \"man\", \"true\", \"person\", \"say\", \"people\", \"mean\", \"many\", \"follow\", \"become\", \"part\", \"group\", \"consider\", \"however\", \"question\", \"large\", \"price\", \"report\", \"sell\", \"cost\", \"level\", \"service\", \"increase\", \"sale\", \"local\", \"cheap\", \"tape\", \"server\", \"condition\", \"contact\", \"community\", \"reduce\", \"unit\", \"steal\", \"recently\", \"replace\", \"class\", \"direct\", \"project\", \"ignore\", \"appropriate\", \"operate\", \"mount\", \"purchase\", \"owner\", \"power\", \"model\", \"type\", \"new\", \"offer\", \"buy\", \"pay\", \"high\", \"small\", \"area\", \"order\", \"company\", \"control\", \"cover\", \"old\", \"also\", \"less\", \"include\", \"work\", \"support\", \"base\", \"key\", \"chip\", \"datum\", \"entry\", \"com\", \"phone\", \"encryption\", \"appreciate\", \"network\", \"function\", \"distribution\", \"video\", \"package\", \"input\", \"self\", \"mouse\", \"mode\", \"secure\", \"port\", \"signal\", \"transfer\", \"secret\", \"technical\", \"tap\", \"obtain\", \"tool\", \"load\", \"external\", \"clipper_chip\", \"manager\", \"system\", \"technology\", \"access\", \"bit\", \"use\", \"block\", \"computer\", \"contain\", \"standard\", \"set\", \"provide\", \"message\", \"allow\", \"run\", \"require\", \"need\", \"number\", \"build\", \"information\", \"public\", \"work\", \"government\", \"kill\", \"country\", \"attack\", \"war\", \"soldier\", \"press\", \"village\", \"murder\", \"watch\", \"city\", \"citizen\", \"military\", \"armenian\", \"notice\", \"land\", \"deny\", \"fight\", \"criminal\", \"turkish\", \"occupy\", \"political\", \"court\", \"withdraw\", \"terrorism\", \"nation\", \"turk\", \"night\", \"population\", \"rational\", \"force\", \"policy\", \"state\", \"fire\", \"death\", \"people\", \"visit\", \"public\", \"child\", \"right\", \"live\", \"protect\", \"woman\", \"today\", \"program\", \"file\", \"mail\", \"address\", \"image\", \"email\", \"copy\", \"advance\", \"info\", \"version\", \"screen\", \"display\", \"graphic\", \"format\", \"feature\", \"digital\", \"update\", \"sample\", \"convert\", \"status\", \"workstation\", \"multiple\", \"map\", \"capture\", \"utility\", \"enable\", \"routine\", \"button\", \"film\", \"movie\", \"window\", \"software\", \"application\", \"product\", \"request\", \"send\", \"available\", \"source\", \"thank\", \"information\", \"include\", \"receive\", \"list\", \"help\", \"section\", \"do\", \"name\", \"also\", \"line\", \"card\", \"color\", \"memory\", \"disk\", \"monitor\", \"bus\", \"internal\", \"recommend\", \"cable\", \"ide\", \"crash\", \"ram\", \"scsi\", \"opinions_expresse\", \"switch\", \"connector\", \"bio\", \"plug\", \"depth\", \"shape\", \"hook\", \"gif\", \"dark\", \"boot\", \"stable\", \"correction\", \"meter\", \"volt\", \"variation\", \"exe\", \"driver\", \"drive\", \"pc\", \"resolution\", \"performance\", \"speed\", \"instal\", \"machine\", \"fast\", \"problem\", \"computer\", \"run\", \"book\", \"study\", \"serious\", \"publish\", \"author\", \"family\", \"special\", \"meet\", \"clearly\", \"period\", \"treatment\", \"material\", \"doctor\", \"son\", \"cd\", \"aware\", \"medical\", \"motto\", \"gain\", \"improve\", \"energy\", \"violence\", \"german\", \"cap\", \"element\", \"immediate\", \"birth\", \"primary\", \"progress\", \"radiation\", \"body\", \"reference\", \"page\", \"car\", \"low\", \"rate\", \"amount\", \"advice\", \"engine\", \"foot\", \"insurance\", \"mile\", \"auto\", \"gas\", \"accident\", \"decent\", \"probe\", \"floor\", \"spacecraft\", \"red\", \"gear\", \"noise\", \"pound\", \"environmental\", \"mid\", \"mph\", \"substance\", \"receiver\", \"automatic\", \"motor\", \"amazing\", \"luxury\", \"highway\", \"ground\", \"vehicle\", \"speed\", \"road\", \"tax\", \"light\", \"safety\", \"drive\", \"risk\", \"high\", \"fast\", \"law\", \"israeli\", \"jewish\", \"moral\", \"route\", \"controller\", \"peace\", \"bomb\", \"context\", \"arab\", \"popular\", \"homosexual\", \"northern\", \"link\", \"rocket\", \"militia\", \"principle\", \"creation\", \"statistic\", \"morality\", \"relation\", \"remote\", \"penalty\", \"islamic\", \"ban\", \"invasion\", \"truck\", \"regularly\", \"violate\", \"tree\", \"objective\", \"society\", \"purpose\", \"act\", \"word\", \"science\", \"field\", \"logic\", \"scientific\", \"object\", \"development\", \"analysis\", \"ice\", \"planet\", \"constitution\", \"role\", \"extend\", \"camp\", \"experiment\", \"conference\", \"publication\", \"assist\", \"fee\", \"derive\", \"ozone\", \"invite\", \"consist\", \"speaker\", \"presentation\", \"afford\", \"summarize\", \"subscription\", \"college\", \"recieve\", \"transport\", \"observation\", \"language\", \"research\", \"paper\", \"aspect\", \"gun\", \"weapon\", \"firearm\", \"police\", \"should\", \"cop\", \"factory\", \"bank\", \"ammunition\", \"training\", \"cub\", \"encounter\", \"mouth\", \"trigger\", \"mix\", \"engage\", \"revolver\", \"motion\", \"inform\", \"employment\", \"upset\", \"bullet\", \"tolerance\", \"resist\", \"self_defense\", \"void\", \"revolt\", \"historian\", \"semi_auto\", \"combat\", \"safety\", \"crime\", \"shoot\", \"train\", \"carry\", \"fire\", \"safe\", \"arm\", \"team\", \"player\", \"season\", \"picture\", \"star\", \"mirror\", \"channel\", \"devil\", \"penguin\", \"stroke\", \"converter\", \"defensive\", \"rotate\", \"roman\", \"postscript\", \"oiler\", \"goalie\", \"sabre\", \"lemieux\", \"char\", \"valerie_hammerl\", \"play\", \"final\", \"excellent\", \"vote\", \"hockey\", \"playoff\", \"coach\", \"pit\", \"standing\", \"point\", \"news\", \"compare\", \"mark\", \"wing\", \"launch\", \"orbit\", \"mission\", \"satellite\", \"flight\", \"fuel\", \"shuttle\", \"lunar\", \"moon\", \"solar\", \"phase\", \"crew\", \"planetary\", \"space_shuttle\", \"tour\", \"space_station\", \"orbital\", \"utilize\", \"trajectory\", \"asteroid\", \"booster\", \"redesign\", \"orbiter\", \"dish\", \"earth_orbit\", \"ssf\", \"solid_rocket\", \"schedule\", \"space\", \"earth\", \"fly\", \"russian\", \"vehicle\", \"frequently_aske\", \"fan\", \"slow\", \"license\", \"hole\", \"expansion\", \"unlikely\", \"predict\", \"interface\", \"icon\", \"bite\", \"specification\", \"compression\", \"backup\", \"white_house\", \"import\", \"timing\", \"compress\", \"classic\", \"convenient\", \"communications_service\", \"quadra\", \"misuse\", \"synchronous\", \"designer\", \"esdi\", \"slam\", \"lung\", \"complexity\", \"privately\", \"pole\", \"device\", \"series\", \"black\", \"white\", \"revelation\", \"scripture\", \"frame\", \"spring\", \"locate\", \"passage\", \"scale\", \"mercy\", \"radius\", \"accomplish\", \"aside\", \"indication\", \"ton\", \"arbitrary\", \"excellent_condition\", \"commandment\", \"glory\", \"ceremonial\", \"boundary\", \"foundation\", \"descend\", \"readily\", \"seventh\", \"twin\", \"speculate\", \"disobey\", \"scriptural\", \"corinthian\", \"aspect\", \"character\", \"normal\", \"printer\", \"plane\", \"wave\", \"font\", \"surface\", \"corner\", \"distant\", \"reserve\", \"label\", \"click\", \"physics\", \"telescope\", \"diameter\", \"inherent\", \"developer\", \"alert\", \"edge\", \"print\", \"centre\", \"biker\", \"slave\", \"coreldraw\", \"laser_printer\", \"charmap\", \"inkjet\", \"hollow\", \"ink\", \"cube\", \"jumper\", \"pin\", \"trade\", \"pen\", \"upgrade\", \"procedure\", \"faq\", \"saturn\", \"clock\", \"floppy\", \"brave\", \"flyer\", \"captain\", \"alarm\", \"brief\", \"floppy_disk\", \"retrieve\", \"adapter\", \"poll\", \"functionality\", \"lunar_orbit\", \"frequently_aske\", \"edmonton_oiler\", \"team_captain\", \"deadline\", \"dealer_profit\", \"whaler\", \"traded_resigne\", \"stripe\", \"iivx\", \"title\", \"trading\", \"ranger\", \"wire\", \"bike\", \"baseball\", \"dod\", \"tie\", \"pop\", \"giant\", \"hire\", \"slide\", \"suspension\", \"fatal\", \"biased\", \"mapping\", \"chamber\", \"suspend\", \"added_forwarde\", \"rude\", \"motorcycle\", \"leg\", \"cbd\", \"cruiser\", \"shift\", \"knee\", \"bike_rider\", \"bat\", \"spesification\", \"tall\", \"stylish\", \"imaginary\", \"countersteere\", \"crutch\", \"heel\", \"seat\", \"playoff\", \"patent\", \"chance\", \"_\"], \"Total\": [13760.0, 13694.0, 7815.0, 8982.0, 4957.0, 6163.0, 7831.0, 8825.0, 2668.0, 3850.0, 1759.0, 7502.0, 2056.0, 8434.0, 3403.0, 2747.0, 2598.0, 2575.0, 4902.0, 3440.0, 1721.0, 2975.0, 7777.0, 1369.0, 1339.0, 1580.0, 3145.0, 2292.0, 1507.0, 4834.0, 13760.9072265625, 8982.6044921875, 4232.8193359375, 3099.078369140625, 1581.152587890625, 1569.952880859375, 1534.255859375, 1123.5963134765625, 1071.75, 1018.5463256835938, 991.9370727539062, 946.72900390625, 940.7079467773438, 927.4596557617188, 859.117919921875, 832.5309448242188, 829.9273681640625, 822.8958740234375, 796.5801391601562, 788.4671630859375, 700.8368530273438, 630.9992065429688, 610.3578491210938, 594.1378173828125, 592.1307373046875, 555.4684448242188, 493.1926574707031, 481.38787841796875, 446.5273132324219, 446.2330017089844, 4217.73046875, 13694.443359375, 775.0136108398438, 3923.219482421875, 4199.15234375, 2344.91455078125, 8434.0703125, 1341.3720703125, 4652.17333984375, 4011.70263671875, 7777.3125, 7327.61328125, 1452.873779296875, 4597.169921875, 3736.64111328125, 1942.5836181640625, 3850.7255859375, 3066.516357421875, 2728.106201171875, 2667.539794921875, 3629.227294921875, 8220.056640625, 4371.08837890625, 1957.150146484375, 6566.6484375, 2900.230712890625, 3687.708740234375, 5985.75146484375, 4537.7236328125, 4299.59912109375, 3291.47607421875, 5912.90185546875, 7815.69140625, 2545.074462890625, 2343.035400390625, 2052.9052734375, 1491.0345458984375, 1340.5087890625, 1307.773193359375, 909.2952270507812, 897.9000244140625, 716.7460327148438, 714.3736572265625, 684.7526245117188, 674.0089111328125, 655.4659423828125, 640.9204711914062, 638.654541015625, 572.79296875, 545.0384521484375, 532.84423828125, 521.2084350585938, 511.7513427734375, 507.56243896484375, 489.6722106933594, 458.3240051269531, 437.5948181152344, 419.5043640136719, 401.1427307128906, 396.8258972167969, 395.7806701660156, 374.7555236816406, 2205.6044921875, 4902.67529296875, 2585.603271484375, 1617.8931884765625, 1273.4122314453125, 1079.792236328125, 7502.84423828125, 1428.668701171875, 3625.467529296875, 4379.798828125, 4834.60888671875, 1714.467529296875, 1091.31494140625, 1418.796142578125, 1922.2420654296875, 2296.69140625, 1982.86376953125, 4816.033203125, 6487.86279296875, 2215.352783203125, 1486.604248046875, 8825.3046875, 4219.55712890625, 2748.390869140625, 6566.6484375, 5985.75146484375, 3296.900390625, 4537.7236328125, 2885.102783203125, 8220.056640625, 3049.31494140625, 3145.103515625, 2926.868896484375, 2004.0035400390625, 1727.4959716796875, 1387.7921142578125, 1353.54345703125, 1018.9971923828125, 982.2406616210938, 952.087158203125, 951.4915161132812, 947.7896728515625, 934.6581420898438, 915.4235229492188, 908.553466796875, 879.3156127929688, 875.8350830078125, 848.0416870117188, 726.9572143554688, 667.6502075195312, 665.2714233398438, 657.282470703125, 620.2894897460938, 615.2132568359375, 561.5088500976562, 486.8144836425781, 482.6258239746094, 475.1077575683594, 449.6684265136719, 446.3172607421875, 418.4680480957031, 869.6431884765625, 1698.5748291015625, 998.3011474609375, 3218.8212890625, 2184.5849609375, 1058.511474609375, 1806.553955078125, 2033.3143310546875, 1588.7308349609375, 1584.2596435546875, 8825.3046875, 7831.12890625, 2921.85986328125, 3911.114501953125, 2247.79345703125, 1382.3275146484375, 2343.443115234375, 2387.775390625, 1566.5089111328125, 2115.74072265625, 3291.47607421875, 1495.033203125, 1444.362060546875, 1421.4268798828125, 1341.7418212890625, 1277.4444580078125, 946.4819946289062, 910.7437744140625, 867.7301635742188, 863.561767578125, 859.9314575195312, 852.8351440429688, 769.75390625, 657.8006591796875, 627.4920654296875, 609.1138305664062, 561.0464477539062, 523.7946166992188, 521.4039306640625, 509.42108154296875, 501.9938049316406, 492.2383117675781, 490.8347473144531, 486.32464599609375, 483.6915283203125, 478.7835388183594, 470.8561096191406, 466.9633483886719, 441.2971496582031, 428.6716003417969, 400.2866516113281, 1806.424072265625, 942.8582763671875, 1442.5843505859375, 3440.5673828125, 902.4190063476562, 1624.7724609375, 1319.512939453125, 2210.66650390625, 1275.6474609375, 1190.7933349609375, 2034.9056396484375, 916.0956420898438, 1102.1676025390625, 804.9896240234375, 2085.914306640625, 5912.90185546875, 1564.690185546875, 2444.463623046875, 4736.79833984375, 1843.6763916015625, 1602.728271484375, 2975.669677734375, 1391.529052734375, 1323.295166015625, 1083.631591796875, 1077.2752685546875, 1005.24365234375, 848.8482055664062, 808.0802001953125, 772.7396240234375, 745.9271240234375, 692.0856323242188, 688.992431640625, 684.228759765625, 652.4120483398438, 584.6624145507812, 503.1983642578125, 499.0671691894531, 484.50213623046875, 467.24169921875, 434.892578125, 434.71405029296875, 427.7376708984375, 427.18572998046875, 416.88067626953125, 412.3385009765625, 412.08868408203125, 393.310791015625, 387.52099609375, 386.2183837890625, 380.7913513183594, 4957.09765625, 1292.3583984375, 771.1171264648438, 2044.570556640625, 6163.330078125, 590.783447265625, 1717.3262939453125, 859.6474609375, 998.8081665039062, 2074.296630859375, 1914.6156005859375, 1872.0169677734375, 1516.2122802734375, 3049.31494140625, 1389.027099609375, 4299.59912109375, 2964.3994140625, 1494.7530517578125, 2114.104736328125, 1747.3277587890625, 4736.79833984375, 2292.145751953125, 1525.11962890625, 979.24267578125, 975.8807983398438, 767.9838256835938, 735.0031127929688, 687.2775268554688, 638.3689575195312, 631.8660888671875, 601.6776733398438, 592.9589233398438, 586.7506103515625, 579.3236694335938, 568.7042236328125, 550.7195434570312, 545.1473388671875, 501.0497131347656, 434.4085388183594, 430.90069580078125, 407.4557800292969, 399.4886169433594, 396.2328186035156, 390.3196105957031, 390.2285461425781, 389.60595703125, 386.61102294921875, 375.8557434082031, 375.3736572265625, 353.1830749511719, 348.71923828125, 1087.1414794921875, 493.86767578125, 2671.39111328125, 753.0966186523438, 1312.4267578125, 7831.12890625, 470.557861328125, 1747.3277587890625, 1597.6065673828125, 3701.505126953125, 1838.9912109375, 736.508056640625, 695.6405029296875, 928.5380859375, 2747.199462890625, 2598.065185546875, 2575.146728515625, 1450.04638671875, 1355.7099609375, 1265.5013427734375, 1204.5225830078125, 1063.37353515625, 1055.63671875, 970.2042236328125, 951.2401733398438, 827.188720703125, 799.6105346679688, 608.7840576171875, 475.8342590332031, 445.0318908691406, 431.049560546875, 343.98583984375, 320.4729919433594, 309.4906311035156, 307.7437744140625, 280.83587646484375, 226.92422485351562, 215.6001739501953, 201.728759765625, 173.76052856445312, 155.41213989257812, 154.99002075195312, 151.80746459960938, 143.9337615966797, 1827.22705078125, 1543.22119140625, 973.4332885742188, 725.9996337890625, 595.7723999023438, 2240.71435546875, 1641.8515625, 1817.17578125, 3403.888916015625, 2114.104736328125, 2444.463623046875, 1285.840576171875, 1566.8172607421875, 2885.102783203125, 750.115234375, 2146.608154296875, 1987.8946533203125, 5912.90185546875, 13694.443359375, 1580.7725830078125, 824.3977661132812, 756.05078125, 705.2462158203125, 521.978515625, 492.0476379394531, 413.4000549316406, 371.6479797363281, 291.2244873046875, 260.51824951171875, 255.469970703125, 252.5311737060547, 234.522216796875, 197.19290161132812, 381.07037353515625, 149.29661560058594, 144.2670135498047, 143.75100708007812, 138.9356231689453, 137.95445251464844, 131.96853637695312, 128.81185913085938, 110.87213134765625, 110.70555877685547, 109.84626770019531, 104.22576141357422, 95.21253967285156, 90.03547668457031, 82.66767120361328, 80.65763854980469, 1298.04052734375, 2668.157470703125, 573.499267578125, 233.22686767578125, 464.3930969238281, 852.6737060546875, 693.0765380859375, 1047.4989013671875, 758.6307983398438, 3850.7255859375, 1717.3262939453125, 3049.31494140625, 1507.561767578125, 812.0266723632812, 576.9456176757812, 563.7434692382812, 555.7326049804688, 548.5824584960938, 511.2457275390625, 483.2402648925781, 469.32135009765625, 462.1453552246094, 416.7960510253906, 401.6234436035156, 380.9835205078125, 334.38629150390625, 298.4230041503906, 294.66961669921875, 274.3031311035156, 271.27587890625, 259.6094055175781, 253.9259796142578, 212.69447326660156, 206.37380981445312, 201.5564727783203, 199.43836975097656, 198.01451110839844, 183.25885009765625, 177.30972290039062, 176.93077087402344, 176.17213439941406, 167.48414611816406, 734.71826171875, 897.2553100585938, 657.0687255859375, 2056.91552734375, 1076.3531494140625, 960.0507202148438, 536.7265625, 459.80914306640625, 436.199951171875, 333.01568603515625, 314.8485107421875, 313.8917541503906, 220.969970703125, 211.48533630371094, 208.02134704589844, 202.8665771484375, 192.39039611816406, 184.52371215820312, 177.25863647460938, 167.5067901611328, 158.6728973388672, 145.81906127929688, 138.7388916015625, 128.07958984375, 127.57006072998047, 125.50891876220703, 122.22931671142578, 119.44305419921875, 114.28839111328125, 109.23033142089844, 106.83795166015625, 101.23079681396484, 98.69783020019531, 566.2130737304688, 336.2255859375, 852.6737060546875, 477.10052490234375, 329.5890808105469, 876.408935546875, 471.34820556640625, 2668.157470703125, 642.6692504882812, 2210.66650390625, 758.6307983398438, 1721.2520751953125, 688.2362670898438, 553.8997802734375, 437.7982177734375, 410.9849548339844, 363.2630310058594, 357.45733642578125, 351.5729064941406, 288.60943603515625, 271.5669250488281, 261.4155578613281, 257.8407897949219, 246.05126953125, 245.47335815429688, 234.31507873535156, 231.31341552734375, 230.64675903320312, 225.00270080566406, 217.3736114501953, 186.18267822265625, 171.63381958007812, 165.96580505371094, 163.97483825683594, 163.09471130371094, 156.0702362060547, 155.36549377441406, 150.2978057861328, 147.96861267089844, 147.04412841796875, 131.77769470214844, 310.90704345703125, 453.7399597167969, 848.6632080078125, 597.5546875, 1451.110595703125, 978.4288940429688, 587.9574584960938, 475.7470397949219, 420.4003601074219, 398.5025634765625, 289.08282470703125, 281.8965759277344, 242.30087280273438, 232.5797119140625, 189.15301513671875, 174.449951171875, 156.66616821289062, 151.0941162109375, 149.3939666748047, 145.52325439453125, 142.4408721923828, 139.181884765625, 118.26471710205078, 118.10853576660156, 114.55970764160156, 114.0396499633789, 99.97315979003906, 98.13347625732422, 91.34933471679688, 80.41651153564453, 78.22899627685547, 75.18392944335938, 69.8974380493164, 62.205379486083984, 50.76342010498047, 216.0597381591797, 252.41558837890625, 756.7783203125, 452.0986328125, 198.75999450683594, 1339.436279296875, 447.3188171386719, 428.36077880859375, 423.13507080078125, 281.1510314941406, 248.0367889404297, 169.0608367919922, 145.04344177246094, 131.35231018066406, 115.62734985351562, 113.77227020263672, 108.45768737792969, 101.7126693725586, 101.69121551513672, 95.9857177734375, 87.90441131591797, 84.53734588623047, 83.93232727050781, 82.87476348876953, 80.33927154541016, 78.42108917236328, 72.697265625, 57.453731536865234, 46.262638092041016, 44.159664154052734, 42.61044692993164, 38.29896545410156, 34.99367904663086, 34.62263107299805, 31.36156463623047, 471.34820556640625, 600.9244995117188, 557.8287963867188, 141.909423828125, 825.0870361328125, 753.0966186523438, 390.7866516113281, 339.9206237792969, 1759.170166015625, 813.2363891601562, 553.933837890625, 419.905029296875, 250.47549438476562, 169.91050720214844, 152.3932647705078, 151.0861358642578, 124.24363708496094, 53.59355545043945, 52.56803512573242, 52.21884536743164, 50.831424713134766, 34.612060546875, 33.749996185302734, 32.6041259765625, 26.472747802734375, 24.874252319335938, 18.60062026977539, 10.961343765258789, 7.385838508605957, 1369.283935546875, 458.1632385253906, 235.12066650390625, 334.8132629394531, 1.212929606437683, 1.2128849029541016, 1.212870478630066, 1.2128543853759766, 1.2128527164459229, 3687.708740234375, 869.6431884765625, 775.0136108398438, 307.4022216796875, 363.06805419921875, 353.5345153808594, 294.52447509765625, 260.9179382324219, 219.95098876953125, 198.8927001953125, 153.97958374023438, 123.4852523803711, 111.84661865234375, 108.75247955322266, 106.55659484863281, 85.37821197509766, 82.23200225830078, 81.43966674804688, 69.21788787841797, 68.92215728759766, 52.995445251464844, 51.48985290527344, 41.67074203491211, 38.15795135498047, 36.51806640625, 36.37787628173828, 33.16292190551758, 28.430301666259766, 27.452007293701172, 26.551694869995117, 26.481409072875977, 14.769332885742188, 176.15701293945312, 934.76904296875, 626.8137817382812, 210.41574096679688, 186.08433532714844, 336.2255859375, 66.15104675292969, 490.7464599609375, 469.8768310546875, 359.9104919433594, 249.4795684814453, 162.73077392578125, 162.55245971679688, 158.25120544433594, 156.69667053222656, 146.71194458007812, 127.19434356689453, 127.03813934326172, 114.00382232666016, 91.79167938232422, 76.89694213867188, 76.68171691894531, 64.14234924316406, 54.3068962097168, 54.2513313293457, 53.62028503417969, 44.053184509277344, 41.25583267211914, 29.868581771850586, 29.148109436035156, 29.00457000732422, 28.83464813232422, 27.015670776367188, 26.493114471435547, 26.11676788330078, 25.369516372680664, 24.476661682128906, 566.5528564453125, 150.9120330810547, 462.0575866699219, 372.5202331542969, 315.69281005859375, 205.38623046875, 146.8743438720703, 117.59419250488281, 117.31398010253906, 112.26070404052734, 109.24056243896484, 103.41405487060547, 82.84221649169922, 68.61721801757812, 68.54930877685547, 62.20945358276367, 55.89143753051758, 51.732906341552734, 50.602352142333984, 47.95585632324219, 36.507511138916016, 34.70751190185547, 34.137664794921875, 31.752519607543945, 27.23243522644043, 26.87726402282715, 23.740379333496094, 20.890108108520508, 15.30453109741211, 12.381141662597656, 9.747589111328125, 6.939960479736328, 198.75999450683594, 368.9035949707031, 320.88623046875, 227.70541381835938, 190.14234924316406, 161.8874969482422, 159.2908172607422, 155.01455688476562, 115.87179565429688, 78.32962036132812, 73.4119644165039, 67.25180053710938, 59.51613998413086, 58.25559997558594, 52.95582580566406, 40.63410568237305, 38.51808547973633, 31.032379150390625, 23.837635040283203, 1.2128963470458984, 1.2129228115081787, 1.2128528356552124, 1.212851881980896, 1.2129606008529663, 1.2128355503082275, 1.2128387689590454, 1.2128342390060425, 1.212835669517517, 1.2128381729125977, 1.2128410339355469, 1.2128329277038574, 1.2128822803497314, 1.2129348516464233, 281.4745788574219, 196.4331817626953, 192.7108612060547, 170.61900329589844, 156.5652313232422, 125.5671157836914, 109.17752075195312, 104.05264282226562, 79.5591812133789, 61.79183578491211, 53.2174072265625, 52.19196319580078, 48.59568786621094, 42.67994689941406, 36.70973587036133, 30.595449447631836, 27.229223251342773, 24.700416564941406, 12.838738441467285, 66.15104675292969, 1.2128485441207886, 1.2128404378890991, 1.212839126586914, 1.2128489017486572, 1.2128427028656006, 1.2128348350524902, 1.2128362655639648, 1.2128355503082275, 1.212881326675415, 1.2128374576568604, 1.2128612995147705, 1.2129594087600708, 424.4282531738281, 215.05734252929688, 114.49333953857422, 102.0711898803711, 88.28121185302734, 74.97003936767578, 72.36624145507812, 43.2992057800293, 38.301963806152344, 31.95673942565918, 24.119937896728516, 23.793115615844727, 17.148164749145508, 15.404747009277344, 14.207270622253418, 9.638137817382812, 1.2128881216049194, 1.212855577468872, 1.2128376960754395, 1.2128371000289917, 1.2128690481185913, 1.2128448486328125, 1.2128334045410156, 1.2128533124923706, 1.2128324508666992, 1.2128424644470215, 1.212833285331726, 1.2128340005874634, 1.2128357887268066, 1.2128310203552246, 1.2128312587738037, 1.2128738164901733, 1.2128849029541016, 1.2128686904907227, 1.2129251956939697, 1.2129034996032715], \"loglift\": [30.0, 29.0, 28.0, 27.0, 26.0, 25.0, 24.0, 23.0, 22.0, 21.0, 20.0, 19.0, 18.0, 17.0, 16.0, 15.0, 14.0, 13.0, 12.0, 11.0, 10.0, 9.0, 8.0, 7.0, 6.0, 5.0, 4.0, 3.0, 2.0, 1.0, 1.3509999513626099, 1.3509000539779663, 1.3508000373840332, 1.3507000207901, 1.3502999544143677, 1.3502999544143677, 1.3502999544143677, 1.350100040435791, 1.350000023841858, 1.3499000072479248, 1.3499000072479248, 1.3499000072479248, 1.3499000072479248, 1.3497999906539917, 1.3496999740600586, 1.3496999740600586, 1.3496999740600586, 1.3496999740600586, 1.3495999574661255, 1.3495999574661255, 1.3494000434875488, 1.3493000268936157, 1.3492000102996826, 1.3490999937057495, 1.3490999937057495, 1.3489999771118164, 1.3487000465393066, 1.3487000465393066, 1.3485000133514404, 1.3485000133514404, 1.3242000341415405, 1.294100046157837, 1.3401999473571777, 1.2999999523162842, 1.2922999858856201, 1.2961000204086304, 1.2259999513626099, 1.3118000030517578, 1.2374999523162842, 1.2340999841690063, 1.176300048828125, 1.1618000268936157, 1.2979999780654907, 1.190500020980835, 1.1978000402450562, 1.2503999471664429, 1.1612999439239502, 1.1908999681472778, 1.187999963760376, 1.1749000549316406, 1.1180000305175781, 0.9354000091552734, 1.0489000082015991, 1.1955000162124634, 0.8497999906539917, 1.0752999782562256, 0.9944999814033508, 0.7946000099182129, 0.8715000152587891, 0.8553000092506409, 0.9650999903678894, 0.48980000615119934, 1.7065999507904053, 1.7063000202178955, 1.7062000036239624, 1.7062000036239624, 1.7059999704360962, 1.705899953842163, 1.705899953842163, 1.7055000066757202, 1.7055000066757202, 1.7051000595092773, 1.7051000595092773, 1.7051000595092773, 1.7050000429153442, 1.7050000429153442, 1.7050000429153442, 1.7049000263214111, 1.704699993133545, 1.7045999765396118, 1.7045999765396118, 1.7044999599456787, 1.7044999599456787, 1.7044999599456787, 1.7043999433517456, 1.704200029373169, 1.7041000127792358, 1.7039999961853027, 1.7038999795913696, 1.7038999795913696, 1.7037999629974365, 1.7036999464035034, 1.6944999694824219, 1.6821000576019287, 1.645300030708313, 1.6497999429702759, 1.6509000062942505, 1.655400037765503, 1.5291999578475952, 1.632099986076355, 1.5614999532699585, 1.5277999639511108, 1.4903000593185425, 1.593000054359436, 1.6369999647140503, 1.6033999919891357, 1.542199969291687, 1.5084999799728394, 1.5240000486373901, 1.3503999710083008, 1.2930999994277954, 1.4865000247955322, 1.5533000230789185, 0.9829000234603882, 1.1043000221252441, 1.2719999551773071, 0.7754999995231628, 0.6863999962806702, 0.9944000244140625, 0.7409999966621399, 1.0232000350952148, 0.06840000301599503, 0.9472000002861023, 2.0106000900268555, 2.0106000900268555, 2.0104000568389893, 2.0102999210357666, 2.010200023651123, 2.010200023651123, 2.0099000930786133, 2.0097999572753906, 2.0097999572753906, 2.0097999572753906, 2.0097999572753906, 2.0097999572753906, 2.0097999572753906, 2.009700059890747, 2.009700059890747, 2.009700059890747, 2.009700059890747, 2.009399890899658, 2.0092999935150146, 2.0092999935150146, 2.0092999935150146, 2.009200096130371, 2.0090999603271484, 2.009000062942505, 2.0085999965667725, 2.0085999965667725, 2.0085999965667725, 2.0083999633789062, 2.0083999633789062, 2.0083000659942627, 1.9890999794006348, 1.9366999864578247, 1.9648000001907349, 1.8828999996185303, 1.8791999816894531, 1.9443999528884888, 1.7941999435424805, 1.736199975013733, 1.7869000434875488, 1.7868000268936157, 1.30649995803833, 1.1852999925613403, 1.4660999774932861, 1.1519999504089355, 1.3882999420166016, 1.6962000131607056, 1.2408000230789185, 1.152400016784668, 1.5247000455856323, 1.2381000518798828, 0.7832000255584717, 2.3645999431610107, 2.3645999431610107, 2.3645999431610107, 2.364500045776367, 2.364500045776367, 2.3642001152038574, 2.3640999794006348, 2.364000082015991, 2.364000082015991, 2.364000082015991, 2.364000082015991, 2.3638999462127686, 2.363600015640259, 2.3635001182556152, 2.3635001182556152, 2.363300085067749, 2.3631999492645264, 2.3631999492645264, 2.363100051879883, 2.363100051879883, 2.36299991607666, 2.36299991607666, 2.36299991607666, 2.36299991607666, 2.36299991607666, 2.3629000186920166, 2.3629000186920166, 2.362799882888794, 2.3626999855041504, 2.362499952316284, 2.3517000675201416, 2.348400115966797, 2.335599899291992, 2.2985000610351562, 2.3375000953674316, 2.3046998977661133, 2.3101000785827637, 2.264699935913086, 2.2985000610351562, 2.1387999057769775, 1.9752999544143677, 2.1731998920440674, 2.0894999504089355, 2.199899911880493, 1.6577999591827393, 1.0372999906539917, 1.8009999990463257, 1.4393999576568604, 0.8748000264167786, 1.5494999885559082, 1.6311999559402466, 2.4063000679016113, 2.4058001041412354, 2.4058001041412354, 2.405600070953369, 2.405600070953369, 2.4054999351501465, 2.4052999019622803, 2.4052000045776367, 2.4052000045776367, 2.405100107192993, 2.4049999713897705, 2.4049999713897705, 2.4049999713897705, 2.404900074005127, 2.4047000408172607, 2.404400110244751, 2.404400110244751, 2.4042999744415283, 2.4042000770568848, 2.4040000438690186, 2.4040000438690186, 2.4040000438690186, 2.4040000438690186, 2.403899908065796, 2.403899908065796, 2.403899908065796, 2.4038000106811523, 2.403700113296509, 2.403700113296509, 2.403700113296509, 2.401700019836426, 2.3854000568389893, 2.3682000637054443, 2.2676000595092773, 2.055000066757202, 2.349100112915039, 2.1767001152038574, 2.2672998905181885, 2.202699899673462, 1.9742000102996826, 1.9193999767303467, 1.9221999645233154, 1.9365999698638916, 1.6306999921798706, 1.9204000234603882, 1.2740999460220337, 1.4428999423980713, 1.8310999870300293, 1.5008000135421753, 1.6374000310897827, 0.6992999911308289, 2.7163000106811523, 2.7160000801086426, 2.71560001373291, 2.71560001373291, 2.7153000831604004, 2.7151999473571777, 2.715100049972534, 2.7149999141693115, 2.7149999141693115, 2.714900016784668, 2.7147998809814453, 2.7147998809814453, 2.7147998809814453, 2.7147998809814453, 2.7146999835968018, 2.7146999835968018, 2.7144999504089355, 2.714099884033203, 2.714099884033203, 2.7139999866485596, 2.713900089263916, 2.713900089263916, 2.7137999534606934, 2.7137999534606934, 2.7137999534606934, 2.7137999534606934, 2.71370005607605, 2.71370005607605, 2.7135000228881836, 2.7135000228881836, 2.6289000511169434, 2.660399913787842, 2.3034000396728516, 2.5601999759674072, 2.4038000106811523, 1.5182000398635864, 2.6389999389648438, 2.0931999683380127, 2.1068999767303467, 1.5401999950408936, 1.718000054359436, 2.3199000358581543, 2.2920000553131104, 2.0118000507354736, 2.8838999271392822, 2.8838999271392822, 2.8838999271392822, 2.8835999965667725, 2.883500099182129, 2.8833999633789062, 2.8833999633789062, 2.8833000659942627, 2.8833000659942627, 2.88319993019104, 2.8831000328063965, 2.882999897003174, 2.8828999996185303, 2.882499933242798, 2.881999969482422, 2.8817999362945557, 2.881700038909912, 2.88100004196167, 2.8808000087738037, 2.88070011138916, 2.8805999755859375, 2.8803000450134277, 2.879300117492676, 2.8791000843048096, 2.878700017929077, 2.8777999877929688, 2.877000093460083, 2.877000093460083, 2.876800060272217, 2.8763999938964844, 2.8708999156951904, 2.8447000980377197, 2.822000026702881, 2.7992000579833984, 2.8096001148223877, 2.72160005569458, 2.662100076675415, 2.6115000247955322, 2.4388999938964844, 2.365600109100342, 2.291300058364868, 2.472100019454956, 2.3970000743865967, 2.101799964904785, 2.620300054550171, 1.8178000450134277, 1.6979999542236328, 0.6732000112533569, -0.1867000013589859, 3.98799991607666, 3.987299919128418, 3.9872000217437744, 3.9870998859405518, 3.9865000247955322, 3.9863998889923096, 3.9858999252319336, 3.985599994659424, 3.9846999645233154, 3.984299898147583, 3.9842000007629395, 3.984100103378296, 3.983799934387207, 3.982800006866455, 3.981800079345703, 3.9809999465942383, 3.9807000160217285, 3.9807000160217285, 3.9804000854492188, 3.980299949645996, 3.9798998832702637, 3.9797000885009766, 3.978300094604492, 3.9781999588012695, 3.9781999588012695, 3.97760009765625, 3.9765000343322754, 3.975800037384033, 3.9746999740600586, 3.974299907684326, 3.9335999488830566, 3.8587000370025635, 3.7539000511169434, 3.831700086593628, 3.6879000663757324, 3.3336000442504883, 3.374799966812134, 3.0650999546051025, 3.0132999420166016, 1.9473999738693237, 2.3203999996185303, 1.3508000373840332, 4.005899906158447, 4.005300045013428, 4.004700183868408, 4.004700183868408, 4.0046000480651855, 4.0046000480651855, 4.00439977645874, 4.004300117492676, 4.004300117492676, 4.004199981689453, 4.003900051116943, 4.003799915313721, 4.003699779510498, 4.003300189971924, 4.002900123596191, 4.002799987792969, 4.002500057220459, 4.002500057220459, 4.002299785614014, 4.002200126647949, 4.001299858093262, 4.001100063323975, 4.000999927520752, 4.000899791717529, 4.000899791717529, 4.000400066375732, 4.000199794769287, 4.000199794769287, 4.000199794769287, 3.999799966812134, 3.946700096130371, 3.2126998901367188, 2.9210000038146973, 4.03249979019165, 4.0320000648498535, 4.031899929046631, 4.031000137329102, 4.030600070953369, 4.0304999351501465, 4.029699802398682, 4.0295000076293945, 4.0295000076293945, 4.027900218963623, 4.027699947357178, 4.027599811553955, 4.027400016784668, 4.027100086212158, 4.026899814605713, 4.026599884033203, 4.026199817657471, 4.025899887084961, 4.025199890136719, 4.024799823760986, 4.024099826812744, 4.024099826812744, 4.023900032043457, 4.02370023727417, 4.023499965667725, 4.0229997634887695, 4.022600173950195, 4.022299766540527, 4.021699905395508, 4.021399974822998, 3.9307000637054443, 3.8966000080108643, 3.297800064086914, 3.478600025177002, 3.5325000286102295, 3.052799940109253, 3.2732999324798584, 1.9255000352859497, 2.640000104904175, 1.5591000318527222, 2.3582000732421875, 4.151000022888184, 4.150000095367432, 4.149600028991699, 4.149099826812744, 4.148900032043457, 4.148499965667725, 4.148499965667725, 4.148399829864502, 4.14769983291626, 4.147500038146973, 4.147299766540527, 4.147200107574463, 4.146999835968018, 4.146999835968018, 4.1468000411987305, 4.146699905395508, 4.146699905395508, 4.146599769592285, 4.146399974822998, 4.145500183105469, 4.144999980926514, 4.144800186157227, 4.144700050354004, 4.144599914550781, 4.1442999839782715, 4.1442999839782715, 4.144000053405762, 4.143899917602539, 4.143899917602539, 4.142899990081787, 4.073699951171875, 3.490499973297119, 3.020400047302246, 3.0376999378204346, 2.0274999141693115, 4.628799915313721, 4.6280999183654785, 4.627600193023682, 4.627299785614014, 4.627099990844727, 4.625999927520752, 4.625899791717529, 4.62529993057251, 4.625100135803223, 4.623899936676025, 4.6234002113342285, 4.622700214385986, 4.622399806976318, 4.622300148010254, 4.622099876403809, 4.6219000816345215, 4.621699810028076, 4.620299816131592, 4.620200157165527, 4.619900226593018, 4.619900226593018, 4.618500232696533, 4.618199825286865, 4.617400169372559, 4.615600109100342, 4.615200042724609, 4.61460018157959, 4.613399982452393, 4.611400127410889, 4.607100009918213, 4.579800128936768, 4.278200149536133, 3.8282999992370605, 3.8206000328063965, 3.771199941635132, 4.820799827575684, 4.8190999031066895, 4.818999767303467, 4.818900108337402, 4.817500114440918, 4.816999912261963, 4.814799785614014, 4.813700199127197, 4.81279993057251, 4.811600208282471, 4.811500072479248, 4.810999870300293, 4.810299873352051, 4.810299873352051, 4.809599876403809, 4.808499813079834, 4.8078999519348145, 4.807799816131592, 4.807700157165527, 4.807199954986572, 4.8069000244140625, 4.805699825286865, 4.801400184631348, 4.79640007019043, 4.795199871063232, 4.7941999435424805, 4.791100025177002, 4.7881999015808105, 4.787799835205078, 4.784200191497803, 4.186699867248535, 3.7493999004364014, 3.700200080871582, 4.165900230407715, 3.29830002784729, 2.8798999786376953, 3.2395999431610107, 3.224100112915039, 4.973100185394287, 4.972400188446045, 4.971700191497803, 4.9710001945495605, 4.969200134277344, 4.966899871826172, 4.96619987487793, 4.966100215911865, 4.964399814605713, 4.951900005340576, 4.951499938964844, 4.951300144195557, 4.950699806213379, 4.939700126647949, 4.938799858093262, 4.9375, 4.928899765014648, 4.926000118255615, 4.909299850463867, 4.861800193786621, 4.802700042724609, 4.342299938201904, 2.850600004196167, 1.993399977684021, 1.8595000505447388, 1.8157999515533447, 1.8154000043869019, 1.8154000043869019, 1.8154000043869019, 1.8154000043869019, 0.9175000190734863, 1.0814000368118286, 0.3125, -3.0831000804901123, 5.164000034332275, 5.163899898529053, 5.163300037384033, 5.162799835205078, 5.161900043487549, 5.161399841308594, 5.159599781036377, 5.157800197601318, 5.156799793243408, 5.156499862670898, 5.156199932098389, 5.153500080108643, 5.1529998779296875, 5.1528000831604, 5.150300025939941, 5.150199890136719, 5.144999980926514, 5.144400119781494, 5.138899803161621, 5.136199951171875, 5.134799957275391, 5.134699821472168, 5.131499767303467, 5.125400066375732, 5.123899936676025, 5.122399806976318, 5.122200012207031, 5.085000038146973, 5.058700084686279, 5.0366997718811035, 3.9702000617980957, 4.182600021362305, 3.581700086593628, 3.082200050354004, 4.282100200653076, 5.165800094604492, 5.1656999588012695, 5.164999961853027, 5.16349983215332, 5.160999774932861, 5.160999774932861, 5.160799980163574, 5.160699844360352, 5.160200119018555, 5.158999919891357, 5.158999919891357, 5.1579999923706055, 5.1554999351501465, 5.1529998779296875, 5.152900218963623, 5.149899959564209, 5.146599769592285, 5.146599769592285, 5.146299839019775, 5.141499996185303, 5.139699935913086, 5.128600120544434, 5.127600193023682, 5.127399921417236, 5.127099990844727, 5.124300003051758, 5.1234002113342285, 5.122700214385986, 5.121399879455566, 5.11959981918335, 5.065199851989746, 5.071000099182129, 5.4654998779296875, 5.464900016784668, 5.464300155639648, 5.462299823760986, 5.460000038146973, 5.458000183105469, 5.458000183105469, 5.457499980926514, 5.457200050354004, 5.456600189208984, 5.453800201416016, 5.450799942016602, 5.450799942016602, 5.448999881744385, 5.446899890899658, 5.445199966430664, 5.4446001052856445, 5.443299770355225, 5.435500144958496, 5.433800220489502, 5.433199882507324, 5.430500030517578, 5.424200057983398, 5.423600196838379, 5.417500019073486, 5.4105000495910645, 5.388599872589111, 5.368899822235107, 5.340400218963623, 5.283699989318848, 4.907299995422363, 5.646599769592285, 5.646100044250488, 5.644599914550781, 5.643599987030029, 5.642499923706055, 5.642399787902832, 5.642199993133545, 5.639599800109863, 5.634699821472168, 5.633699893951416, 5.632199764251709, 5.629899978637695, 5.629499912261963, 5.627399921417236, 5.620500087738037, 5.618899822235107, 5.611299991607666, 5.599400043487549, 2.3101999759674072, 2.3101000785827637, 2.309999942779541, 2.309999942779541, 2.309999942779541, 2.309999942779541, 2.309999942779541, 2.309999942779541, 2.309999942779541, 2.309999942779541, 2.309999942779541, 2.309999942779541, 2.3099000453948975, 2.3099000453948975, 5.79610013961792, 5.794300079345703, 5.7941999435424805, 5.793399810791016, 5.792799949645996, 5.790900230407715, 5.7895002365112305, 5.789000034332275, 5.7855000495910645, 5.781099796295166, 5.7779998779296875, 5.777599811553955, 5.775899887084961, 5.77239990234375, 5.7677998542785645, 5.761199951171875, 5.756199836730957, 5.7515997886657715, 5.704400062561035, 5.238699913024902, 2.3573999404907227, 2.357300043106079, 2.357300043106079, 2.357300043106079, 2.3571999073028564, 2.3571999073028564, 2.3571999073028564, 2.3571999073028564, 2.3571999073028564, 2.3571999073028564, 2.3571999073028564, 2.357100009918213, 5.928299903869629, 5.925600051879883, 5.92080020904541, 5.919600009918213, 5.917799949645996, 5.91540002822876, 5.91480016708374, 5.90369987487793, 5.900100231170654, 5.893799781799316, 5.88129997253418, 5.8805999755859375, 5.860400199890137, 5.8520002365112305, 5.845099925994873, 5.801499843597412, 2.558799982070923, 2.5587000846862793, 2.5585999488830566, 2.5585999488830566, 2.5585999488830566, 2.5585999488830566, 2.5585999488830566, 2.5585999488830566, 2.5585999488830566, 2.5585999488830566, 2.5585999488830566, 2.5585999488830566, 2.5585999488830566, 2.5585999488830566, 2.5585999488830566, 2.5585999488830566, 2.5585999488830566, 2.5585999488830566, 2.5585999488830566, 2.5585999488830566], \"logprob\": [30.0, 29.0, 28.0, 27.0, 26.0, 25.0, 24.0, 23.0, 22.0, 21.0, 20.0, 19.0, 18.0, 17.0, 16.0, 15.0, 14.0, 13.0, 12.0, 11.0, 10.0, 9.0, 8.0, 7.0, 6.0, 5.0, 4.0, 3.0, 2.0, 1.0, -3.0494000911712646, -3.4760000705718994, -4.228600025177002, -4.540500164031982, -5.213799953460693, -5.220900058746338, -5.243899822235107, -5.555699825286865, -5.603000164031982, -5.653900146484375, -5.6803998947143555, -5.727099895477295, -5.733500003814697, -5.747700214385986, -5.824399948120117, -5.855800151824951, -5.859000205993652, -5.867499828338623, -5.900000095367432, -5.910299777984619, -6.028299808502197, -6.133399963378906, -6.166800022125244, -6.19379997253418, -6.1971001625061035, -6.261199951171875, -6.38040018081665, -6.404600143432617, -6.480000019073486, -6.4807000160217285, -4.258800029754639, -3.1112000942230225, -5.936999797821045, -4.355299949645996, -4.295100212097168, -4.873899936676025, -3.6640000343322754, -5.416800022125244, -4.247399806976318, -4.39900016784668, -3.7946999073028564, -3.868799924850464, -5.3506999015808105, -4.306300163269043, -4.506199836730957, -5.107900142669678, -4.512700080871582, -4.7108001708984375, -4.830699920654297, -4.866199970245361, -4.615200042724609, -3.980299949645996, -4.498300075531006, -5.155200004577637, -4.29040002822876, -4.8821001052856445, -4.722799777984619, -4.438300132751465, -4.638299942016602, -4.708399772644043, -4.865900039672852, -4.75540018081665, -3.259500026702881, -4.381800174713135, -4.464600086212158, -4.596799850463867, -4.916800022125244, -5.0233001708984375, -5.048099994659424, -5.411900043487549, -5.424499988555908, -5.650199890136719, -5.653500080108643, -5.695899963378906, -5.711699962615967, -5.739699840545654, -5.762199878692627, -5.765699863433838, -5.87470006942749, -5.924499988555908, -5.947199821472168, -5.969299793243408, -5.98769998550415, -5.9959001541137695, -6.031899929046631, -6.098199844360352, -6.144599914550781, -6.1869001388549805, -6.231800079345703, -6.242700099945068, -6.245299816131592, -6.300099849700928, -4.536799907684326, -3.7504000663757324, -4.427000045776367, -4.891300201416016, -5.129700183868408, -5.289999961853027, -3.477799892425537, -5.033400058746338, -4.172800064086914, -4.017499923706055, -3.9560999870300293, -4.890200138092041, -5.297900199890137, -5.068999767303467, -4.826600074768066, -4.682300090789795, -4.813799858093262, -4.099899768829346, -3.8592000007629395, -4.7403998374938965, -5.072500228881836, -3.8617000579833984, -4.4781999588012695, -4.739200115203857, -4.364799976348877, -4.546500205993652, -4.83489990234375, -4.768799781799316, -4.939499855041504, -4.847300052642822, -4.960100173950195, -3.865799903869629, -3.937700033187866, -4.316699981689453, -4.465199947357178, -4.6844000816345215, -4.709400177001953, -4.993599891662598, -5.030300140380859, -5.061600208282471, -5.06220006942749, -5.066100120544434, -5.080100059509277, -5.100900173187256, -5.108399868011475, -5.141200065612793, -5.145100116729736, -5.1774001121521, -5.331699848175049, -5.416999816894531, -5.420499801635742, -5.432600021362305, -5.490699768066406, -5.498899936676025, -5.590400218963623, -5.733500003814697, -5.742099761962891, -5.757900238037109, -5.8130998611450195, -5.8206000328063965, -5.885200023651123, -5.172800064086914, -4.555799961090088, -5.059100151062012, -3.9702999591827393, -4.361599922180176, -5.020999908447266, -4.63670015335083, -4.576300144195557, -4.772500038146973, -4.775300025939941, -3.538100004196167, -3.778899908065796, -4.48390007019043, -4.506400108337402, -4.823999881744385, -5.002299785614014, -4.929900169372559, -4.999499797821045, -5.048699855804443, -5.0346999168396, -5.047699928283691, -4.255499839782715, -4.289999961853027, -4.306000232696533, -4.363800048828125, -4.412899971008301, -4.713099956512451, -4.7515997886657715, -4.800099849700928, -4.804900169372559, -4.809100151062012, -4.817399978637695, -4.920100212097168, -5.077499866485596, -5.12470006942749, -5.1545000076293945, -5.2368998527526855, -5.305699825286865, -5.310299873352051, -5.333600044250488, -5.348299980163574, -5.368000030517578, -5.3709001541137695, -5.380099773406982, -5.3856000900268555, -5.3958001136779785, -5.412499904632568, -5.42080020904541, -5.477499961853027, -5.5065999031066895, -5.575300216674805, -4.07919979095459, -4.732699871063232, -4.320199966430664, -3.488100051879883, -4.787499904632568, -4.2322001457214355, -4.434899806976318, -3.9642999172210693, -4.480299949645996, -4.708899974822998, -4.33650016784668, -4.936699867248535, -4.8354997634887695, -5.0391998291015625, -4.629300117492676, -4.207799911499023, -4.773600101470947, -4.689000129699707, -4.592100143432617, -4.861000061035156, -4.919400215148926, -3.5255000591278076, -4.285999774932861, -4.336299896240234, -4.536300182342529, -4.542200088500977, -4.611499786376953, -4.780799865722656, -4.830100059509277, -4.874899864196777, -4.910299777984619, -4.985300064086914, -4.989799976348877, -4.996699810028076, -5.044400215148926, -5.154300212860107, -5.304599761962891, -5.312900066375732, -5.342599868774414, -5.379000186920166, -5.450900077819824, -5.451300144195557, -5.46750020980835, -5.468800067901611, -5.493299961090088, -5.504300117492676, -5.504899978637695, -5.551700115203857, -5.566500186920166, -5.569900035858154, -5.584099769592285, -3.019700050354004, -4.38040018081665, -4.913899898529053, -4.0395002365112305, -3.1486001014709473, -5.19950008392334, -4.304800033569336, -4.906199932098389, -4.820700168609619, -4.31850004196167, -4.453400135040283, -4.4730000495910645, -4.669400215148926, -4.276599884033203, -4.773200035095215, -4.289599895477295, -4.492599964141846, -4.7891998291015625, -4.772799968719482, -4.826700210571289, -4.767600059509277, -3.4765000343322754, -3.884200096130371, -4.327600002288818, -4.331099987030029, -4.571000099182129, -4.6149001121521, -4.682199954986572, -4.756100177764893, -4.76639986038208, -4.815400123596191, -4.829999923706055, -4.84060001373291, -4.853400230407715, -4.8719000816345215, -4.904099941253662, -4.914299964904785, -4.998799800872803, -5.141900062561035, -5.150000095367432, -5.206099987030029, -5.225900173187256, -5.234099864959717, -5.249199867248535, -5.2494001388549805, -5.250999927520752, -5.258800029754639, -5.287099838256836, -5.288400173187256, -5.3495001792907715, -5.362299919128418, -4.309800148010254, -5.067299842834473, -3.736299991607666, -4.74560022354126, -4.34660005569458, -3.446000099182129, -5.1371002197265625, -4.370999813079834, -4.446899890899658, -4.173299789428711, -4.695099830627441, -5.008200168609619, -5.093200206756592, -5.08459997177124, -3.127700090408325, -3.1835999488830566, -3.192500114440918, -3.7671000957489014, -3.834399938583374, -3.9033000469207764, -3.9528000354766846, -4.077499866485596, -4.084799766540527, -4.169300079345703, -4.1890997886657715, -4.328999996185303, -4.36299991607666, -4.636099815368652, -4.882999897003174, -4.950099945068359, -4.982100009918213, -5.208399772644043, -5.279399871826172, -5.3144001960754395, -5.320099830627441, -5.4120001792907715, -5.626100063323975, -5.677499771118164, -5.7444000244140625, -5.894599914550781, -6.006899833679199, -6.009699821472168, -6.030600070953369, -6.084199905395508, -3.5485999584198, -3.7437000274658203, -4.227200031280518, -4.543300151824951, -4.730599880218506, -3.493799924850464, -3.864300012588501, -3.813499927520752, -3.3584001064300537, -3.9079999923706055, -3.837100028991699, -4.298699855804443, -4.176199913024902, -3.8608999252319336, -4.689499855041504, -4.4405999183654785, -4.637199878692627, -4.571899890899658, -4.591899871826172, -2.5764000415802, -3.228100061416626, -3.31469988822937, -3.384399890899658, -3.6858999729156494, -3.7451000213623047, -3.9196999073028564, -4.026500225067139, -4.271200180053711, -4.3831000328063965, -4.402699947357178, -4.414299964904785, -4.488699913024902, -4.663000106811523, -4.005300045013428, -4.9430999755859375, -4.977700233459473, -4.981299877166748, -5.015600204467773, -5.022799968719482, -5.067500114440918, -5.091899871826172, -5.2434000968933105, -5.244900226593018, -5.252799987792969, -5.3059000968933105, -5.39739990234375, -5.453999996185303, -5.540500164031982, -5.565499782562256, -2.8278000354766846, -2.1821999549865723, -3.824399948120117, -4.646299839019775, -4.101399898529053, -3.8480000495910645, -4.014100074768066, -3.910799980163574, -4.285200119018555, -3.726599931716919, -4.161099910736084, -4.556600093841553, -2.605799913406372, -3.2251999378204346, -3.5676000118255615, -3.5906999111175537, -3.60509991645813, -3.6180999279022217, -3.688699960708618, -3.7451999187469482, -3.7744998931884766, -3.789900064468384, -3.8935000896453857, -3.9307000637054443, -3.983599901199341, -4.1143999099731445, -4.228600025177002, -4.241399765014648, -4.313300132751465, -4.324399948120117, -4.368599891662598, -4.3907999992370605, -4.568900108337402, -4.5991997718811035, -4.622900009155273, -4.633600234985352, -4.6407999992370605, -4.718699932098389, -4.7519001960754395, -4.754000186920166, -4.758399963378906, -4.809299945831299, -3.3838000297546387, -3.9179999828338623, -4.521200180053711, -2.2685000896453857, -2.916599988937378, -3.031100034713745, -3.613600015640259, -3.7685999870300293, -3.8213999271392822, -4.092199802398682, -4.148499965667725, -4.151500225067139, -4.5040998458862305, -4.5482001304626465, -4.564799785614014, -4.590000152587891, -4.643400192260742, -4.685400009155273, -4.725800037384033, -4.782700061798096, -4.837299823760986, -4.922399997711182, -4.972599983215332, -5.053199768066406, -5.057300090789795, -5.073699951171875, -5.100399971008301, -5.123700141906738, -5.168300151824951, -5.214000225067139, -5.236400127410889, -5.290900230407715, -5.316500186920166, -3.6603000164031982, -4.21560001373291, -3.8838999271392822, -4.283599853515625, -4.599599838256836, -4.10129976272583, -4.501100063323975, -4.1153998374938965, -4.824399948120117, -4.669899940490723, -4.940299987792969, -2.328200101852417, -3.2458999156951904, -3.463399887084961, -3.699199914932251, -3.7625999450683594, -3.886399984359741, -3.9024999141693115, -3.9191999435424805, -4.117199897766113, -4.178299903869629, -4.216599941253662, -4.230400085449219, -4.277500152587891, -4.279799938201904, -4.326600074768066, -4.3394999504089355, -4.342400074005127, -4.367300033569336, -4.4019999504089355, -4.557799816131592, -4.639699935913086, -4.673500061035156, -4.6855998039245605, -4.691100120544434, -4.735400199890137, -4.739999771118164, -4.773399829864502, -4.789100170135498, -4.795400142669678, -4.906000137329102, -4.116799831390381, -4.322000026702881, -4.165999889373779, -4.499499797821045, -4.622399806976318, -2.4151999950408936, -2.925299882888794, -3.137500047683716, -3.2614998817443848, -3.315200090408325, -3.6373000144958496, -3.6624999046325684, -3.8145999908447266, -3.8557000160217285, -4.063499927520752, -4.144999980926514, -4.253200054168701, -4.289700031280518, -4.30109977722168, -4.327600002288818, -4.3491997718811035, -4.372499942779541, -4.536799907684326, -4.5381999015808105, -4.568999767303467, -4.573599815368652, -4.706699848175049, -4.725500106811523, -4.797999858856201, -4.927199840545654, -4.9552001953125, -4.995500087738037, -5.0696001052856445, -5.188199996948242, -5.395699977874756, -3.974600076675415, -4.120699882507324, -3.4727001190185547, -3.995500087738037, -4.866799831390381, -1.9091999530792236, -3.007699966430664, -3.051100015640259, -3.0634000301361084, -3.473599910736084, -3.599400043487549, -3.9848999977111816, -4.1392998695373535, -4.239299774169922, -4.368000030517578, -4.384300231933594, -4.432700157165527, -4.497600078582764, -4.497799873352051, -4.55620002746582, -4.645299911499023, -4.684899806976318, -4.692200183868408, -4.704999923706055, -4.736499786376953, -4.761099815368652, -4.8379998207092285, -5.077600002288818, -5.299200057983398, -5.3470001220703125, -5.383699893951416, -5.493500232696533, -5.586699962615967, -5.597700119018555, -5.700200080871582, -3.5876998901367188, -3.7822000980377197, -3.9058001041412354, -4.808899879455566, -3.9161999225616455, -4.425899982452393, -4.7221999168396, -4.877200126647949, -1.4843000173568726, -2.2565999031066895, -2.6412999629974365, -2.9189000129699707, -3.4375, -3.8278000354766846, -3.9374001026153564, -3.9460999965667725, -4.143400192260742, -4.996699810028076, -5.01639986038208, -5.0233001708984375, -5.05079984664917, -5.446100234985352, -5.4721999168396, -5.507999897003174, -5.724999904632568, -5.790200233459473, -6.097499847412109, -6.673799991607666, -7.127699851989746, -2.365600109100342, -4.952199935913086, -6.476600170135498, -6.256999969482422, -11.921199798583984, -11.921600341796875, -11.921600341796875, -11.921699523925781, -11.921699523925781, -4.799799919128418, -6.08050012588501, -6.964600086212158, -11.28499984741211, -2.8714001178741455, -2.898099899291992, -3.081399917602539, -3.203000068664551, -3.3747000694274902, -3.4758999347686768, -3.7335000038146973, -3.9560999870300293, -4.056099891662598, -4.084499835968018, -4.105100154876709, -4.329400062561035, -4.367499828338623, -4.377299785614014, -4.542500019073486, -4.546800136566162, -4.814799785614014, -4.844299793243408, -5.061299800872803, -5.152100086212158, -5.197400093078613, -5.201399803161621, -5.297100067138672, -5.457200050354004, -5.49370002746582, -5.528600215911865, -5.531300067901611, -6.152400016784668, -3.700000047683716, -2.052999973297119, -3.519200086593628, -4.3983001708984375, -5.122200012207031, -5.03000020980835, -5.455999851226807, -2.5683000087738037, -2.611799955368042, -2.879199981689453, -3.2471001148223877, -3.6768999099731445, -3.677999973297119, -3.7049999237060547, -3.7149999141693115, -3.7813000679016113, -3.925299882888794, -3.926500082015991, -4.035799980163574, -4.255000114440918, -4.434599876403809, -4.437399864196777, -4.61899995803833, -4.78879976272583, -4.78980016708374, -4.801799774169922, -5.0030999183654785, -5.0706000328063965, -5.404699802398682, -5.430099964141846, -5.435200214385986, -5.441299915313721, -5.509300231933594, -5.529699802398682, -5.5447001457214355, -5.575099945068359, -5.61269998550415, -2.5251998901367188, -3.8422999382019043, -2.328900098800659, -2.5448999404907227, -2.7109999656677246, -3.1428000926971436, -3.4804000854492188, -3.7047998905181885, -3.707200050354004, -3.751699924468994, -3.7792000770568848, -3.8345999717712402, -4.059299945831299, -4.2505998611450195, -4.251699924468994, -4.350500106811523, -4.459700107574463, -4.53879976272583, -4.561399936676025, -4.616399765014648, -4.896999835968018, -4.9492998123168945, -4.966400146484375, -5.041500091552734, -5.201499938964844, -5.215199947357178, -5.345300197601318, -5.480299949645996, -5.813300132751465, -6.044899940490723, -6.312600135803223, -6.709000110626221, -3.730600118637085, -2.3729000091552734, -2.5127999782562256, -2.8573999404907227, -3.0387001037597656, -3.2005999088287354, -3.216900110244751, -3.24429988861084, -3.537899971008301, -3.9344000816345215, -4.00029993057251, -4.089399814605713, -4.213900089263916, -4.2357001304626465, -4.333199977874756, -4.604899883270264, -4.659999847412109, -4.883699893951416, -5.159299850463867, -11.426799774169922, -11.426899909973145, -11.427000045776367, -11.427000045776367, -11.426899909973145, -11.427000045776367, -11.42710018157959, -11.42710018157959, -11.42710018157959, -11.42710018157959, -11.42710018157959, -11.42710018157959, -11.42710018157959, -11.42710018157959, -2.493799924850464, -2.8554000854492188, -2.8745999336242676, -2.9972000122070312, -3.083699941635132, -3.3062000274658203, -3.447499990463257, -3.4960999488830566, -3.7681000232696533, -4.025100231170654, -4.177599906921387, -4.197500228881836, -4.270599842071533, -4.403900146484375, -4.559199810028076, -4.748000144958496, -4.869500160217285, -4.97160005569458, -5.673099994659424, -4.499300003051758, -11.37969970703125, -11.37969970703125, -11.379799842834473, -11.379799842834473, -11.379799842834473, -11.379799842834473, -11.379799842834473, -11.379799842834473, -11.379799842834473, -11.379899978637695, -11.379799842834473, -11.379799842834473, -1.9508999586105347, -2.633500099182129, -3.268699884414673, -3.3847999572753906, -3.5316998958587646, -3.6975998878479004, -3.7335000038146973, -4.258200168609619, -4.384500026702881, -4.571899890899658, -4.865600109100342, -4.880000114440918, -5.227799892425537, -5.343299865722656, -5.43120002746582, -5.86269998550415, -11.178199768066406, -11.178299903869629, -11.178400039672852, -11.178400039672852, -11.178400039672852, -11.178400039672852, -11.178400039672852, -11.178400039672852, -11.178400039672852, -11.178400039672852, -11.178400039672852, -11.178400039672852, -11.178400039672852, -11.178500175476074, -11.178500175476074, -11.178400039672852, -11.178400039672852, -11.178400039672852, -11.178400039672852, -11.178400039672852]}, \"token.table\": {\"Topic\": [3, 5, 7, 10, 17, 3, 6, 11, 1, 19, 20, 7, 7, 10, 12, 19, 18, 3, 5, 6, 1, 2, 3, 4, 5, 7, 10, 13, 10, 12, 5, 7, 5, 4, 11, 17, 4, 6, 3, 3, 6, 13, 6, 1, 17, 12, 17, 12, 15, 3, 6, 9, 10, 10, 5, 7, 2, 9, 2, 16, 11, 13, 1, 2, 3, 4, 5, 7, 20, 1, 1, 2, 2, 3, 6, 3, 3, 1, 20, 1, 2, 4, 20, 8, 9, 1, 2, 5, 8, 16, 17, 5, 10, 6, 9, 11, 9, 15, 8, 17, 19, 19, 2, 4, 5, 13, 8, 7, 4, 8, 10, 8, 12, 1, 2, 3, 9, 19, 7, 10, 8, 1, 2, 4, 6, 13, 9, 17, 1, 20, 14, 14, 18, 4, 3, 6, 5, 3, 3, 6, 6, 3, 4, 16, 9, 18, 5, 19, 12, 8, 5, 13, 2, 3, 17, 16, 4, 4, 5, 1, 14, 16, 16, 16, 5, 7, 8, 3, 4, 12, 8, 2, 3, 4, 12, 12, 4, 5, 9, 11, 4, 5, 6, 11, 16, 7, 14, 13, 7, 17, 18, 1, 8, 4, 2, 6, 2, 6, 3, 4, 6, 8, 11, 15, 6, 13, 6, 13, 8, 5, 2, 3, 3, 6, 10, 14, 6, 8, 12, 17, 16, 18, 12, 8, 16, 14, 18, 3, 1, 7, 4, 3, 15, 8, 17, 7, 18, 5, 2, 2, 5, 7, 8, 9, 20, 8, 10, 8, 10, 2, 3, 3, 15, 15, 2, 9, 7, 13, 7, 13, 5, 2, 3, 4, 5, 9, 13, 10, 5, 10, 16, 2, 3, 3, 1, 1, 14, 17, 8, 3, 5, 16, 1, 12, 1, 3, 12, 5, 1, 3, 6, 13, 3, 9, 16, 19, 1, 2, 7, 8, 10, 20, 7, 12, 12, 6, 7, 7, 2, 12, 14, 2, 1, 2, 3, 5, 6, 7, 6, 13, 13, 2, 3, 5, 6, 1, 15, 10, 19, 19, 2, 6, 15, 19, 1, 3, 4, 5, 7, 18, 10, 4, 6, 7, 17, 17, 15, 19, 2, 15, 5, 19, 9, 2, 10, 10, 9, 1, 2, 5, 7, 20, 8, 17, 2, 2, 14, 3, 1, 2, 6, 7, 1, 2, 3, 4, 6, 10, 1, 3, 6, 7, 13, 2, 1, 2, 6, 1, 2, 2, 5, 7, 2, 4, 5, 10, 10, 20, 13, 2, 16, 2, 6, 11, 8, 1, 7, 2, 1, 3, 5, 3, 12, 16, 8, 1, 4, 7, 9, 16, 9, 3, 4, 7, 4, 3, 17, 7, 13, 5, 7, 18, 5, 5, 8, 10, 1, 16, 8, 11, 12, 11, 11, 3, 4, 6, 11, 2, 1, 2, 3, 6, 5, 6, 1, 2, 3, 18, 6, 3, 12, 4, 2, 15, 11, 2, 6, 14, 1, 2, 3, 4, 4, 16, 3, 2, 10, 1, 1, 2, 7, 11, 4, 7, 2, 3, 6, 5, 4, 17, 12, 1, 2, 4, 7, 2, 10, 15, 19, 16, 10, 5, 7, 8, 7, 1, 2, 3, 4, 2, 3, 6, 5, 1, 2, 3, 4, 5, 6, 7, 20, 3, 5, 10, 9, 1, 3, 9, 9, 8, 17, 1, 5, 7, 8, 10, 10, 6, 11, 2, 14, 1, 15, 16, 13, 5, 4, 10, 8, 15, 11, 11, 13, 10, 9, 4, 5, 13, 2, 4, 7, 10, 1, 2, 7, 6, 2, 3, 7, 6, 3, 1, 2, 4, 5, 7, 5, 1, 4, 5, 3, 14, 2, 5, 7, 6, 1, 10, 18, 11, 6, 1, 2, 4, 5, 6, 12, 11, 12, 1, 12, 5, 2, 6, 4, 7, 14, 2, 4, 4, 1, 8, 15, 15, 15, 2, 3, 4, 5, 6, 1, 2, 1, 4, 11, 4, 12, 5, 7, 9, 2, 12, 1, 2, 3, 4, 5, 17, 1, 2, 4, 7, 8, 11, 19, 11, 14, 1, 3, 6, 8, 10, 1, 9, 1, 3, 6, 15, 5, 18, 2, 14, 18, 12, 15, 2, 14, 14, 8, 1, 2, 3, 14, 16, 13, 4, 6, 6, 19, 20, 11, 6, 5, 1, 7, 14, 10, 4, 6, 16, 12, 6, 4, 9, 11, 18, 16, 1, 2, 10, 1, 5, 8, 19, 2, 7, 7, 9, 4, 5, 6, 3, 3, 5, 5, 6, 12, 9, 4, 1, 4, 11, 16, 1, 3, 5, 1, 9, 17, 8, 10, 6, 1, 3, 7, 17, 1, 2, 1, 3, 2, 3, 6, 7, 10, 4, 12, 8, 10, 15, 4, 3, 5, 9, 11, 11, 3, 3, 11, 4, 1, 6, 7, 4, 4, 7, 3, 4, 5, 13, 1, 9, 12, 18, 13, 7, 8, 3, 19, 17, 13, 13, 2, 1, 2, 3, 6, 11, 3, 6, 10, 6, 10, 11, 12, 14, 14, 11, 7, 20, 1, 3, 2, 5, 8, 6, 15, 1, 2, 14, 1, 5, 6, 10, 13, 10, 13, 4, 7, 15, 19, 1, 2, 3, 6, 17, 12, 15, 12, 12, 2, 7, 17, 17, 8, 14, 2, 5, 9, 5, 4, 5, 7, 9, 5, 1, 2, 3, 1, 5, 13, 4, 13, 2, 6, 7, 3, 10, 16, 9, 4, 4, 1, 2, 5, 6, 7, 8, 17, 8, 1, 6, 13, 13, 15, 5, 2, 16, 20, 16, 1, 4, 6, 6, 11, 7, 8, 15, 6, 15, 9, 1, 1, 3, 4, 5, 6, 7, 5, 7, 15, 15, 15, 10, 3, 12, 9, 16, 17, 8, 10, 17, 15, 8, 1, 3, 5, 14, 2, 5, 3, 4, 6, 3, 11, 7, 4, 1, 2, 6, 2, 14, 9, 12, 10, 1, 12, 3, 4, 5, 6, 7, 8, 1, 2, 5, 18, 1, 20, 20, 8, 10, 16, 5, 8, 1, 2, 3, 6, 5, 4, 6, 10, 14, 5, 4, 5, 15, 18, 1, 2, 3, 6, 1, 2, 7, 3, 1, 2, 3, 1, 2, 3, 1, 2, 20, 1, 2, 3, 5, 16, 2, 3, 6, 13, 17, 5, 15, 19, 9, 13, 13, 15, 5, 12, 9, 11, 13, 11, 1, 3, 3, 1, 2, 6, 6, 2, 17, 4, 8, 4, 16, 7, 19, 13, 1, 4, 5, 7, 15, 14, 8, 10, 15, 7, 5, 6, 11, 9, 6, 10, 13, 8, 3, 14, 2, 1, 2, 6, 6, 18, 1, 2, 3, 6, 13, 2, 4, 1, 2, 17, 16, 2, 7, 8, 15, 6, 3, 6, 1, 1, 11, 1, 2, 4, 5, 8, 7, 1, 2, 1, 1, 3, 2, 4, 6], \"Freq\": [0.9991668462753296, 0.9622403383255005, 0.03631095588207245, 0.9950901865959167, 0.9764313101768494, 0.5321688652038574, 0.13889941573143005, 0.328003466129303, 0.9991814494132996, 0.9478533864021301, 0.91502445936203, 0.9992783665657043, 0.9987083077430725, 0.9982402920722961, 0.9823853373527527, 0.9771619439125061, 0.9648607969284058, 0.27568697929382324, 0.625242292881012, 0.0982711985707283, 0.42263510823249817, 0.04887617006897926, 0.10722315311431885, 0.2650136947631836, 0.04650846868753433, 0.10959085822105408, 0.9921568036079407, 0.9897047281265259, 0.9986463189125061, 0.9968194961547852, 0.059582922607660294, 0.9399719834327698, 0.9986632466316223, 0.9981818199157715, 0.9942300319671631, 0.9858328700065613, 0.796947717666626, 0.201546311378479, 0.9964918494224548, 0.9984449744224548, 0.7943030595779419, 0.20298856496810913, 0.9987617135047913, 0.9998213648796082, 0.9773986339569092, 0.4226202666759491, 0.5685248970985413, 0.9915083646774292, 0.9584296941757202, 0.9987716674804688, 0.9990974068641663, 0.9986817240715027, 0.9956104159355164, 0.9887268543243408, 0.1985563188791275, 0.8009250164031982, 0.9971513152122498, 0.9977275729179382, 0.9995778203010559, 0.9913752675056458, 0.9931426048278809, 0.9928060173988342, 0.00249574426561594, 0.00499148853123188, 0.3069765567779541, 0.4798068404197693, 0.11355637013912201, 0.09171860665082932, 0.9950834512710571, 0.9975817799568176, 0.8397502303123474, 0.16020958125591278, 0.20255692303180695, 0.7299283146858215, 0.06727783381938934, 0.9985038042068481, 0.9996491074562073, 0.9986987709999084, 0.9535679817199707, 0.08408425003290176, 0.8576593399047852, 0.05717729032039642, 0.9966349005699158, 0.9912175536155701, 0.9926133751869202, 0.07091953605413437, 0.02152041159570217, 0.8701093792915344, 0.03668252006173134, 0.9906100630760193, 0.9977111220359802, 0.9445084929466248, 0.05416536331176758, 0.05716476961970329, 0.941857635974884, 0.9955260753631592, 0.9989640712738037, 0.9621232151985168, 0.9936267137527466, 0.9666742086410522, 0.9804022312164307, 0.9671639800071716, 0.08362585306167603, 0.3539046049118042, 0.5626347661018372, 0.9904086589813232, 0.9978708624839783, 0.9936123490333557, 0.9410548210144043, 0.04308295622467995, 0.01538676954805851, 0.9957953691482544, 0.9927586913108826, 0.7921796441078186, 0.049321793019771576, 0.15816038846969604, 0.9927878975868225, 0.9771239161491394, 0.9925780296325684, 0.9995549321174622, 0.9995112419128418, 0.998016357421875, 0.19876690208911896, 0.3357221484184265, 0.2460346519947052, 0.2181587964296341, 0.995231568813324, 0.9796150326728821, 0.9989113211631775, 0.93304443359375, 0.9908574223518372, 0.9122968912124634, 0.9975506067276001, 0.9990207552909851, 0.4556816518306732, 0.5433127284049988, 0.9989011883735657, 0.9990261197090149, 0.9970486164093018, 0.9987207055091858, 0.9983828067779541, 0.9994992613792419, 0.9982993602752686, 0.976934552192688, 0.9971845746040344, 0.9745255708694458, 0.9968453645706177, 0.9892145991325378, 0.9871606230735779, 0.9983044862747192, 0.998816192150116, 0.9565849304199219, 0.8054426312446594, 0.19443145394325256, 0.9800679683685303, 0.9760928750038147, 0.9981348514556885, 0.8252413272857666, 0.1735626608133316, 0.9896600246429443, 0.00903209950774908, 0.9572394490242004, 0.9759349822998047, 0.9911948442459106, 0.7942579388618469, 0.016304414719343185, 0.18866537511348724, 0.9980488419532776, 0.9976221919059753, 0.9895325899124146, 0.9913151860237122, 0.14873838424682617, 0.6147427558898926, 0.23619399964809418, 0.9902657866477966, 0.9939043521881104, 0.9981713891029358, 0.870124101638794, 0.12912270426750183, 0.994423508644104, 0.7585053443908691, 0.08800839632749557, 0.15242691338062286, 0.9965230822563171, 0.9697822332382202, 0.9954037070274353, 0.970171332359314, 0.9958200454711914, 0.9987359642982483, 0.864558219909668, 0.992476224899292, 0.9992474317550659, 0.9882393479347229, 0.9988692402839661, 0.9964139461517334, 0.9987309575080872, 0.9985755681991577, 0.9966191649436951, 0.05341683700680733, 0.8472158908843994, 0.09813790768384933, 0.9942460060119629, 0.9955435991287231, 0.9850179553031921, 0.6556563973426819, 0.3428051173686981, 0.9979097247123718, 0.9932121634483337, 0.9921339154243469, 0.9990212321281433, 0.940592885017395, 0.059173811227083206, 0.2682054340839386, 0.7314693927764893, 0.9957283139228821, 0.9766588807106018, 0.9979049563407898, 0.9932658076286316, 0.9906142354011536, 0.9547438621520996, 0.9653651118278503, 0.9667322039604187, 0.9962542653083801, 0.09531325846910477, 0.9019458293914795, 0.9928111433982849, 0.9597848653793335, 0.998432457447052, 0.9992299675941467, 0.9976813197135925, 0.9972761869430542, 0.9982901811599731, 0.9471074342727661, 0.9982329607009888, 0.8884479403495789, 0.9985629320144653, 0.983025312423706, 0.998431384563446, 0.9980770945549011, 0.6302967071533203, 0.01071457751095295, 0.34426403045654297, 0.014441387727856636, 0.9974184632301331, 0.9869569540023804, 0.8781340718269348, 0.1214321106672287, 0.9460413455963135, 0.05315704643726349, 0.9971112012863159, 0.9979211688041687, 0.6955813765525818, 0.30152496695518494, 0.9415594935417175, 0.9984155893325806, 0.9948765635490417, 0.9988136291503906, 0.9833297729492188, 0.9956231117248535, 0.9865598678588867, 0.9990007281303406, 0.8203104734420776, 0.023512084037065506, 0.06182807311415672, 0.09404833614826202, 0.9967348575592041, 0.9897114038467407, 0.9972490668296814, 0.9984943270683289, 0.9915709495544434, 0.971053957939148, 0.9021732807159424, 0.09726555645465851, 0.9997031092643738, 0.9977753162384033, 0.9441960453987122, 0.05103762447834015, 0.968334436416626, 0.9918465614318848, 0.9284253716468811, 0.07123619318008423, 0.9955093264579773, 0.9984261989593506, 0.9906691908836365, 0.044074878096580505, 0.9546217322349548, 0.9957478642463684, 0.9960750341415405, 0.07461371272802353, 0.8765966892242432, 0.048521801829338074, 0.9937251210212708, 0.9994292259216309, 0.9971153736114502, 0.9984789490699768, 0.9900026917457581, 0.400721937417984, 0.00659082131460309, 0.02636328525841236, 0.3769949674606323, 0.1871793270111084, 0.9700614213943481, 0.9982467293739319, 0.9893060326576233, 0.9983715415000916, 0.9967575669288635, 0.9995899796485901, 0.9946810007095337, 0.8403118252754211, 0.03710467740893364, 0.12004455178976059, 0.9963554739952087, 0.8896471858024597, 0.007478121668100357, 0.016451867297291756, 0.00847520399838686, 0.003988331649452448, 0.07378413528203964, 0.855135977268219, 0.1434078961610794, 0.9968233108520508, 0.8647160530090332, 0.0797138586640358, 0.04054649546742439, 0.014894630759954453, 0.9965795874595642, 0.9955116510391235, 0.9917424321174622, 0.989883542060852, 0.9840686917304993, 0.6178244948387146, 0.0047524962574243546, 0.37544718384742737, 0.9871854186058044, 0.02357867918908596, 0.5365261435508728, 0.03292117267847061, 0.15748777985572815, 0.24868832528591156, 0.9918964505195618, 0.9969500303268433, 0.08278591185808182, 0.9161641001701355, 0.9987120628356934, 0.9763004779815674, 0.9940469861030579, 0.4081568121910095, 0.5744429230690002, 0.9989976286888123, 0.9936382174491882, 0.9987570643424988, 0.9716435074806213, 0.9938006401062012, 0.9995590448379517, 0.9929766654968262, 0.9957591891288757, 0.9922777414321899, 0.13288293778896332, 0.8372824788093567, 0.01159560214728117, 0.017993176355957985, 0.9870609641075134, 0.9936973452568054, 0.958706796169281, 0.9999115467071533, 0.9985031485557556, 0.9443674087524414, 0.9990214109420776, 0.6057884693145752, 0.394112765789032, 0.9995001554489136, 0.99798583984375, 0.060518529266119, 0.8331384062767029, 0.05345803499221802, 0.05244939401745796, 0.09537045657634735, 0.9024870991706848, 0.3191255033016205, 0.4238254725933075, 0.07370877265930176, 0.18343433737754822, 0.9989277124404907, 0.9989750981330872, 0.01820790395140648, 0.8484883308410645, 0.13265758752822876, 0.7589051127433777, 0.24067050218582153, 0.5046613812446594, 0.0377802848815918, 0.4571760892868042, 0.0004523522511590272, 0.9042521715164185, 0.010404102504253387, 0.08413752168416977, 0.9929296374320984, 0.9811204671859741, 0.97160404920578, 0.9989008903503418, 0.9940693974494934, 0.9501827955245972, 0.049083516001701355, 0.9967390894889832, 0.9926608800888062, 0.9502399563789368, 0.04944918304681778, 0.9986156225204468, 0.40884026885032654, 0.46177682280540466, 0.12903282046318054, 0.9986832737922668, 0.9946311712265015, 0.9951473474502563, 0.994172215461731, 0.9993930459022522, 0.9983634948730469, 0.9994763135910034, 0.9931307435035706, 0.9911097884178162, 0.9963533282279968, 0.05072687566280365, 0.39599689841270447, 0.5526774525642395, 0.9991585612297058, 0.9973128437995911, 0.9805583357810974, 0.9993968605995178, 0.9894447326660156, 0.4044265151023865, 0.5955239534378052, 0.960587739944458, 0.997835636138916, 0.4573809504508972, 0.5410658121109009, 0.9973050355911255, 0.9980849027633667, 0.9955540299415588, 0.9966133236885071, 0.9912111163139343, 0.9908834099769592, 0.9932878613471985, 0.998203694820404, 0.804847240447998, 0.19152486324310303, 0.0027677002362906933, 0.9983755350112915, 0.9977635145187378, 0.008125117048621178, 0.8021295666694641, 0.1769469827413559, 0.012187675572931767, 0.9997749328613281, 0.9992658495903015, 0.8823735117912292, 0.11749961227178574, 0.9983268976211548, 0.9813863635063171, 0.997895359992981, 0.2931673228740692, 0.7051862478256226, 0.9993088841438293, 0.9995580911636353, 0.9956595301628113, 0.9992725849151611, 0.8924053311347961, 0.10673867911100388, 0.9139479994773865, 0.19748318195343018, 0.0600757896900177, 0.17319722473621368, 0.5688027143478394, 0.9984341859817505, 0.9974702000617981, 0.998859703540802, 0.6241378784179688, 0.3753955364227295, 0.9981610774993896, 0.9446167349815369, 0.008908722549676895, 0.046369172632694244, 0.9939978718757629, 0.38485661149024963, 0.6139835119247437, 0.275150865316391, 0.3561735451221466, 0.36813661456108093, 0.9966672658920288, 0.9989168047904968, 0.9887994527816772, 0.9984297752380371, 0.32562658190727234, 0.547450840473175, 0.0056878007017076015, 0.12086576223373413, 0.9994087815284729, 0.9987428188323975, 0.992430567741394, 0.9346712827682495, 0.9436414241790771, 0.9878416657447815, 0.5699290037155151, 0.032458268105983734, 0.3971364498138428, 0.9995546936988831, 0.6598494648933411, 0.19428089261054993, 0.10644695162773132, 0.03917247802019119, 0.09442710876464844, 0.7598431706428528, 0.14508332312107086, 0.9979218244552612, 0.43491441011428833, 0.045767005532979965, 0.423664391040802, 0.06340903788805008, 0.024289751425385475, 0.00792612973600626, 0.9959271550178528, 0.9666661620140076, 0.5139845609664917, 0.39687415957450867, 0.08457974344491959, 0.9959577918052673, 0.41959574818611145, 0.5797677040100098, 0.995249330997467, 0.9974334239959717, 0.9986101984977722, 0.986326277256012, 0.33546704053878784, 0.6159132122993469, 0.047542303800582886, 0.9872649312019348, 0.9876925349235535, 0.9971590638160706, 0.997715175151825, 0.9943219423294067, 0.9985318183898926, 0.9946412444114685, 0.9971169233322144, 0.9964818954467773, 0.9709199070930481, 0.9897305965423584, 0.9978616833686829, 0.9831806421279907, 0.015909072011709213, 0.9981253743171692, 0.9930807948112488, 0.9981767535209656, 0.9936477541923523, 0.9888918995857239, 0.9887363314628601, 0.9952967762947083, 0.9970605969429016, 0.9976184964179993, 0.9929932951927185, 0.9328196048736572, 0.06597545742988586, 0.9935125708580017, 0.9879776239395142, 0.8579897880554199, 0.14183861017227173, 0.9970235824584961, 0.9986293315887451, 0.5136086940765381, 0.1805930733680725, 0.30534815788269043, 0.9958329796791077, 0.9976683855056763, 0.6091265678405762, 0.04209694638848305, 0.0002325798268429935, 0.32212305068969727, 0.02628152072429657, 0.9990428686141968, 0.004359745886176825, 0.9353108406066895, 0.060164496302604675, 0.9785622358322144, 0.020698143169283867, 0.944438099861145, 0.020396895706653595, 0.03461291640996933, 0.9963405728340149, 0.9990553259849548, 0.9943830370903015, 0.9972381591796875, 0.9957274198532104, 0.9986934661865234, 0.3764674961566925, 0.07556336373090744, 0.1248144879937172, 0.38152754306793213, 0.04149238392710686, 0.9962294697761536, 0.9263218641281128, 0.07076069712638855, 0.04165514558553696, 0.9488116502761841, 0.9967538714408875, 0.9980947375297546, 0.9962736964225769, 0.9729405045509338, 0.026595184579491615, 0.9507998824119568, 0.5067322254180908, 0.49282944202423096, 0.9979369640350342, 0.999271035194397, 0.993950605392456, 0.9948239326477051, 0.971065104007721, 0.9496909379959106, 0.008354195393621922, 0.22310617566108704, 0.6771813035011292, 0.08255910873413086, 0.008354195393621922, 0.9998064041137695, 0.9979839324951172, 0.9617018699645996, 0.02832920104265213, 0.009691569022834301, 0.9967857003211975, 0.9863852262496948, 0.9982041716575623, 0.6605092883110046, 0.3378641903400421, 0.552976667881012, 0.44459325075149536, 0.09473240375518799, 0.03755158185958862, 0.46299394965171814, 0.20952077209949493, 0.1950121968984604, 0.9887698292732239, 0.998481810092926, 0.053049877285957336, 0.9465613961219788, 0.20749808847904205, 0.7898876667022705, 0.9959230422973633, 0.9927039742469788, 0.9940549731254578, 0.9899903535842896, 0.2603711485862732, 0.4378679096698761, 0.3016167879104614, 0.7407517433166504, 0.2584017813205719, 0.9993001818656921, 0.9975216388702393, 0.040397416800260544, 0.7991114258766174, 0.1596960425376892, 0.9838575720787048, 0.998762845993042, 0.9784467220306396, 0.9989591240882874, 0.9978446960449219, 0.9939921498298645, 0.9932078719139099, 0.9823222756385803, 0.4673975706100464, 0.5316647291183472, 0.9984796643257141, 0.994775652885437, 0.7001637816429138, 0.08135132491588593, 0.20093777775764465, 0.017354950308799744, 0.9396706223487854, 0.9973174929618835, 0.05264567956328392, 0.9455974102020264, 0.9968886375427246, 0.9548564553260803, 0.985487163066864, 0.9945850372314453, 0.9966502785682678, 0.9973424673080444, 0.8386003971099854, 0.1611972153186798, 0.977777898311615, 0.9946742057800293, 0.9864793419837952, 0.012732337228953838, 0.992093563079834, 0.9852288365364075, 0.9981411695480347, 0.9990569949150085, 0.9947393536567688, 0.9928602576255798, 0.9969020485877991, 0.9460172653198242, 0.8558362126350403, 0.14357610046863556, 0.9927730560302734, 0.827116847038269, 0.042589377611875534, 0.12984566390514374, 0.9905110001564026, 0.07988984882831573, 0.9187332391738892, 0.9995633959770203, 0.993346631526947, 0.9985703229904175, 0.32586202025413513, 0.6720904111862183, 0.9992958307266235, 0.3849336504936218, 0.614222526550293, 0.46356499195098877, 0.5362474322319031, 0.9898844361305237, 0.9986811876296997, 0.9984332919120789, 0.34642717242240906, 0.3299306333065033, 0.3228607177734375, 0.9695598483085632, 0.6796342730522156, 0.2928777039051056, 0.02703954093158245, 0.9985792636871338, 0.9911385774612427, 0.9898334741592407, 0.9939367175102234, 0.9989055395126343, 0.9979375004768372, 0.8496736884117126, 0.04435311257839203, 0.10556773841381073, 0.9673603773117065, 0.8521069884300232, 0.14772462844848633, 0.11991967260837555, 0.8798251748085022, 0.06843772530555725, 0.20531316101551056, 0.06299380958080292, 0.6618238687515259, 0.987918496131897, 0.9980202913284302, 0.9806225895881653, 0.9955657720565796, 0.9910045862197876, 0.9649330973625183, 0.9984829425811768, 0.07132863998413086, 0.47478124499320984, 0.45249104499816895, 0.9934539198875427, 0.9904807806015015, 0.9987369179725647, 0.9980279207229614, 0.9941806793212891, 0.9974843263626099, 0.9039508104324341, 0.03140148147940636, 0.06383251398801804, 0.9989961385726929, 0.07049672305583954, 0.9282068014144897, 0.19798029959201813, 0.17566251754760742, 0.614818811416626, 0.010798925533890724, 0.3779177963733673, 0.1731022149324417, 0.4479515254497528, 0.9807665348052979, 0.9727071523666382, 0.14149312674999237, 0.8532464504241943, 0.9985135197639465, 0.9806662797927856, 0.9978054165840149, 0.9660835266113281, 0.9818146228790283, 0.9969216585159302, 0.2496281862258911, 0.317168265581131, 0.12346328794956207, 0.3082529902458191, 0.0010806415230035782, 0.35010233521461487, 0.399894654750824, 0.2489616572856903, 0.42339086532592773, 0.5743024349212646, 0.9943875670433044, 0.9916884303092957, 0.953424870967865, 0.9836434721946716, 0.9976034164428711, 0.9909135699272156, 0.8300358653068542, 0.06329642981290817, 0.9352756142616272, 0.4679739773273468, 0.4604312777519226, 0.07149146497249603, 0.7899643778800964, 0.20420847833156586, 0.16370615363121033, 0.8361114859580994, 0.9648531079292297, 0.5297008156776428, 0.08956293761730194, 0.0562967024743557, 0.11515234410762787, 0.2047152817249298, 0.4667462408542633, 0.5303934216499329, 0.9981914758682251, 0.9971340894699097, 0.9956763386726379, 0.9875196814537048, 0.01529692206531763, 0.4848557710647583, 0.4943738579750061, 0.005325595382601023, 0.9886437654495239, 0.0965048149228096, 0.8969271183013916, 0.9985396265983582, 0.9966689944267273, 0.998563826084137, 0.9986962676048279, 0.9233052134513855, 0.9932506084442139, 0.9935092926025391, 0.9983141422271729, 0.9281368255615234, 0.05809604376554489, 0.013299094513058662, 0.9982753992080688, 0.11731530725955963, 0.09865150600671768, 0.7678819894790649, 0.014664413407444954, 0.9968996047973633, 0.5731945037841797, 0.3605228066444397, 0.06615711003541946, 0.9996520280838013, 0.9988670349121094, 0.9737392663955688, 0.9994471073150635, 0.9531338214874268, 0.11826585233211517, 0.03168632462620735, 0.8497290015220642, 0.9991340041160583, 0.086142897605896, 0.9078136086463928, 0.9983609914779663, 0.9987828135490417, 0.9991833567619324, 0.20970964431762695, 0.05977930128574371, 0.6488946676254272, 0.03085383214056492, 0.048209112137556076, 0.002410455606877804, 0.9688134789466858, 0.9930813908576965, 0.9973563551902771, 0.6722492575645447, 0.32626497745513916, 0.9959059953689575, 0.9879721999168396, 0.9979475736618042, 0.9979187250137329, 0.9624043703079224, 0.9699947237968445, 0.9981338977813721, 0.04154752939939499, 0.9352113604545593, 0.022733554244041443, 0.48045140504837036, 0.5157138705253601, 0.9609769582748413, 0.03823171928524971, 0.9853918552398682, 0.9986352324485779, 0.9479101300239563, 0.9958541989326477, 0.9984164834022522, 0.998090386390686, 0.1524343490600586, 0.047326184809207916, 0.0005503044812940061, 0.03852131590247154, 0.7610711455345154, 0.05776828154921532, 0.06418697535991669, 0.8772220611572266, 0.9824050068855286, 0.9812163710594177, 0.9928994178771973, 0.9988581538200378, 0.9884496331214905, 0.997563362121582, 0.9918281435966492, 0.9147617816925049, 0.5195422172546387, 0.47966766357421875, 0.986443281173706, 0.9440585374832153, 0.9922958612442017, 0.07008352875709534, 0.11313483864068985, 0.8159725069999695, 0.9941092133522034, 0.9879377484321594, 0.01178815122693777, 0.2253507524728775, 0.11304971575737, 0.661453127861023, 0.9980888366699219, 0.9936808943748474, 0.9951835870742798, 0.9972103834152222, 0.3401990532875061, 0.6472878456115723, 0.012007026001811028, 0.998027503490448, 0.9702659249305725, 0.9987356662750244, 0.9842528700828552, 0.9899425506591797, 0.9988825917243958, 0.9842897653579712, 0.1442769467830658, 0.44205155968666077, 0.17193907499313354, 0.028746910393238068, 0.1865837275981903, 0.02549254335463047, 0.9467296004295349, 0.04520420730113983, 0.007676186040043831, 0.9934551119804382, 0.9972368478775024, 0.9088107943534851, 0.9660078883171082, 0.9919427633285522, 0.005248374305665493, 0.9606111645698547, 0.9951387643814087, 0.004639811813831329, 0.20535573363304138, 0.7003689408302307, 0.0658218041062355, 0.02823900803923607, 0.9978874325752258, 0.9990205764770508, 0.3913964629173279, 0.6068162322044373, 0.9993348121643066, 0.9972243309020996, 0.011606687679886818, 0.9788306355476379, 0.00851157121360302, 0.9819505214691162, 0.42555123567581177, 0.49046066403388977, 0.08371499180793762, 0.9958779811859131, 0.3560633361339569, 0.0032315978314727545, 0.6404439210891724, 0.9966313242912292, 0.8516108989715576, 0.07482864707708359, 0.07308844476938248, 0.8275545835494995, 0.1312842220067978, 0.041077494621276855, 0.9988059401512146, 0.998627245426178, 0.9895054697990417, 0.2943958640098572, 0.6612346768379211, 0.015413396060466766, 0.02882305160164833, 0.9821904301643372, 0.32093459367752075, 0.18416045606136322, 0.4943254292011261, 0.9746973514556885, 0.9840505719184875, 0.9973581433296204, 0.986620306968689, 0.9947612285614014, 0.47213214635849, 0.5214594006538391, 0.9859259128570557, 0.9696537256240845, 0.9983574151992798, 0.984961211681366, 0.9980900883674622, 0.994098424911499, 0.993202805519104, 0.9913650751113892, 0.20015977323055267, 0.7993802428245544, 0.9990465044975281, 0.9735093116760254, 0.026317471638321877, 0.9977232217788696, 0.9964271187782288, 0.9988744854927063, 0.9573909044265747, 0.9704805016517639, 0.02842121571302414, 0.9973074197769165, 0.9904494881629944, 0.9975650906562805, 0.9963112473487854, 0.9818787574768066, 0.2787454128265381, 0.017522994428873062, 0.7035157680511475, 0.9963874220848083, 0.9839037656784058, 0.8123654723167419, 0.991923451423645, 0.87143874168396, 0.12491613626480103, 0.9987587928771973, 0.9985595941543579, 0.997855544090271, 0.9928992390632629, 0.9933431148529053, 0.9244346618652344, 0.07225466519594193, 0.9622053503990173, 0.9884992241859436, 0.9527698755264282, 0.04480109363794327, 0.9976814985275269, 0.8927010297775269, 0.10704674571752548, 0.9987189769744873, 0.9988737106323242, 0.9945178031921387, 0.7391752004623413, 0.12536923587322235, 0.07572484761476517, 0.05971052870154381, 0.9970517158508301, 0.9454911351203918, 0.05339983105659485, 0.6190328598022461, 0.38080766797065735, 0.9959190487861633, 0.9883357882499695, 0.9993061423301697, 0.9867410659790039, 0.012587379664182663, 0.9970582723617554, 0.9968517422676086, 0.3450057804584503, 0.6540734767913818, 0.9981392025947571, 0.8800156116485596, 0.11921903491020203, 0.36839228868484497, 0.20646856725215912, 0.22525763511657715, 0.1813461184501648, 0.01836683601140976, 0.9975831508636475, 0.9430474638938904, 0.0569162480533123, 0.9999340772628784, 0.9484650492668152, 0.050933536142110825, 0.9755898118019104, 0.014073948375880718, 0.00999454315751791], \"Term\": [\"accept\", \"access\", \"access\", \"accident\", \"accomplish\", \"act\", \"act\", \"act\", \"actually\", \"adapter\", \"added_forwarde\", \"address\", \"advance\", \"advice\", \"afford\", \"alarm\", \"alert\", \"allow\", \"allow\", \"allow\", \"also\", \"also\", \"also\", \"also\", \"also\", \"also\", \"amazing\", \"ammunition\", \"amount\", \"analysis\", \"application\", \"application\", \"appreciate\", \"appropriate\", \"arab\", \"arbitrary\", \"area\", \"area\", \"argue\", \"argument\", \"arm\", \"arm\", \"armenian\", \"article\", \"aside\", \"aspect\", \"aspect\", \"assist\", \"asteroid\", \"atheist\", \"attack\", \"author\", \"auto\", \"automatic\", \"available\", \"available\", \"average\", \"aware\", \"back\", \"backup\", \"ban\", \"bank\", \"base\", \"base\", \"base\", \"base\", \"base\", \"base\", \"baseball\", \"basically\", \"be\", \"be\", \"become\", \"become\", \"become\", \"belief\", \"believe\", \"better\", \"biased\", \"big\", \"big\", \"big\", \"bike\", \"bio\", \"birth\", \"bit\", \"bit\", \"bit\", \"bit\", \"bite\", \"black\", \"block\", \"block\", \"body\", \"body\", \"bomb\", \"book\", \"booster\", \"boot\", \"boundary\", \"brave\", \"brief\", \"build\", \"build\", \"build\", \"bullet\", \"bus\", \"button\", \"buy\", \"buy\", \"buy\", \"cable\", \"camp\", \"can\", \"can\", \"can\", \"cap\", \"captain\", \"capture\", \"car\", \"card\", \"care\", \"carry\", \"carry\", \"carry\", \"carry\", \"cd\", \"ceremonial\", \"certainly\", \"chamber\", \"channel\", \"char\", \"character\", \"cheap\", \"child\", \"child\", \"chip\", \"christian\", \"christianity\", \"citizen\", \"city\", \"claim\", \"class\", \"classic\", \"clearly\", \"click\", \"clipper_chip\", \"clock\", \"college\", \"color\", \"com\", \"combat\", \"come\", \"come\", \"commandment\", \"communications_service\", \"community\", \"company\", \"company\", \"compare\", \"compare\", \"complexity\", \"compress\", \"compression\", \"computer\", \"computer\", \"computer\", \"conclusion\", \"condition\", \"conference\", \"connector\", \"consider\", \"consider\", \"consider\", \"consist\", \"constitution\", \"contact\", \"contain\", \"contain\", \"context\", \"control\", \"control\", \"control\", \"controller\", \"convenient\", \"convert\", \"converter\", \"cop\", \"copy\", \"corinthian\", \"corner\", \"correct\", \"correction\", \"cost\", \"could\", \"country\", \"couple\", \"court\", \"cover\", \"cover\", \"cover\", \"crash\", \"creation\", \"crew\", \"crime\", \"crime\", \"criminal\", \"cub\", \"dark\", \"datum\", \"day\", \"day\", \"death\", \"death\", \"decent\", \"defensive\", \"deny\", \"depth\", \"derive\", \"descend\", \"designer\", \"developer\", \"development\", \"device\", \"device\", \"devil\", \"diameter\", \"die\", \"difference\", \"digital\", \"direct\", \"discussion\", \"dish\", \"disk\", \"disobey\", \"display\", \"distant\", \"distribution\", \"division\", \"do\", \"do\", \"do\", \"do\", \"doctor\", \"dod\", \"drive\", \"drive\", \"driver\", \"driver\", \"drop\", \"drug\", \"earth\", \"earth\", \"earth_orbit\", \"eat\", \"element\", \"email\", \"employment\", \"enable\", \"encounter\", \"encryption\", \"end\", \"end\", \"end\", \"end\", \"energy\", \"engage\", \"engine\", \"entry\", \"environmental\", \"esdi\", \"ever\", \"ever\", \"evidence\", \"exactly\", \"excellent\", \"excellent\", \"excellent_condition\", \"exe\", \"exist\", \"exist\", \"expansion\", \"experience\", \"experiment\", \"explain\", \"explain\", \"extend\", \"external\", \"fact\", \"fact\", \"fact\", \"factory\", \"faith\", \"family\", \"fan\", \"faq\", \"fast\", \"fast\", \"fast\", \"fast\", \"fast\", \"fatal\", \"feature\", \"fee\", \"field\", \"fight\", \"file\", \"film\", \"final\", \"final\", \"final\", \"finally\", \"find\", \"find\", \"find\", \"find\", \"find\", \"find\", \"fire\", \"fire\", \"firearm\", \"first\", \"first\", \"first\", \"first\", \"flame\", \"flight\", \"floor\", \"floppy\", \"floppy_disk\", \"fly\", \"fly\", \"fly\", \"flyer\", \"follow\", \"follow\", \"follow\", \"follow\", \"follow\", \"font\", \"foot\", \"force\", \"force\", \"format\", \"foundation\", \"frame\", \"frequently_aske\", \"frequently_aske\", \"friend\", \"fuel\", \"function\", \"functionality\", \"gain\", \"game\", \"gas\", \"gear\", \"german\", \"get\", \"get\", \"get\", \"get\", \"giant\", \"gif\", \"glory\", \"go\", \"goal\", \"goalie\", \"god\", \"good\", \"good\", \"government\", \"graphic\", \"great\", \"great\", \"great\", \"great\", \"ground\", \"ground\", \"group\", \"group\", \"group\", \"group\", \"gun\", \"guy\", \"happen\", \"happen\", \"happen\", \"have\", \"have\", \"help\", \"help\", \"help\", \"high\", \"high\", \"high\", \"high\", \"highway\", \"hire\", \"historian\", \"hit\", \"hole\", \"home\", \"home\", \"homosexual\", \"hook\", \"host\", \"host\", \"hour\", \"however\", \"however\", \"however\", \"human\", \"ice\", \"icon\", \"ide\", \"idea\", \"ignore\", \"image\", \"immediate\", \"import\", \"improve\", \"include\", \"include\", \"include\", \"increase\", \"indeed\", \"indication\", \"info\", \"inform\", \"information\", \"information\", \"inherent\", \"input\", \"instal\", \"instal\", \"insurance\", \"interesting\", \"interface\", \"internal\", \"invasion\", \"invite\", \"islamic\", \"israeli\", \"issue\", \"issue\", \"issue\", \"jewish\", \"job\", \"keep\", \"keep\", \"keep\", \"keep\", \"key\", \"kill\", \"know\", \"know\", \"knowledge\", \"label\", \"land\", \"language\", \"language\", \"large\", \"last\", \"launch\", \"law\", \"leave\", \"leave\", \"lemieux\", \"less\", \"less\", \"less\", \"less\", \"level\", \"license\", \"life\", \"light\", \"light\", \"like\", \"line\", \"line\", \"line\", \"link\", \"list\", \"list\", \"live\", \"live\", \"live\", \"load\", \"local\", \"locate\", \"logic\", \"look\", \"look\", \"look\", \"look\", \"lose\", \"low\", \"lunar\", \"lunar_orbit\", \"lung\", \"luxury\", \"machine\", \"machine\", \"machine\", \"mail\", \"make\", \"make\", \"make\", \"make\", \"man\", \"man\", \"man\", \"manager\", \"many\", \"many\", \"many\", \"many\", \"many\", \"many\", \"map\", \"mapping\", \"mark\", \"mark\", \"mark\", \"material\", \"mean\", \"mean\", \"medical\", \"meet\", \"memory\", \"mercy\", \"message\", \"message\", \"message\", \"meter\", \"mid\", \"mile\", \"military\", \"militia\", \"minute\", \"mirror\", \"miss\", \"mission\", \"misuse\", \"mix\", \"mode\", \"model\", \"model\", \"monitor\", \"moon\", \"moral\", \"morality\", \"motion\", \"motor\", \"motto\", \"mount\", \"mouse\", \"mouth\", \"move\", \"move\", \"movie\", \"mph\", \"much\", \"much\", \"multiple\", \"murder\", \"name\", \"name\", \"name\", \"nation\", \"nature\", \"need\", \"need\", \"need\", \"need\", \"need\", \"network\", \"new\", \"new\", \"new\", \"news\", \"news\", \"next\", \"next\", \"next\", \"night\", \"nntp_posting\", \"noise\", \"normal\", \"northern\", \"notice\", \"number\", \"number\", \"number\", \"number\", \"number\", \"object\", \"objective\", \"objective\", \"observation\", \"observation\", \"obtain\", \"obviously\", \"occupy\", \"offer\", \"offer\", \"oiler\", \"old\", \"old\", \"operate\", \"opinion\", \"opinions_expresse\", \"orbit\", \"orbital\", \"orbiter\", \"order\", \"order\", \"order\", \"order\", \"order\", \"organization\", \"originator\", \"other\", \"other\", \"other\", \"owner\", \"ozone\", \"package\", \"page\", \"page\", \"paper\", \"paper\", \"part\", \"part\", \"part\", \"part\", \"part\", \"passage\", \"patient\", \"pay\", \"pay\", \"pc\", \"pc\", \"peace\", \"pen\", \"penalty\", \"penguin\", \"people\", \"people\", \"people\", \"performance\", \"performance\", \"perhaps\", \"period\", \"person\", \"person\", \"person\", \"phase\", \"phone\", \"physics\", \"pick\", \"picture\", \"plane\", \"planet\", \"planetary\", \"play\", \"play\", \"player\", \"plug\", \"point\", \"point\", \"point\", \"point\", \"pole\", \"police\", \"policy\", \"policy\", \"political\", \"poll\", \"pop\", \"popular\", \"population\", \"port\", \"post\", \"post\", \"postscript\", \"pound\", \"power\", \"power\", \"predict\", \"presentation\", \"press\", \"price\", \"primary\", \"principle\", \"printer\", \"privately\", \"probably\", \"probably\", \"probe\", \"problem\", \"problem\", \"problem\", \"procedure\", \"product\", \"product\", \"program\", \"progress\", \"project\", \"protect\", \"protect\", \"prove\", \"provide\", \"provide\", \"public\", \"public\", \"publication\", \"publish\", \"purchase\", \"purpose\", \"purpose\", \"purpose\", \"quadra\", \"question\", \"question\", \"question\", \"quite\", \"radiation\", \"radius\", \"ram\", \"rate\", \"rational\", \"read\", \"read\", \"read\", \"readily\", \"really\", \"really\", \"reason\", \"reason\", \"receive\", \"receive\", \"receive\", \"receive\", \"receiver\", \"recently\", \"recieve\", \"recommend\", \"red\", \"redesign\", \"reduce\", \"reference\", \"reference\", \"reference\", \"regularly\", \"relation\", \"religion\", \"religious\", \"remote\", \"replace\", \"reply\", \"reply\", \"reply\", \"report\", \"request\", \"request\", \"require\", \"require\", \"require\", \"require\", \"research\", \"research\", \"research\", \"reserve\", \"resist\", \"resolution\", \"resolution\", \"respect\", \"retrieve\", \"revelation\", \"revolt\", \"revolver\", \"ride\", \"right\", \"right\", \"right\", \"right\", \"right\", \"risk\", \"risk\", \"risk\", \"road\", \"road\", \"rocket\", \"role\", \"roman\", \"rotate\", \"route\", \"routine\", \"rude\", \"rule\", \"rule\", \"run\", \"run\", \"run\", \"russian\", \"russian\", \"s\", \"s\", \"sabre\", \"safe\", \"safe\", \"safe\", \"safe\", \"safe\", \"safety\", \"safety\", \"sale\", \"sample\", \"satellite\", \"saturn\", \"say\", \"say\", \"say\", \"say\", \"scale\", \"schedule\", \"schedule\", \"science\", \"scientific\", \"score\", \"screen\", \"scriptural\", \"scripture\", \"scsi\", \"season\", \"second\", \"second\", \"second\", \"secret\", \"section\", \"section\", \"section\", \"section\", \"secure\", \"see\", \"see\", \"see\", \"seem\", \"self\", \"self_defense\", \"sell\", \"semi_auto\", \"send\", \"send\", \"send\", \"sense\", \"series\", \"series\", \"serious\", \"server\", \"service\", \"set\", \"set\", \"set\", \"set\", \"set\", \"set\", \"seventh\", \"shape\", \"share\", \"shoot\", \"shoot\", \"should\", \"shuttle\", \"signal\", \"sit\", \"slam\", \"slide\", \"slow\", \"small\", \"small\", \"small\", \"society\", \"society\", \"software\", \"software\", \"solar\", \"soldier\", \"solid_rocket\", \"son\", \"sorry\", \"sort\", \"source\", \"source\", \"source\", \"source\", \"source\", \"space\", \"space\", \"space\", \"space_shuttle\", \"space_station\", \"spacecraft\", \"speak\", \"speaker\", \"special\", \"specification\", \"speculate\", \"speed\", \"speed\", \"spring\", \"ssf\", \"stable\", \"standard\", \"standard\", \"standard\", \"star\", \"start\", \"start\", \"state\", \"state\", \"state\", \"statement\", \"statistic\", \"status\", \"steal\", \"still\", \"still\", \"still\", \"straight\", \"stroke\", \"study\", \"subscription\", \"substance\", \"suggest\", \"summarize\", \"support\", \"support\", \"support\", \"support\", \"support\", \"support\", \"sure\", \"sure\", \"sure\", \"surface\", \"suspect\", \"suspend\", \"suspension\", \"switch\", \"switch\", \"synchronous\", \"system\", \"system\", \"take\", \"take\", \"take\", \"take\", \"tap\", \"tape\", \"tax\", \"tax\", \"team\", \"technical\", \"technology\", \"technology\", \"technology\", \"telescope\", \"tell\", \"tell\", \"tell\", \"terrorism\", \"thank\", \"thank\", \"thank\", \"therefore\", \"thing\", \"thing\", \"thing\", \"think\", \"think\", \"think\", \"thought\", \"throw\", \"tie\", \"time\", \"time\", \"time\", \"time\", \"timing\", \"today\", \"today\", \"today\", \"tolerance\", \"ton\", \"tool\", \"tour\", \"trade\", \"train\", \"train\", \"training\", \"trajectory\", \"transfer\", \"transport\", \"treatment\", \"tree\", \"trigger\", \"truck\", \"true\", \"true\", \"truth\", \"try\", \"try\", \"turk\", \"turkish\", \"turn\", \"twin\", \"type\", \"type\", \"unit\", \"unlikely\", \"update\", \"upgrade\", \"upset\", \"use\", \"use\", \"use\", \"utility\", \"utilize\", \"valerie_hammerl\", \"variation\", \"vehicle\", \"vehicle\", \"version\", \"video\", \"village\", \"violate\", \"violence\", \"visit\", \"visit\", \"void\", \"volt\", \"vote\", \"vote\", \"wait\", \"want\", \"want\", \"war\", \"watch\", \"wave\", \"way\", \"way\", \"way\", \"way\", \"weapon\", \"week\", \"week\", \"well\", \"well\", \"white\", \"white_house\", \"win\", \"window\", \"window\", \"wing\", \"withdraw\", \"woman\", \"woman\", \"wonder\", \"word\", \"word\", \"work\", \"work\", \"work\", \"work\", \"work\", \"workstation\", \"would\", \"would\", \"write\", \"wrong\", \"wrong\", \"year\", \"year\", \"year\"]}, \"R\": 30, \"lambda.step\": 0.01, \"plot.opts\": {\"xlab\": \"PC1\", \"ylab\": \"PC2\"}, \"topic.order\": [16, 2, 11, 6, 7, 14, 19, 9, 15, 5, 1, 18, 12, 10, 8, 4, 13, 3, 20, 17]};\n",
       "\n",
       "function LDAvis_load_lib(url, callback){\n",
       "  var s = document.createElement('script');\n",
       "  s.src = url;\n",
       "  s.async = true;\n",
       "  s.onreadystatechange = s.onload = callback;\n",
       "  s.onerror = function(){console.warn(\"failed to load library \" + url);};\n",
       "  document.getElementsByTagName(\"head\")[0].appendChild(s);\n",
       "}\n",
       "\n",
       "if(typeof(LDAvis) !== \"undefined\"){\n",
       "   // already loaded: just create the visualization\n",
       "   !function(LDAvis){\n",
       "       new LDAvis(\"#\" + \"ldavis_el103321427605120608286212775\", ldavis_el103321427605120608286212775_data);\n",
       "   }(LDAvis);\n",
       "}else if(typeof define === \"function\" && define.amd){\n",
       "   // require.js is available: use it to load d3/LDAvis\n",
       "   require.config({paths: {d3: \"https://cdnjs.cloudflare.com/ajax/libs/d3/3.5.5/d3.min\"}});\n",
       "   require([\"d3\"], function(d3){\n",
       "      window.d3 = d3;\n",
       "      LDAvis_load_lib(\"https://cdn.rawgit.com/bmabey/pyLDAvis/files/ldavis.v1.0.0.js\", function(){\n",
       "        new LDAvis(\"#\" + \"ldavis_el103321427605120608286212775\", ldavis_el103321427605120608286212775_data);\n",
       "      });\n",
       "    });\n",
       "}else{\n",
       "    // require.js not available: dynamically load d3 & LDAvis\n",
       "    LDAvis_load_lib(\"https://cdnjs.cloudflare.com/ajax/libs/d3/3.5.5/d3.min.js\", function(){\n",
       "         LDAvis_load_lib(\"https://cdn.rawgit.com/bmabey/pyLDAvis/files/ldavis.v1.0.0.js\", function(){\n",
       "                 new LDAvis(\"#\" + \"ldavis_el103321427605120608286212775\", ldavis_el103321427605120608286212775_data);\n",
       "            })\n",
       "         });\n",
       "}\n",
       "</script>"
      ],
      "text/plain": [
       "PreparedData(topic_coordinates=              x         y  topics  cluster       Freq\n",
       "topic                                                \n",
       "15     0.330339 -0.107937       1        1  25.896280\n",
       "1      0.306160 -0.153575       2        1  18.145798\n",
       "10     0.297699 -0.140909       3        1  13.385396\n",
       "5      0.197321  0.184735       4        1   9.391539\n",
       "6      0.210218  0.201893       5        1   9.011600\n",
       "13     0.162775 -0.141063       6        1   6.608805\n",
       "18     0.151296  0.166072       7        1   5.589156\n",
       "8     -0.022174  0.205820       8        1   1.852375\n",
       "14    -0.054218  0.031972       9        1   1.819342\n",
       "4     -0.057449  0.107205      10        1   1.771922\n",
       "0     -0.065602 -0.016224      11        1   1.573771\n",
       "17    -0.123926 -0.032329      12        1   0.975453\n",
       "11    -0.133762 -0.038227      13        1   0.805346\n",
       "9     -0.133570 -0.049491      14        1   0.691677\n",
       "7     -0.150230 -0.026561      15        1   0.570025\n",
       "3     -0.162876 -0.031284      16        1   0.569491\n",
       "12    -0.176059 -0.038520      17        1   0.421970\n",
       "2     -0.185421 -0.039531      18        1   0.351844\n",
       "19    -0.189223 -0.040350      19        1   0.302659\n",
       "16    -0.201298 -0.041696      20        1   0.265554, topic_info=     Category          Freq     Term         Total  loglift  logprob\n",
       "188   Default  13760.000000    write  13760.000000  30.0000  30.0000\n",
       "17    Default  13694.000000     line  13694.000000  29.0000  29.0000\n",
       "106   Default   7815.000000       go   7815.000000  28.0000  28.0000\n",
       "169   Default   8982.000000  article   8982.000000  27.0000  27.0000\n",
       "186   Default   4957.000000   system   4957.000000  26.0000  26.0000\n",
       "...       ...           ...      ...           ...      ...      ...\n",
       "3390  Topic20      0.041605     seat      1.212874   2.5586 -11.1784\n",
       "5235  Topic20      0.041605  playoff      1.212885   2.5586 -11.1784\n",
       "8973  Topic20      0.041605   patent      1.212869   2.5586 -11.1784\n",
       "3609  Topic20      0.041606   chance      1.212925   2.5586 -11.1784\n",
       "7780  Topic20      0.041605        _      1.212903   2.5586 -11.1784\n",
       "\n",
       "[855 rows x 6 columns], token_table=      Topic      Freq        Term\n",
       "term                             \n",
       "1228      3  0.999167      accept\n",
       "77        5  0.962240      access\n",
       "77        7  0.036311      access\n",
       "862      10  0.995090    accident\n",
       "2073     17  0.976431  accomplish\n",
       "...     ...       ...         ...\n",
       "434       1  0.948465       wrong\n",
       "434       3  0.050934       wrong\n",
       "35        2  0.975590        year\n",
       "35        4  0.014074        year\n",
       "35        6  0.009995        year\n",
       "\n",
       "[1086 rows x 3 columns], R=30, lambda_step=0.01, plot_opts={'xlab': 'PC1', 'ylab': 'PC2'}, topic_order=[16, 2, 11, 6, 7, 14, 19, 9, 15, 5, 1, 18, 12, 10, 8, 4, 13, 3, 20, 17])"
      ]
     },
     "execution_count": 20,
     "metadata": {},
     "output_type": "execute_result"
    }
   ],
   "source": [
    "# Visualize the topics\n",
    "pyLDAvis.enable_notebook()\n",
    "vis = pyLDAvis.gensim.prepare(lda_model, corpus, id2word)\n",
    "vis"
   ]
  },
  {
   "cell_type": "code",
   "execution_count": 21,
   "metadata": {},
   "outputs": [
    {
     "ename": "FileNotFoundError",
     "evalue": "[Errno 2] No such file or directory: 'C:\\\\Users\\\\dell\\\\AppData\\\\Local\\\\Temp\\\\60faf3_state.mallet.gz'",
     "output_type": "error",
     "traceback": [
      "\u001b[1;31m---------------------------------------------------------------------------\u001b[0m",
      "\u001b[1;31mFileNotFoundError\u001b[0m                         Traceback (most recent call last)",
      "\u001b[1;32m<ipython-input-21-a3de4a523996>\u001b[0m in \u001b[0;36m<module>\u001b[1;34m\u001b[0m\n\u001b[0;32m      1\u001b[0m \u001b[1;31m# Download File: http://mallet.cs.umass.edu/dist/mallet-2.0.8.zip\u001b[0m\u001b[1;33m\u001b[0m\u001b[1;33m\u001b[0m\u001b[0m\n\u001b[0;32m      2\u001b[0m \u001b[0mmallet_path\u001b[0m \u001b[1;33m=\u001b[0m \u001b[1;34m'path/to/mallet-2.0.8/bin/mallet'\u001b[0m \u001b[1;31m# update this path\u001b[0m\u001b[1;33m\u001b[0m\u001b[0m\n\u001b[1;32m----> 3\u001b[1;33m \u001b[0mldamallet\u001b[0m \u001b[1;33m=\u001b[0m \u001b[0mgensim\u001b[0m\u001b[1;33m.\u001b[0m\u001b[0mmodels\u001b[0m\u001b[1;33m.\u001b[0m\u001b[0mwrappers\u001b[0m\u001b[1;33m.\u001b[0m\u001b[0mLdaMallet\u001b[0m\u001b[1;33m(\u001b[0m\u001b[0mmallet_path\u001b[0m\u001b[1;33m,\u001b[0m \u001b[0mcorpus\u001b[0m\u001b[1;33m=\u001b[0m\u001b[0mcorpus\u001b[0m\u001b[1;33m,\u001b[0m \u001b[0mnum_topics\u001b[0m\u001b[1;33m=\u001b[0m\u001b[1;36m20\u001b[0m\u001b[1;33m,\u001b[0m \u001b[0mid2word\u001b[0m\u001b[1;33m=\u001b[0m\u001b[0mid2word\u001b[0m\u001b[1;33m)\u001b[0m\u001b[1;33m\u001b[0m\u001b[0m\n\u001b[0m",
      "\u001b[1;32mc:\\users\\dell\\appdata\\local\\programs\\python\\python36\\lib\\site-packages\\gensim\\models\\wrappers\\ldamallet.py\u001b[0m in \u001b[0;36m__init__\u001b[1;34m(self, mallet_path, corpus, num_topics, alpha, id2word, workers, prefix, optimize_interval, iterations, topic_threshold, random_seed)\u001b[0m\n\u001b[0;32m    129\u001b[0m         \u001b[0mself\u001b[0m\u001b[1;33m.\u001b[0m\u001b[0mrandom_seed\u001b[0m \u001b[1;33m=\u001b[0m \u001b[0mrandom_seed\u001b[0m\u001b[1;33m\u001b[0m\u001b[0m\n\u001b[0;32m    130\u001b[0m         \u001b[1;32mif\u001b[0m \u001b[0mcorpus\u001b[0m \u001b[1;32mis\u001b[0m \u001b[1;32mnot\u001b[0m \u001b[1;32mNone\u001b[0m\u001b[1;33m:\u001b[0m\u001b[1;33m\u001b[0m\u001b[0m\n\u001b[1;32m--> 131\u001b[1;33m             \u001b[0mself\u001b[0m\u001b[1;33m.\u001b[0m\u001b[0mtrain\u001b[0m\u001b[1;33m(\u001b[0m\u001b[0mcorpus\u001b[0m\u001b[1;33m)\u001b[0m\u001b[1;33m\u001b[0m\u001b[0m\n\u001b[0m\u001b[0;32m    132\u001b[0m \u001b[1;33m\u001b[0m\u001b[0m\n\u001b[0;32m    133\u001b[0m     \u001b[1;32mdef\u001b[0m \u001b[0mfinferencer\u001b[0m\u001b[1;33m(\u001b[0m\u001b[0mself\u001b[0m\u001b[1;33m)\u001b[0m\u001b[1;33m:\u001b[0m\u001b[1;33m\u001b[0m\u001b[0m\n",
      "\u001b[1;32mc:\\users\\dell\\appdata\\local\\programs\\python\\python36\\lib\\site-packages\\gensim\\models\\wrappers\\ldamallet.py\u001b[0m in \u001b[0;36mtrain\u001b[1;34m(self, corpus)\u001b[0m\n\u001b[0;32m    283\u001b[0m         \u001b[0mlogger\u001b[0m\u001b[1;33m.\u001b[0m\u001b[0minfo\u001b[0m\u001b[1;33m(\u001b[0m\u001b[1;34m\"training MALLET LDA with %s\"\u001b[0m\u001b[1;33m,\u001b[0m \u001b[0mcmd\u001b[0m\u001b[1;33m)\u001b[0m\u001b[1;33m\u001b[0m\u001b[0m\n\u001b[0;32m    284\u001b[0m         \u001b[0mcheck_output\u001b[0m\u001b[1;33m(\u001b[0m\u001b[0margs\u001b[0m\u001b[1;33m=\u001b[0m\u001b[0mcmd\u001b[0m\u001b[1;33m,\u001b[0m \u001b[0mshell\u001b[0m\u001b[1;33m=\u001b[0m\u001b[1;32mTrue\u001b[0m\u001b[1;33m)\u001b[0m\u001b[1;33m\u001b[0m\u001b[0m\n\u001b[1;32m--> 285\u001b[1;33m         \u001b[0mself\u001b[0m\u001b[1;33m.\u001b[0m\u001b[0mword_topics\u001b[0m \u001b[1;33m=\u001b[0m \u001b[0mself\u001b[0m\u001b[1;33m.\u001b[0m\u001b[0mload_word_topics\u001b[0m\u001b[1;33m(\u001b[0m\u001b[1;33m)\u001b[0m\u001b[1;33m\u001b[0m\u001b[0m\n\u001b[0m\u001b[0;32m    286\u001b[0m         \u001b[1;31m# NOTE - we are still keeping the wordtopics variable to not break backward compatibility.\u001b[0m\u001b[1;33m\u001b[0m\u001b[1;33m\u001b[0m\u001b[0m\n\u001b[0;32m    287\u001b[0m         \u001b[1;31m# word_topics has replaced wordtopics throughout the code;\u001b[0m\u001b[1;33m\u001b[0m\u001b[1;33m\u001b[0m\u001b[0m\n",
      "\u001b[1;32mc:\\users\\dell\\appdata\\local\\programs\\python\\python36\\lib\\site-packages\\gensim\\models\\wrappers\\ldamallet.py\u001b[0m in \u001b[0;36mload_word_topics\u001b[1;34m(self)\u001b[0m\n\u001b[0;32m    341\u001b[0m             \u001b[0mword2id\u001b[0m \u001b[1;33m=\u001b[0m \u001b[0mrevdict\u001b[0m\u001b[1;33m(\u001b[0m\u001b[0mself\u001b[0m\u001b[1;33m.\u001b[0m\u001b[0mid2word\u001b[0m\u001b[1;33m)\u001b[0m\u001b[1;33m\u001b[0m\u001b[0m\n\u001b[0;32m    342\u001b[0m \u001b[1;33m\u001b[0m\u001b[0m\n\u001b[1;32m--> 343\u001b[1;33m         \u001b[1;32mwith\u001b[0m \u001b[0mutils\u001b[0m\u001b[1;33m.\u001b[0m\u001b[0mopen\u001b[0m\u001b[1;33m(\u001b[0m\u001b[0mself\u001b[0m\u001b[1;33m.\u001b[0m\u001b[0mfstate\u001b[0m\u001b[1;33m(\u001b[0m\u001b[1;33m)\u001b[0m\u001b[1;33m,\u001b[0m \u001b[1;34m'rb'\u001b[0m\u001b[1;33m)\u001b[0m \u001b[1;32mas\u001b[0m \u001b[0mfin\u001b[0m\u001b[1;33m:\u001b[0m\u001b[1;33m\u001b[0m\u001b[0m\n\u001b[0m\u001b[0;32m    344\u001b[0m             \u001b[0m_\u001b[0m \u001b[1;33m=\u001b[0m \u001b[0mnext\u001b[0m\u001b[1;33m(\u001b[0m\u001b[0mfin\u001b[0m\u001b[1;33m)\u001b[0m  \u001b[1;31m# header\u001b[0m\u001b[1;33m\u001b[0m\u001b[0m\n\u001b[0;32m    345\u001b[0m             \u001b[0mself\u001b[0m\u001b[1;33m.\u001b[0m\u001b[0malpha\u001b[0m \u001b[1;33m=\u001b[0m \u001b[0mnumpy\u001b[0m\u001b[1;33m.\u001b[0m\u001b[0mfromiter\u001b[0m\u001b[1;33m(\u001b[0m\u001b[0mnext\u001b[0m\u001b[1;33m(\u001b[0m\u001b[0mfin\u001b[0m\u001b[1;33m)\u001b[0m\u001b[1;33m.\u001b[0m\u001b[0msplit\u001b[0m\u001b[1;33m(\u001b[0m\u001b[1;33m)\u001b[0m\u001b[1;33m[\u001b[0m\u001b[1;36m2\u001b[0m\u001b[1;33m:\u001b[0m\u001b[1;33m]\u001b[0m\u001b[1;33m,\u001b[0m \u001b[0mdtype\u001b[0m\u001b[1;33m=\u001b[0m\u001b[0mfloat\u001b[0m\u001b[1;33m)\u001b[0m\u001b[1;33m\u001b[0m\u001b[0m\n",
      "\u001b[1;32mc:\\users\\dell\\appdata\\local\\programs\\python\\python36\\lib\\site-packages\\smart_open\\smart_open_lib.py\u001b[0m in \u001b[0;36mopen\u001b[1;34m(uri, mode, buffering, encoding, errors, newline, closefd, opener, ignore_ext, transport_params)\u001b[0m\n\u001b[0;32m    346\u001b[0m     \u001b[1;32mexcept\u001b[0m \u001b[0mKeyError\u001b[0m\u001b[1;33m:\u001b[0m\u001b[1;33m\u001b[0m\u001b[0m\n\u001b[0;32m    347\u001b[0m         \u001b[0mbinary_mode\u001b[0m \u001b[1;33m=\u001b[0m \u001b[0mmode\u001b[0m\u001b[1;33m\u001b[0m\u001b[0m\n\u001b[1;32m--> 348\u001b[1;33m     \u001b[0mbinary\u001b[0m\u001b[1;33m,\u001b[0m \u001b[0mfilename\u001b[0m \u001b[1;33m=\u001b[0m \u001b[0m_open_binary_stream\u001b[0m\u001b[1;33m(\u001b[0m\u001b[0muri\u001b[0m\u001b[1;33m,\u001b[0m \u001b[0mbinary_mode\u001b[0m\u001b[1;33m,\u001b[0m \u001b[0mtransport_params\u001b[0m\u001b[1;33m)\u001b[0m\u001b[1;33m\u001b[0m\u001b[0m\n\u001b[0m\u001b[0;32m    349\u001b[0m     \u001b[1;32mif\u001b[0m \u001b[0mignore_ext\u001b[0m\u001b[1;33m:\u001b[0m\u001b[1;33m\u001b[0m\u001b[0m\n\u001b[0;32m    350\u001b[0m         \u001b[0mdecompressed\u001b[0m \u001b[1;33m=\u001b[0m \u001b[0mbinary\u001b[0m\u001b[1;33m\u001b[0m\u001b[0m\n",
      "\u001b[1;32mc:\\users\\dell\\appdata\\local\\programs\\python\\python36\\lib\\site-packages\\smart_open\\smart_open_lib.py\u001b[0m in \u001b[0;36m_open_binary_stream\u001b[1;34m(uri, mode, transport_params)\u001b[0m\n\u001b[0;32m    542\u001b[0m \u001b[1;33m\u001b[0m\u001b[0m\n\u001b[0;32m    543\u001b[0m         \u001b[1;32mif\u001b[0m \u001b[0mparsed_uri\u001b[0m\u001b[1;33m.\u001b[0m\u001b[0mscheme\u001b[0m \u001b[1;33m==\u001b[0m \u001b[1;34m\"file\"\u001b[0m\u001b[1;33m:\u001b[0m\u001b[1;33m\u001b[0m\u001b[0m\n\u001b[1;32m--> 544\u001b[1;33m             \u001b[0mfobj\u001b[0m \u001b[1;33m=\u001b[0m \u001b[0mio\u001b[0m\u001b[1;33m.\u001b[0m\u001b[0mopen\u001b[0m\u001b[1;33m(\u001b[0m\u001b[0mparsed_uri\u001b[0m\u001b[1;33m.\u001b[0m\u001b[0muri_path\u001b[0m\u001b[1;33m,\u001b[0m \u001b[0mmode\u001b[0m\u001b[1;33m)\u001b[0m\u001b[1;33m\u001b[0m\u001b[0m\n\u001b[0m\u001b[0;32m    545\u001b[0m             \u001b[1;32mreturn\u001b[0m \u001b[0mfobj\u001b[0m\u001b[1;33m,\u001b[0m \u001b[0mfilename\u001b[0m\u001b[1;33m\u001b[0m\u001b[0m\n\u001b[0;32m    546\u001b[0m         \u001b[1;32melif\u001b[0m \u001b[0mparsed_uri\u001b[0m\u001b[1;33m.\u001b[0m\u001b[0mscheme\u001b[0m \u001b[1;32min\u001b[0m \u001b[0msmart_open_ssh\u001b[0m\u001b[1;33m.\u001b[0m\u001b[0mSCHEMES\u001b[0m\u001b[1;33m:\u001b[0m\u001b[1;33m\u001b[0m\u001b[0m\n",
      "\u001b[1;31mFileNotFoundError\u001b[0m: [Errno 2] No such file or directory: 'C:\\\\Users\\\\dell\\\\AppData\\\\Local\\\\Temp\\\\60faf3_state.mallet.gz'"
     ]
    }
   ],
   "source": [
    "# Download File: http://mallet.cs.umass.edu/dist/mallet-2.0.8.zip\n",
    "mallet_path = 'path/to/mallet-2.0.8/bin/mallet' # update this path\n",
    "ldamallet = gensim.models.wrappers.LdaMallet(mallet_path, corpus=corpus, num_topics=20, id2word=id2word)"
   ]
  },
  {
   "cell_type": "code",
   "execution_count": 22,
   "metadata": {},
   "outputs": [
    {
     "ename": "NameError",
     "evalue": "name 'ldamallet' is not defined",
     "output_type": "error",
     "traceback": [
      "\u001b[1;31m---------------------------------------------------------------------------\u001b[0m",
      "\u001b[1;31mNameError\u001b[0m                                 Traceback (most recent call last)",
      "\u001b[1;32m<ipython-input-22-3be558840627>\u001b[0m in \u001b[0;36m<module>\u001b[1;34m\u001b[0m\n\u001b[0;32m      1\u001b[0m \u001b[1;31m# Show Topics\u001b[0m\u001b[1;33m\u001b[0m\u001b[1;33m\u001b[0m\u001b[0m\n\u001b[1;32m----> 2\u001b[1;33m \u001b[0mpprint\u001b[0m\u001b[1;33m(\u001b[0m\u001b[0mldamallet\u001b[0m\u001b[1;33m.\u001b[0m\u001b[0mshow_topics\u001b[0m\u001b[1;33m(\u001b[0m\u001b[0mformatted\u001b[0m\u001b[1;33m=\u001b[0m\u001b[1;32mFalse\u001b[0m\u001b[1;33m)\u001b[0m\u001b[1;33m)\u001b[0m\u001b[1;33m\u001b[0m\u001b[0m\n\u001b[0m\u001b[0;32m      3\u001b[0m \u001b[1;33m\u001b[0m\u001b[0m\n\u001b[0;32m      4\u001b[0m \u001b[1;31m# Compute Coherence Score\u001b[0m\u001b[1;33m\u001b[0m\u001b[1;33m\u001b[0m\u001b[0m\n\u001b[0;32m      5\u001b[0m \u001b[0mcoherence_model_ldamallet\u001b[0m \u001b[1;33m=\u001b[0m \u001b[0mCoherenceModel\u001b[0m\u001b[1;33m(\u001b[0m\u001b[0mmodel\u001b[0m\u001b[1;33m=\u001b[0m\u001b[0mldamallet\u001b[0m\u001b[1;33m,\u001b[0m \u001b[0mtexts\u001b[0m\u001b[1;33m=\u001b[0m\u001b[0mdata_lemmatized\u001b[0m\u001b[1;33m,\u001b[0m \u001b[0mdictionary\u001b[0m\u001b[1;33m=\u001b[0m\u001b[0mid2word\u001b[0m\u001b[1;33m,\u001b[0m \u001b[0mcoherence\u001b[0m\u001b[1;33m=\u001b[0m\u001b[1;34m'c_v'\u001b[0m\u001b[1;33m)\u001b[0m\u001b[1;33m\u001b[0m\u001b[0m\n",
      "\u001b[1;31mNameError\u001b[0m: name 'ldamallet' is not defined"
     ]
    }
   ],
   "source": [
    "# Show Topics\n",
    "pprint(ldamallet.show_topics(formatted=False))\n",
    "\n",
    "# Compute Coherence Score\n",
    "coherence_model_ldamallet = CoherenceModel(model=ldamallet, texts=data_lemmatized, dictionary=id2word, coherence='c_v')\n",
    "coherence_ldamallet = coherence_model_ldamallet.get_coherence()\n",
    "print('\\nCoherence Score: ', coherence_ldamallet)"
   ]
  },
  {
   "cell_type": "code",
   "execution_count": null,
   "metadata": {},
   "outputs": [],
   "source": [
    "def compute_coherence_values(dictionary, corpus, texts, limit, start=2, step=3):\n",
    "    \"\"\"\n",
    "    Compute c_v coherence for various number of topics\n",
    "\n",
    "    Parameters:\n",
    "    ----------\n",
    "    dictionary : Gensim dictionary\n",
    "    corpus : Gensim corpus\n",
    "    texts : List of input texts\n",
    "    limit : Max num of topics\n",
    "\n",
    "    Returns:\n",
    "    -------\n",
    "    model_list : List of LDA topic models\n",
    "    coherence_values : Coherence values corresponding to the LDA model with respective number of topics\n",
    "    \"\"\"\n",
    "    coherence_values = []\n",
    "    model_list = []\n",
    "    for num_topics in range(start, limit, step):\n",
    "        model = gensim.models.wrappers.LdaMallet(mallet_path, corpus=corpus, num_topics=num_topics, id2word=id2word)\n",
    "        model_list.append(model)\n",
    "        coherencemodel = CoherenceModel(model=model, texts=texts, dictionary=dictionary, coherence='c_v')\n",
    "        coherence_values.append(coherencemodel.get_coherence())\n",
    "\n",
    "    return model_list, coherence_values"
   ]
  },
  {
   "cell_type": "code",
   "execution_count": null,
   "metadata": {},
   "outputs": [],
   "source": [
    "# Can take a long time to run.\n",
    "model_list, coherence_values = compute_coherence_values(dictionary=id2word, corpus=corpus, texts=data_lemmatized, start=2, limit=40, step=6)"
   ]
  },
  {
   "cell_type": "code",
   "execution_count": null,
   "metadata": {},
   "outputs": [],
   "source": [
    "# Show graph\n",
    "limit=40; start=2; step=6;\n",
    "x = range(start, limit, step)\n",
    "plt.plot(x, coherence_values)\n",
    "plt.xlabel(\"Num Topics\")\n",
    "plt.ylabel(\"Coherence score\")\n",
    "plt.legend((\"coherence_values\"), loc='best')\n",
    "plt.show()"
   ]
  },
  {
   "cell_type": "code",
   "execution_count": null,
   "metadata": {},
   "outputs": [],
   "source": [
    "# Print the coherence scores\n",
    "for m, cv in zip(x, coherence_values):\n",
    "    print(\"Num Topics =\", m, \" has Coherence Value of\", round(cv, 4))"
   ]
  },
  {
   "cell_type": "code",
   "execution_count": null,
   "metadata": {},
   "outputs": [],
   "source": [
    "# Select the model and print the topics\n",
    "optimal_model = model_list[3]\n",
    "model_topics = optimal_model.show_topics(formatted=False)\n",
    "pprint(optimal_model.print_topics(num_words=10))"
   ]
  },
  {
   "cell_type": "code",
   "execution_count": null,
   "metadata": {},
   "outputs": [],
   "source": [
    "def format_topics_sentences(ldamodel=lda_model, corpus=corpus, texts=data):\n",
    "    # Init output\n",
    "    sent_topics_df = pd.DataFrame()\n",
    "\n",
    "    # Get main topic in each document\n",
    "    for i, row in enumerate(ldamodel[corpus]):\n",
    "        row = sorted(row, key=lambda x: (x[1]), reverse=True)\n",
    "        # Get the Dominant topic, Perc Contribution and Keywords for each document\n",
    "        for j, (topic_num, prop_topic) in enumerate(row):\n",
    "            if j == 0:  # => dominant topic\n",
    "                wp = ldamodel.show_topic(topic_num)\n",
    "                topic_keywords = \", \".join([word for word, prop in wp])\n",
    "                sent_topics_df = sent_topics_df.append(pd.Series([int(topic_num), round(prop_topic,4), topic_keywords]), ignore_index=True)\n",
    "            else:\n",
    "                break\n",
    "    sent_topics_df.columns = ['Dominant_Topic', 'Perc_Contribution', 'Topic_Keywords']\n",
    "\n",
    "    # Add original text to the end of the output\n",
    "    contents = pd.Series(texts)\n",
    "    sent_topics_df = pd.concat([sent_topics_df, contents], axis=1)\n",
    "    return(sent_topics_df)\n",
    "\n",
    "\n",
    "df_topic_sents_keywords = format_topics_sentences(ldamodel=optimal_model, corpus=corpus, texts=data)\n",
    "\n",
    "# Format\n",
    "df_dominant_topic = df_topic_sents_keywords.reset_index()\n",
    "df_dominant_topic.columns = ['Document_No', 'Dominant_Topic', 'Topic_Perc_Contrib', 'Keywords', 'Text']\n",
    "\n",
    "# Show\n",
    "df_dominant_topic.head(10)"
   ]
  },
  {
   "cell_type": "code",
   "execution_count": null,
   "metadata": {},
   "outputs": [],
   "source": [
    "# Group top 5 sentences under each topic\n",
    "sent_topics_sorteddf_mallet = pd.DataFrame()\n",
    "\n",
    "sent_topics_outdf_grpd = df_topic_sents_keywords.groupby('Dominant_Topic')\n",
    "\n",
    "for i, grp in sent_topics_outdf_grpd:\n",
    "    sent_topics_sorteddf_mallet = pd.concat([sent_topics_sorteddf_mallet, \n",
    "                                             grp.sort_values(['Perc_Contribution'], ascending=[0]).head(1)], \n",
    "                                            axis=0)\n",
    "\n",
    "# Reset Index    \n",
    "sent_topics_sorteddf_mallet.reset_index(drop=True, inplace=True)\n",
    "\n",
    "# Format\n",
    "sent_topics_sorteddf_mallet.columns = ['Topic_Num', \"Topic_Perc_Contrib\", \"Keywords\", \"Text\"]\n",
    "\n",
    "# Show\n",
    "sent_topics_sorteddf_mallet.head()"
   ]
  },
  {
   "cell_type": "code",
   "execution_count": null,
   "metadata": {},
   "outputs": [],
   "source": [
    "# Number of Documents for Each Topic\n",
    "topic_counts = df_topic_sents_keywords['Dominant_Topic'].value_counts()\n",
    "\n",
    "# Percentage of Documents for Each Topic\n",
    "topic_contribution = round(topic_counts/topic_counts.sum(), 4)\n",
    "\n",
    "# Topic Number and Keywords\n",
    "topic_num_keywords = df_topic_sents_keywords[['Dominant_Topic', 'Topic_Keywords']]\n",
    "\n",
    "# Concatenate Column wise\n",
    "df_dominant_topics = pd.concat([topic_num_keywords, topic_counts, topic_contribution], axis=1)\n",
    "\n",
    "# Change Column names\n",
    "df_dominant_topics.columns = ['Dominant_Topic', 'Topic_Keywords', 'Num_Documents', 'Perc_Documents']\n",
    "\n",
    "# Show\n",
    "df_dominant_topics"
   ]
  },
  {
   "cell_type": "code",
   "execution_count": null,
   "metadata": {},
   "outputs": [],
   "source": []
  }
 ],
 "metadata": {
  "kernelspec": {
   "display_name": "Python 3",
   "language": "python",
   "name": "python3"
  },
  "language_info": {
   "codemirror_mode": {
    "name": "ipython",
    "version": 3
   },
   "file_extension": ".py",
   "mimetype": "text/x-python",
   "name": "python",
   "nbconvert_exporter": "python",
   "pygments_lexer": "ipython3",
   "version": "3.6.0"
  }
 },
 "nbformat": 4,
 "nbformat_minor": 2
}
